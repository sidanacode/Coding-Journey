{
 "cells": [
  {
   "cell_type": "markdown",
   "metadata": {},
   "source": [
    "a program that will determine weather when the value of \n",
    "temperature and humidity is provided by the user. \n",
    "TEMPERATURE(C)      HUMIDITY(%)      WEATHER \n",
    " \n",
    "      >= 30                             >=90                Hot and Humid \n",
    "      >= 30                             < 90                 Hot \n",
    "      <30                                >= 90               Cool and Humid \n",
    "      <30                                 <90                 Cool "
   ]
  },
  {
   "cell_type": "code",
   "execution_count": 1,
   "metadata": {},
   "outputs": [
    {
     "name": "stdout",
     "output_type": "stream",
     "text": [
      "HOT\n"
     ]
    }
   ],
   "source": [
    "humi = float(input('Enter humidity'))\n",
    "temp = float(input(\"Enter temperature\"))\n",
    "if(temp>=30 and humi >=90):\n",
    "    print(\"Hot and Humid\")\n",
    "elif(temp>=30 and humi <90):\n",
    "    print(\"HOT\")\n",
    "elif(temp<30 and humi >=90):\n",
    "    print(\"Cool and Humid\")\n",
    "elif(temp<30 and humi <90):\n",
    "    print(\"Cool\")"
   ]
  },
  {
   "cell_type": "code",
   "execution_count": null,
   "metadata": {},
   "outputs": [],
   "source": []
  }
 ],
 "metadata": {
  "kernelspec": {
   "display_name": "Python 3",
   "language": "python",
   "name": "python3"
  },
  "language_info": {
   "codemirror_mode": {
    "name": "ipython",
    "version": 3
   },
   "file_extension": ".py",
   "mimetype": "text/x-python",
   "name": "python",
   "nbconvert_exporter": "python",
   "pygments_lexer": "ipython3",
   "version": "3.12.1"
  }
 },
 "nbformat": 4,
 "nbformat_minor": 2
}
