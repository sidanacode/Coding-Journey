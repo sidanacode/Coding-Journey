{
 "cells": [
  {
   "cell_type": "markdown",
   "metadata": {},
   "source": [
    "program to reverse a n digit number"
   ]
  },
  {
   "cell_type": "code",
   "execution_count": 8,
   "metadata": {},
   "outputs": [
    {
     "name": "stdout",
     "output_type": "stream",
     "text": [
      "og number is 886 and reversed num is 688\n"
     ]
    }
   ],
   "source": [
    "num = int(input(\"Enter a number \"))\n",
    "n = num\n",
    "rev = []\n",
    "while num > 0 :\n",
    "    rem = num % 10\n",
    "    rev.append(rem)\n",
    "    num = num // 10\n",
    "rev = int(''.join(map(str , rev)))\n",
    " # syntax of map(function,iterable) in this case iterable is list and function is string(str)\n",
    " #syntax of join -> 'seprator'.join() it joins strings with a sperator in this case seperator has no space \n",
    " # so all digits combined \n",
    " # then using a int fn i have done type conversion\n",
    "\n",
    "print(f\"og number is {n} and reversed num is {rev}\")"
   ]
  }
 ],
 "metadata": {
  "kernelspec": {
   "display_name": "Python 3",
   "language": "python",
   "name": "python3"
  },
  "language_info": {
   "codemirror_mode": {
    "name": "ipython",
    "version": 3
   },
   "file_extension": ".py",
   "mimetype": "text/x-python",
   "name": "python",
   "nbconvert_exporter": "python",
   "pygments_lexer": "ipython3",
   "version": "3.12.1"
  }
 },
 "nbformat": 4,
 "nbformat_minor": 2
}
