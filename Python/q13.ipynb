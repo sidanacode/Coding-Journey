{
 "cells": [
  {
   "cell_type": "markdown",
   "metadata": {},
   "source": [
    "Write  a program that will tell whether the given number is divisible \n",
    "by 3 & 6.\n"
   ]
  },
  {
   "cell_type": "code",
   "execution_count": 3,
   "metadata": {},
   "outputs": [
    {
     "name": "stdout",
     "output_type": "stream",
     "text": [
      "36 is divisible by 3 and 6\n"
     ]
    }
   ],
   "source": [
    "num = int(input(\"enter a number\"))\n",
    "if(num%3==0 and num%6==0):\n",
    "    print(f\"{num} is divisible by 3 and 6\")\n",
    "elif(num%6==0):\n",
    "    print(f\"{num} is divisble by 6\")\n",
    "elif(num%3==0):\n",
    "    print(f\"{num} is divisble by 3\")\n",
    "else:\n",
    "    print(f\"{num} is not divisble by 3 or 6\")"
   ]
  },
  {
   "cell_type": "code",
   "execution_count": null,
   "metadata": {},
   "outputs": [],
   "source": []
  }
 ],
 "metadata": {
  "kernelspec": {
   "display_name": "Python 3",
   "language": "python",
   "name": "python3"
  },
  "language_info": {
   "codemirror_mode": {
    "name": "ipython",
    "version": 3
   },
   "file_extension": ".py",
   "mimetype": "text/x-python",
   "name": "python",
   "nbconvert_exporter": "python",
   "pygments_lexer": "ipython3",
   "version": "3.12.1"
  }
 },
 "nbformat": 4,
 "nbformat_minor": 2
}
