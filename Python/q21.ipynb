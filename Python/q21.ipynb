{
 "cells": [
  {
   "cell_type": "markdown",
   "metadata": {},
   "source": [
    "Write a menu driven program - 1.cm to ft  2.kl to miles  3.usd to inr  \n",
    "4.exit"
   ]
  },
  {
   "cell_type": "code",
   "execution_count": 9,
   "metadata": {},
   "outputs": [],
   "source": [
    "## function for cm to ft conversion\n",
    "def cm_to_ft ():\n",
    "    val = float(input(\"Enter a Value in Centimeter\"))\n",
    "    return f\"{val*0.0328084}ft\"\n",
    "\n",
    "## function for km to miles conversion\n",
    "def km_to_miles ():\n",
    "    val = float(input(\"Enter a value in km\"))\n",
    "    return f\"{val*0.621371}miles\"\n",
    "\n",
    "## function for usd to inr conversion\n",
    "def usd_to_inr():\n",
    "    val = float(input(\"Enter a value in usd\"))\n",
    "    return f\"{val*85}inr\"\n",
    "\n",
    "## exit function \n",
    "def exit():\n",
    "    return \"Thankyou for using Conversion App\"\n",
    "\n",
    "## Conversion app\n",
    "def conversion_app():\n",
    "    user_input = int(input(\"Enter the index of option\"))\n",
    "    if(user_input==1):\n",
    "        return cm_to_ft()\n",
    "    elif(user_input==2):\n",
    "        return km_to_miles()\n",
    "    elif(user_input==3):\n",
    "        return usd_to_inr()\n",
    "    elif(user_input==4):\n",
    "        return exit()\n",
    "    else:\n",
    "        return \"Enter a correct index\"\n",
    "\n",
    "         \n"
   ]
  },
  {
   "cell_type": "code",
   "execution_count": 6,
   "metadata": {},
   "outputs": [
    {
     "data": {
      "text/plain": [
       "'0.7217848ft'"
      ]
     },
     "execution_count": 6,
     "metadata": {},
     "output_type": "execute_result"
    }
   ],
   "source": [
    "cm_to_ft()"
   ]
  },
  {
   "cell_type": "code",
   "execution_count": 8,
   "metadata": {},
   "outputs": [
    {
     "name": "stdout",
     "output_type": "stream",
     "text": [
      "Choose a option :  1. cm to ft 2. km to miles 3. usd to inr 4. Exit\n"
     ]
    },
    {
     "data": {
      "text/plain": [
       "'Thankyou for using Conversion App'"
      ]
     },
     "execution_count": 8,
     "metadata": {},
     "output_type": "execute_result"
    }
   ],
   "source": [
    "print(\"Choose a option : \",\"1. cm to ft\", \"2. km to miles\",\"3. usd to inr\",\"4. Exit\")\n",
    "conversion_app()"
   ]
  },
  {
   "cell_type": "code",
   "execution_count": null,
   "metadata": {},
   "outputs": [],
   "source": []
  }
 ],
 "metadata": {
  "kernelspec": {
   "display_name": "Python 3",
   "language": "python",
   "name": "python3"
  },
  "language_info": {
   "codemirror_mode": {
    "name": "ipython",
    "version": 3
   },
   "file_extension": ".py",
   "mimetype": "text/x-python",
   "name": "python",
   "nbconvert_exporter": "python",
   "pygments_lexer": "ipython3",
   "version": "3.13.2"
  }
 },
 "nbformat": 4,
 "nbformat_minor": 2
}
