{
 "cells": [
  {
   "cell_type": "markdown",
   "metadata": {},
   "source": [
    "Write a menu driven program - 1.cm to ft  2.kl to miles  3.usd to inr  \n",
    "4.exit"
   ]
  },
  {
   "cell_type": "code",
   "execution_count": 4,
   "metadata": {},
   "outputs": [
    {
     "ename": "ValueError",
     "evalue": "invalid literal for int() with base 10: ''",
     "output_type": "error",
     "traceback": [
      "\u001b[31m---------------------------------------------------------------------------\u001b[39m",
      "\u001b[31mValueError\u001b[39m                                Traceback (most recent call last)",
      "\u001b[36mCell\u001b[39m\u001b[36m \u001b[39m\u001b[32mIn[4]\u001b[39m\u001b[32m, line 36\u001b[39m\n\u001b[32m     31\u001b[39m     \u001b[38;5;28;01melse\u001b[39;00m:\n\u001b[32m     32\u001b[39m         \u001b[38;5;28;01mreturn\u001b[39;00m \u001b[33m\"\u001b[39m\u001b[33mEnter a correct index\u001b[39m\u001b[33m\"\u001b[39m\n\u001b[32m---> \u001b[39m\u001b[32m36\u001b[39m conversion_app = \u001b[43mconversion_app\u001b[49m\u001b[43m(\u001b[49m\u001b[43m)\u001b[49m\n",
      "\u001b[36mCell\u001b[39m\u001b[36m \u001b[39m\u001b[32mIn[4]\u001b[39m\u001b[32m, line 22\u001b[39m, in \u001b[36mconversion_app\u001b[39m\u001b[34m()\u001b[39m\n\u001b[32m     21\u001b[39m \u001b[38;5;28;01mdef\u001b[39;00m\u001b[38;5;250m \u001b[39m\u001b[34mconversion_app\u001b[39m():\n\u001b[32m---> \u001b[39m\u001b[32m22\u001b[39m     user_input = \u001b[38;5;28;43mint\u001b[39;49m\u001b[43m(\u001b[49m\u001b[38;5;28;43minput\u001b[39;49m\u001b[43m(\u001b[49m\u001b[33;43m\"\u001b[39;49m\u001b[33;43mEnter the index of option\u001b[39;49m\u001b[33;43m\"\u001b[39;49m\u001b[43m)\u001b[49m\u001b[43m)\u001b[49m\n\u001b[32m     23\u001b[39m     \u001b[38;5;28;01mif\u001b[39;00m(user_input==\u001b[32m1\u001b[39m):\n\u001b[32m     24\u001b[39m         \u001b[38;5;28;01mreturn\u001b[39;00m cm_to_ft()\n",
      "\u001b[31mValueError\u001b[39m: invalid literal for int() with base 10: ''"
     ]
    }
   ],
   "source": [
    "## function for cm to ft conversion\n",
    "def cm_to_ft ():\n",
    "    val = float(input(\"Enter a Value in Centimeter\"))\n",
    "    return f\"{val*0.0328084}ft\"\n",
    "\n",
    "## function for km to miles conversion\n",
    "def km_to_miles ():\n",
    "    val = float(input(\"Enter a value in km\"))\n",
    "    return f\"{val*0.621371}miles\"\n",
    "\n",
    "## function for usd to inr conversion\n",
    "def usd_to_inr():\n",
    "    val = float(input(\"Enter a value in usd\"))\n",
    "    return f\"{val*85}inr\"\n",
    "\n",
    "## exit function \n",
    "def exit():\n",
    "    return \"Thankyou for using Conversion App\"\n",
    "\n",
    "## Conversion app\n",
    "def conversion_app():\n",
    "    user_input = int(input(\"Enter the index of option\"))\n",
    "    if(user_input==1):\n",
    "        return cm_to_ft()\n",
    "    elif(user_input==2):\n",
    "        return km_to_miles()\n",
    "    elif(user_input==3):\n",
    "        return usd_to_inr()\n",
    "    elif(user_input==4):\n",
    "        return exit()\n",
    "    else:\n",
    "        return \"Enter a correct index\"\n",
    "\n",
    "         \n"
   ]
  },
  {
   "cell_type": "code",
   "execution_count": 6,
   "metadata": {},
   "outputs": [
    {
     "data": {
      "text/plain": [
       "'0.7217848ft'"
      ]
     },
     "execution_count": 6,
     "metadata": {},
     "output_type": "execute_result"
    }
   ],
   "source": [
    "cm_to_ft()"
   ]
  },
  {
   "cell_type": "code",
   "execution_count": 8,
   "metadata": {},
   "outputs": [
    {
     "name": "stdout",
     "output_type": "stream",
     "text": [
      "Choose a option :  1. cm to ft 2. km to miles 3. usd to inr 4. Exit\n"
     ]
    },
    {
     "data": {
      "text/plain": [
       "'Thankyou for using Conversion App'"
      ]
     },
     "execution_count": 8,
     "metadata": {},
     "output_type": "execute_result"
    }
   ],
   "source": [
    "print(\"Choose a option : \",\"1. cm to ft\", \"2. km to miles\",\"3. usd to inr\",\"4. Exit\")\n",
    "conversion_app()"
   ]
  },
  {
   "cell_type": "code",
   "execution_count": null,
   "metadata": {},
   "outputs": [],
   "source": []
  }
 ],
 "metadata": {
  "kernelspec": {
   "display_name": "Python 3",
   "language": "python",
   "name": "python3"
  },
  "language_info": {
   "codemirror_mode": {
    "name": "ipython",
    "version": 3
   },
   "file_extension": ".py",
   "mimetype": "text/x-python",
   "name": "python",
   "nbconvert_exporter": "python",
   "pygments_lexer": "ipython3",
   "version": "3.13.2"
  }
 },
 "nbformat": 4,
 "nbformat_minor": 2
}
