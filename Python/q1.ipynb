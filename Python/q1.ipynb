{
 "cells": [
  {
   "cell_type": "markdown",
   "metadata": {},
   "source": [
    "User Will Input 3 ages. Find the oldest one"
   ]
  },
  {
   "cell_type": "code",
   "execution_count": 12,
   "metadata": {},
   "outputs": [
    {
     "name": "stdout",
     "output_type": "stream",
     "text": [
      "second Person is oldest with age 33\n"
     ]
    }
   ],
   "source": [
    "age1 = int(input(\"Enter age of First person\"))\n",
    "age2 = int(input(\"Enter age of Second person\"))\n",
    "age3 = int(input(\"Enter age of Third person\"))\n",
    "\n",
    "if (((age1>age2) and (age1>age3)) ) :\n",
    "    print(\"first Person is Oldest with age {}\".format(age1))\n",
    "elif(((age2>age1) and (age2>age3)) ) :\n",
    "    print(\"second Person is oldest with age {}\".format(age2))\n",
    "elif(((age3>age1) and (age3 > age2)) )  :\n",
    "    print(\"Third Person is oldest with age {}\".format(age3))\n",
    "elif(age3==age2==age1):\n",
    "    print(\"All are of same age\")\n",
    "\n"
   ]
  },
  {
   "cell_type": "markdown",
   "metadata": {},
   "source": [
    "chatgpt optimize solution \n",
    "chatgpt used max funciton\n"
   ]
  },
  {
   "cell_type": "code",
   "execution_count": 10,
   "metadata": {},
   "outputs": [
    {
     "name": "stdout",
     "output_type": "stream",
     "text": [
      "Second person is the oldest with age 44\n"
     ]
    }
   ],
   "source": [
    "age1 = int(input(\"Enter age of First person: \"))\n",
    "age2 = int(input(\"Enter age of Second person: \"))\n",
    "age3 = int(input(\"Enter age of Third person: \"))\n",
    "\n",
    "# Find the oldest age\n",
    "max_age = max(age1, age2, age3)\n",
    "\n",
    "if age1 == age2 == age3:\n",
    "    print(\"All are of the same age\")\n",
    "elif max_age == age1:\n",
    "    print(f\"First person is the oldest with age {age1}\")\n",
    "elif max_age == age2:\n",
    "    print(f\"Second person is the oldest with age {age2}\")\n",
    "elif max_age == age3:\n",
    "    print(f\"Third person is the oldest with age {age3}\")\n"
   ]
  },
  {
   "cell_type": "code",
   "execution_count": null,
   "metadata": {},
   "outputs": [],
   "source": []
  }
 ],
 "metadata": {
  "kernelspec": {
   "display_name": "Python 3",
   "language": "python",
   "name": "python3"
  },
  "language_info": {
   "codemirror_mode": {
    "name": "ipython",
    "version": 3
   },
   "file_extension": ".py",
   "mimetype": "text/x-python",
   "name": "python",
   "nbconvert_exporter": "python",
   "pygments_lexer": "ipython3",
   "version": "3.12.1"
  }
 },
 "nbformat": 4,
 "nbformat_minor": 2
}
