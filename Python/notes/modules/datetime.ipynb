{
 "cells": [
  {
   "cell_type": "code",
   "execution_count": 3,
   "id": "a363a9b2-d36e-475c-84ea-8b34dfbe6669",
   "metadata": {},
   "outputs": [],
   "source": [
    "# here we used inbuilt module to import datetime class\n",
    "from datetime import datetime"
   ]
  },
  {
   "cell_type": "code",
   "execution_count": 26,
   "id": "41e42273-aea4-467d-ac24-99d265aa291f",
   "metadata": {},
   "outputs": [],
   "source": [
    "today_date = datetime.now().date()"
   ]
  },
  {
   "cell_type": "code",
   "execution_count": 27,
   "id": "11d48cd5-fafd-4cd3-b023-7c70fbfef980",
   "metadata": {},
   "outputs": [
    {
     "data": {
      "text/plain": [
       "2025"
      ]
     },
     "execution_count": 27,
     "metadata": {},
     "output_type": "execute_result"
    }
   ],
   "source": [
    "date.year"
   ]
  },
  {
   "cell_type": "code",
   "execution_count": 28,
   "id": "ce07597c-2f28-4363-89ab-d22ebfcc4e3b",
   "metadata": {},
   "outputs": [
    {
     "data": {
      "text/plain": [
       "16"
      ]
     },
     "execution_count": 28,
     "metadata": {},
     "output_type": "execute_result"
    }
   ],
   "source": [
    "date.day"
   ]
  },
  {
   "cell_type": "code",
   "execution_count": 29,
   "id": "9e1ab03f-bcdc-491d-acab-e63d00b02baf",
   "metadata": {},
   "outputs": [
    {
     "data": {
      "text/plain": [
       "3"
      ]
     },
     "execution_count": 29,
     "metadata": {},
     "output_type": "execute_result"
    }
   ],
   "source": [
    "date.month"
   ]
  },
  {
   "cell_type": "markdown",
   "id": "db1359eb-22bc-4318-b78e-770a1fa2389f",
   "metadata": {},
   "source": [
    "- **Use relativedelta when working with months, years, and flexible date adjustments.**\n",
    "- **Use timedelta when dealing with fixed durations (days, hours, minutes, seconds).**"
   ]
  },
  {
   "cell_type": "code",
   "execution_count": 30,
   "id": "0612d138-15eb-4ab2-8101-3091adc102c7",
   "metadata": {},
   "outputs": [],
   "source": [
    "# class timedelta\n",
    "from datetime import timedelta"
   ]
  },
  {
   "cell_type": "code",
   "execution_count": 40,
   "id": "1fde546f-b75f-45b9-8c49-e405cdedbd40",
   "metadata": {},
   "outputs": [],
   "source": [
    "tommorow = datetime(2025,3,17).date()"
   ]
  },
  {
   "cell_type": "code",
   "execution_count": 41,
   "id": "f8d25fa5-9e3a-4f87-ade8-8c0c94e9a3ce",
   "metadata": {},
   "outputs": [
    {
     "data": {
      "text/plain": [
       "datetime.date(2025, 3, 26)"
      ]
     },
     "execution_count": 41,
     "metadata": {},
     "output_type": "execute_result"
    }
   ],
   "source": [
    "today_date+timedelta(days=10)"
   ]
  },
  {
   "cell_type": "code",
   "execution_count": 42,
   "id": "086df27d-08c1-4726-b053-0e99db6cbd00",
   "metadata": {},
   "outputs": [
    {
     "data": {
      "text/plain": [
       "datetime.date(2025, 3, 6)"
      ]
     },
     "execution_count": 42,
     "metadata": {},
     "output_type": "execute_result"
    }
   ],
   "source": [
    "today_date-timedelta(days=10)"
   ]
  },
  {
   "cell_type": "code",
   "execution_count": 43,
   "id": "1db81a7f-b380-4a86-b53f-e0f041a4c054",
   "metadata": {},
   "outputs": [],
   "source": [
    "# relativedelta\n",
    "from dateutil.relativedelta import relativedelta"
   ]
  },
  {
   "cell_type": "code",
   "execution_count": 44,
   "id": "0771737b-5562-4828-801b-2044738c6d4d",
   "metadata": {},
   "outputs": [],
   "source": [
    "after_one_yr = today_date + relativedelta(years = 1)"
   ]
  },
  {
   "cell_type": "code",
   "execution_count": 45,
   "id": "19d8d178-6011-488b-8cbc-63a69dc03cab",
   "metadata": {},
   "outputs": [
    {
     "data": {
      "text/plain": [
       "datetime.date(2026, 3, 16)"
      ]
     },
     "execution_count": 45,
     "metadata": {},
     "output_type": "execute_result"
    }
   ],
   "source": [
    "after_one_yr"
   ]
  },
  {
   "cell_type": "code",
   "execution_count": 85,
   "id": "7ccc5372-dba0-4853-b2e3-f3d00d11c54f",
   "metadata": {},
   "outputs": [
    {
     "data": {
      "text/plain": [
       "1"
      ]
     },
     "execution_count": 85,
     "metadata": {},
     "output_type": "execute_result"
    }
   ],
   "source": [
    "## diffrence between two dates\n",
    "(tommorow - today_date).days"
   ]
  },
  {
   "cell_type": "code",
   "execution_count": 47,
   "id": "bba061d6-03b6-41e3-b1b1-52ba88b92b97",
   "metadata": {},
   "outputs": [
    {
     "name": "stdin",
     "output_type": "stream",
     "text": [
      "Enter a date in format DD-MM-YYYY 18-07-2002\n"
     ]
    }
   ],
   "source": [
    "usr_input = input(\"Enter a date in format DD-MM-YYYY\")"
   ]
  },
  {
   "cell_type": "code",
   "execution_count": 51,
   "id": "7e76d8a8-08af-4f14-b283-5da2104564de",
   "metadata": {},
   "outputs": [],
   "source": [
    "formated_date = datetime.strptime(usr_input,\"%d-%m-%Y\") # convert string to date object - using strptime method"
   ]
  },
  {
   "cell_type": "code",
   "execution_count": 57,
   "id": "c865984d-935e-47eb-9911-6c407b57c634",
   "metadata": {},
   "outputs": [
    {
     "data": {
      "text/plain": [
       "datetime.datetime"
      ]
     },
     "execution_count": 57,
     "metadata": {},
     "output_type": "execute_result"
    }
   ],
   "source": [
    "type(formated_date)"
   ]
  },
  {
   "cell_type": "code",
   "execution_count": 53,
   "id": "0d26f7d0-7f4b-4f96-9cd4-00df5349c3af",
   "metadata": {},
   "outputs": [],
   "source": [
    "check=formated_date.strftime(\"%d-%m-%Y\") # format a date object to a string"
   ]
  },
  {
   "cell_type": "code",
   "execution_count": 55,
   "id": "7787e6c0-80c7-4908-aecd-a8540334ec8e",
   "metadata": {},
   "outputs": [
    {
     "data": {
      "text/plain": [
       "'18-07-2002'"
      ]
     },
     "execution_count": 55,
     "metadata": {},
     "output_type": "execute_result"
    }
   ],
   "source": [
    "check"
   ]
  },
  {
   "cell_type": "code",
   "execution_count": 56,
   "id": "fd281425-f416-45f9-91af-33f6a4c69a9c",
   "metadata": {},
   "outputs": [
    {
     "data": {
      "text/plain": [
       "str"
      ]
     },
     "execution_count": 56,
     "metadata": {},
     "output_type": "execute_result"
    }
   ],
   "source": [
    "type(check)"
   ]
  },
  {
   "cell_type": "code",
   "execution_count": 58,
   "id": "74c9eae4-84e3-40ce-95ac-5b6703f8b36a",
   "metadata": {},
   "outputs": [],
   "source": [
    "dates = [\n",
    "    \"2025-03-01\", \"2025-03-02\", \"2025-03-03\", \"2025-03-05\", \"2025-03-06\",\n",
    "    \"2025-03-10\", \"2025-03-11\", \"2025-03-12\", \"2025-03-15\", \"2025-03-16\",\n",
    "    \"2025-03-17\", \"2025-03-18\", \"2025-03-22\", \"2025-03-23\", \"2025-03-24\",\n",
    "    \"2025-03-30\", \"2025-03-31\"\n",
    "]\n"
   ]
  },
  {
   "cell_type": "code",
   "execution_count": 60,
   "id": "4eb43f50-281d-45d9-b6d7-26ea72020038",
   "metadata": {},
   "outputs": [
    {
     "data": {
      "text/plain": [
       "str"
      ]
     },
     "execution_count": 60,
     "metadata": {},
     "output_type": "execute_result"
    }
   ],
   "source": [
    "type(dates[0])\n",
    "    "
   ]
  },
  {
   "cell_type": "code",
   "execution_count": 98,
   "id": "64d9d280-5b0a-4e23-a5c8-4e8cc1f33e60",
   "metadata": {},
   "outputs": [],
   "source": [
    "def longest_streak(dates):\n",
    "    current_streak = 1\n",
    "    max_streak = 1\n",
    "    streak_dates = []\n",
    "    for date in dates:\n",
    "        streak_dates.append(datetime.strptime(date,\"%Y-%m-%d\"))\n",
    "    \n",
    "    streak_dates = sorted(streak_dates)\n",
    "   \n",
    "    for i in range(0,len(streak_dates)-1):\n",
    "        if (streak_dates[i+1] - streak_dates[i]).days == 1:\n",
    "            current_streak +=1\n",
    "            max_streak = max(current_streak,max_streak)\n",
    "        else:\n",
    "            current_streak = 1\n",
    "    \n",
    "    return current_streak ,max_streak"
   ]
  },
  {
   "cell_type": "code",
   "execution_count": 99,
   "id": "ee6be21b-40e5-4213-82d6-11f7671ca48a",
   "metadata": {},
   "outputs": [
    {
     "data": {
      "text/plain": [
       "(2, 4)"
      ]
     },
     "execution_count": 99,
     "metadata": {},
     "output_type": "execute_result"
    }
   ],
   "source": [
    "longest_streak(dates)"
   ]
  },
  {
   "cell_type": "code",
   "execution_count": 100,
   "id": "4b3067cb-c407-40e2-85b7-732c458c476e",
   "metadata": {},
   "outputs": [],
   "source": [
    "dates = [\n",
    "    \"2025-03-01\", \"2025-03-02\", \"2025-03-03\", \"2025-03-05\", \"2025-03-06\",\n",
    "    \"2025-03-10\", \"2025-03-11\", \"2025-03-12\", \"2025-03-15\", \"2025-03-16\",\n",
    "    \"2025-03-17\", \"2025-03-18\", \"2025-03-22\", \"2025-03-23\", \"2025-03-24\",\n",
    "    \"2025-03-30\", \"2025-03-31\"\n",
    "]\n"
   ]
  },
  {
   "cell_type": "code",
   "execution_count": 101,
   "id": "79862586-bc16-49a8-939c-bb80c1034528",
   "metadata": {},
   "outputs": [
    {
     "data": {
      "text/plain": [
       "(2, 4)"
      ]
     },
     "execution_count": 101,
     "metadata": {},
     "output_type": "execute_result"
    }
   ],
   "source": [
    "longest_streak(dates)"
   ]
  },
  {
   "cell_type": "code",
   "execution_count": 25,
   "id": "33ee6356-399a-4a4f-849f-4e5e4c37c087",
   "metadata": {},
   "outputs": [],
   "source": [
    "\n",
    "def testfunc(n):\n",
    "    answer = []\n",
    "    for i in range(0,n+1):\n",
    "        answer.append(i)\n",
    "    for i in range(1,n+1):\n",
    "        if(i%3==0 and i%5==0):\n",
    "            answer[i] = (\"FizzBuzz\")\n",
    "            return answer\n",
    "        elif(i%3==0):\n",
    "            answer[i] = \"Fizz\"\n",
    "            return answer\n",
    "        elif(i%5==0):\n",
    "            answer[i]=\"Buzz\"\n",
    "            return answer\n",
    "        else:\n",
    "            answer[i]= f\"{i}\"\n",
    "            return answer"
   ]
  },
  {
   "cell_type": "code",
   "execution_count": 26,
   "id": "14387349-c207-46b2-94e7-b5ca6192a051",
   "metadata": {},
   "outputs": [],
   "source": [
    "testfunc(5);"
   ]
  },
  {
   "cell_type": "code",
   "execution_count": 18,
   "id": "c6715e46-7d42-4d2c-a810-f9e469ad88ab",
   "metadata": {},
   "outputs": [],
   "source": []
  },
  {
   "cell_type": "code",
   "execution_count": 19,
   "id": "69699e1d-7cee-4a9c-aeb1-070808d0acb5",
   "metadata": {},
   "outputs": [],
   "source": [
    "x = L[0]"
   ]
  },
  {
   "cell_type": "code",
   "execution_count": 20,
   "id": "4d46a4a5-cc5f-4bba-a55c-313624423842",
   "metadata": {},
   "outputs": [
    {
     "data": {
      "text/plain": [
       "'b'"
      ]
     },
     "execution_count": 20,
     "metadata": {},
     "output_type": "execute_result"
    }
   ],
   "source": [
    "x"
   ]
  },
  {
   "cell_type": "code",
   "execution_count": 5,
   "id": "e4cc75ba-7d0c-4147-8c87-31883f3677b3",
   "metadata": {},
   "outputs": [],
   "source": [
    "def twoSum(nums,target):\n",
    "    for i in range(0,len(nums)-1):\n",
    "         if(nums[i]+nums[i+1]==target):\n",
    "             return [i,i+1]"
   ]
  },
  {
   "cell_type": "code",
   "execution_count": 6,
   "id": "0dc450eb-c324-478f-9ad9-c2cf5c0d8fa9",
   "metadata": {},
   "outputs": [],
   "source": [
    "x = twoSum([3,2,3],6)"
   ]
  },
  {
   "cell_type": "code",
   "execution_count": 7,
   "id": "33097271-815c-494c-98e3-cfaa073ccda0",
   "metadata": {},
   "outputs": [],
   "source": [
    "x"
   ]
  },
  {
   "cell_type": "code",
   "execution_count": null,
   "id": "b29e0922-127e-40a7-befe-211a3e7f2ef2",
   "metadata": {},
   "outputs": [],
   "source": []
  }
 ],
 "metadata": {
  "kernelspec": {
   "display_name": "Python 3 (ipykernel)",
   "language": "python",
   "name": "python3"
  },
  "language_info": {
   "codemirror_mode": {
    "name": "ipython",
    "version": 3
   },
   "file_extension": ".py",
   "mimetype": "text/x-python",
   "name": "python",
   "nbconvert_exporter": "python",
   "pygments_lexer": "ipython3",
   "version": "3.13.2"
  }
 },
 "nbformat": 4,
 "nbformat_minor": 5
}
