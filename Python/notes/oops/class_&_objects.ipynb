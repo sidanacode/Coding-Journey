{
 "cells": [
  {
   "cell_type": "markdown",
   "id": "7757a9a8-743e-477b-8c9d-252afc814ace",
   "metadata": {},
   "source": [
    "# Objects and Classes"
   ]
  },
  {
   "cell_type": "markdown",
   "id": "e9cdba39-2695-47ee-b627-e6692796652e",
   "metadata": {},
   "source": [
    "### Class : Class is a blue print.\n",
    "### Object : Object is instance of Class.\n",
    "* Example-> Student of Class 12th, 12th is a class and student is an object of Class 12th"
   ]
  },
  {
   "cell_type": "code",
   "execution_count": 1,
   "id": "1eee7046-92e1-4f81-b516-e4d8adcc0042",
   "metadata": {},
   "outputs": [],
   "source": [
    "L = [1,2,3]"
   ]
  },
  {
   "cell_type": "code",
   "execution_count": 3,
   "id": "6edd2d6e-7630-4d99-a300-6e3a5c97eb6b",
   "metadata": {},
   "outputs": [
    {
     "ename": "AttributeError",
     "evalue": "'list' object has no attribute 'upper'",
     "output_type": "error",
     "traceback": [
      "\u001b[31m---------------------------------------------------------------------------\u001b[39m",
      "\u001b[31mAttributeError\u001b[39m                            Traceback (most recent call last)",
      "\u001b[36mCell\u001b[39m\u001b[36m \u001b[39m\u001b[32mIn[3]\u001b[39m\u001b[32m, line 1\u001b[39m\n\u001b[32m----> \u001b[39m\u001b[32m1\u001b[39m \u001b[43mL\u001b[49m\u001b[43m.\u001b[49m\u001b[43mupper\u001b[49m()\n",
      "\u001b[31mAttributeError\u001b[39m: 'list' object has no attribute 'upper'"
     ]
    }
   ],
   "source": [
    "L.upper()"
   ]
  },
  {
   "cell_type": "code",
   "execution_count": 4,
   "id": "fbb4d782-0527-464e-b0e6-c7e73b16521e",
   "metadata": {},
   "outputs": [
    {
     "ename": "AttributeError",
     "evalue": "'str' object has no attribute 'append'",
     "output_type": "error",
     "traceback": [
      "\u001b[31m---------------------------------------------------------------------------\u001b[39m",
      "\u001b[31mAttributeError\u001b[39m                            Traceback (most recent call last)",
      "\u001b[36mCell\u001b[39m\u001b[36m \u001b[39m\u001b[32mIn[4]\u001b[39m\u001b[32m, line 2\u001b[39m\n\u001b[32m      1\u001b[39m s = \u001b[33m'\u001b[39m\u001b[33mhello\u001b[39m\u001b[33m'\u001b[39m\n\u001b[32m----> \u001b[39m\u001b[32m2\u001b[39m \u001b[43ms\u001b[49m\u001b[43m.\u001b[49m\u001b[43mappend\u001b[49m(\u001b[33m'\u001b[39m\u001b[33mx\u001b[39m\u001b[33m'\u001b[39m)\n",
      "\u001b[31mAttributeError\u001b[39m: 'str' object has no attribute 'append'"
     ]
    }
   ],
   "source": [
    "s = 'hello'\n",
    "s.append('x')"
   ]
  },
  {
   "cell_type": "code",
   "execution_count": 5,
   "id": "93d3c916-429a-42c4-a9c5-d965328c0d87",
   "metadata": {},
   "outputs": [
    {
     "name": "stdout",
     "output_type": "stream",
     "text": [
      "<class 'list'>\n"
     ]
    }
   ],
   "source": [
    "print(type(L))"
   ]
  },
  {
   "cell_type": "markdown",
   "id": "e0a609ed-e234-4810-9922-6134d812e857",
   "metadata": {},
   "source": [
    "* **So here L is a object of class 'List'**\n",
    "* **And s is a object of class 'str'**"
   ]
  },
  {
   "cell_type": "markdown",
   "id": "d1efea06-5fe3-43ae-adb2-383717c83ca2",
   "metadata": {},
   "source": [
    "### **Syntax to Create a Class**"
   ]
  },
  {
   "cell_type": "code",
   "execution_count": 21,
   "id": "a5f74224-89cc-481f-9c0a-e61d46550695",
   "metadata": {},
   "outputs": [],
   "source": [
    "## class className :\n",
    "class Atm :\n",
    "    pass\n",
    "## here we have to write the code"
   ]
  },
  {
   "cell_type": "markdown",
   "id": "eb6423a3-3ad5-4aac-a722-3b03e05580fc",
   "metadata": {},
   "source": [
    "### **Syntax To Create an Object**"
   ]
  },
  {
   "cell_type": "code",
   "execution_count": 16,
   "id": "235e001a-ab93-4c47-8015-17e464b27aaa",
   "metadata": {},
   "outputs": [],
   "source": [
    "##  objectname = classname()\n",
    "L = list()\n"
   ]
  },
  {
   "cell_type": "code",
   "execution_count": 17,
   "id": "13ffaa20-bf9c-4078-ba09-100e2073fe54",
   "metadata": {},
   "outputs": [
    {
     "name": "stdout",
     "output_type": "stream",
     "text": [
      "<class 'list'>\n"
     ]
    }
   ],
   "source": [
    "print(type(L))"
   ]
  },
  {
   "cell_type": "code",
   "execution_count": 18,
   "id": "6f60f15d-d4ae-4749-9c9c-2cc93aed62a5",
   "metadata": {},
   "outputs": [
    {
     "data": {
      "text/plain": [
       "[]"
      ]
     },
     "execution_count": 18,
     "metadata": {},
     "output_type": "execute_result"
    }
   ],
   "source": [
    "L"
   ]
  },
  {
   "cell_type": "markdown",
   "id": "7c2c6b4e-5812-4997-94a8-dc103f3114ae",
   "metadata": {},
   "source": [
    "### Method vs Functions\n",
    "* Methods are the functions that are inside a class , like append , upper etc.\n",
    "* Function are the function that are independent like for instance we create odd_even fn"
   ]
  },
  {
   "cell_type": "markdown",
   "id": "6ffc274f-c0d7-467f-9488-a96cdd75b3e0",
   "metadata": {},
   "source": [
    "**Magic Methods** : Magic methods (also called dunder methods because they have double underscores __) are special methods in Python classes that are automatically called by Python in certain situations like:\n",
    "* Creating an object\n",
    "* Printing an object\n",
    "* Comparing objects\n",
    "* Adding two objects, etc."
   ]
  },
  {
   "cell_type": "markdown",
   "id": "cf007c69-1d0a-42ac-8a79-77dce9dbcd81",
   "metadata": {},
   "source": [
    " **Constructor in Python**:\n",
    "A **constructor** is a special method in Python used to **initialize the object** when a class is instantiated.  \n",
    "- It is defined using the `__init__()` method.  \n",
    "- The constructor is **automatically called** when an object is created.  \n",
    "- It is mainly used to **assign values to the object’s properties**.\n",
    "- benifts of creating constructor are , configuration related code like connecting to the internet etc, without the need of users input.\n",
    "\n",
    "**Syntax:**\n",
    "```python\n",
    "class MyClass:\n",
    "    def __init__(self, parameter1, parameter2):\n",
    "        self.attribute1 = parameter1\n",
    "        self.attribute2 = parameter2\n",
    "```\n",
    "**self** :\n",
    "\n",
    "- In Python, **`self`** is a **reference to the current instance (object) of the class**.  \n",
    "- It is **automatically passed** as the first parameter to any instance method (like `__init__()` or any other method).  \n",
    "- Using **`self`**, you can access:  \n",
    "  - The **variables (attributes)** of the object.  \n",
    "  - The **methods** of the object.  \n",
    "- It **represents the object itself**.\n",
    "- self is used because only objects can access the data and methods of a class.\n",
    "- self is not a keyword , we can use any word but as a convention self is used."
   ]
  },
  {
   "cell_type": "markdown",
   "id": "305a5385-63a6-4867-a6f3-b5a82b4fe964",
   "metadata": {},
   "source": [
    "### **An Atm app using Class and Object** "
   ]
  },
  {
   "cell_type": "code",
   "execution_count": 23,
   "id": "92f3b362-80b0-48e2-962e-19b9e39a2488",
   "metadata": {},
   "outputs": [],
   "source": [
    "class ATM():\n",
    "    ## to inatilize basic parameters we will use constructor and things that should start when we create a object of this class\n",
    "    def __init__(self):\n",
    "        self.pin = ''\n",
    "        self.balance = 0\n",
    "        self.menu()\n",
    "    def menu(self):\n",
    "        user_input = input(\"\"\"\n",
    "        Hi , How Can I help You?\n",
    "        Choose A Option:\n",
    "        1.Press 1 to create a pin\n",
    "        2.Press 2 to change pin\n",
    "        3.Press 3 to check balance\n",
    "        4.Press 4 to Withdraw\n",
    "        5.Anything Else to Exit        \n",
    "        \"\"\")\n",
    "        if user_input == '1':\n",
    "            self.createPin()\n",
    "        elif user_input == '2':\n",
    "            self.changePin()\n",
    "        elif user_input == '3':\n",
    "            self.check_balance()\n",
    "        elif user_input == '4':\n",
    "            self.withdraw()\n",
    "        else:\n",
    "            print(\"Thankyou for using ATM\")\n",
    "            pass\n",
    "    def createPin(self):\n",
    "         user_pin = input(\"Enter your pin\")\n",
    "         self.pin = user_pin\n",
    "         user_balance = int(input(\"Enter your Balance\"))\n",
    "         self.balance = user_balance\n",
    "         print(\"Pin Created Succesfully\")\n",
    "         self.menu()\n",
    "            \n",
    "    def changePin(self):\n",
    "        old_pin = input(\"Enter old pin\")\n",
    "        if old_pin == self.pin :\n",
    "            new_pin = input(\"Enter New Pin\")\n",
    "            self.pin = new_pin\n",
    "            print(\"Pin Changed Succesfully\")\n",
    "            self.menu()\n",
    "        else:\n",
    "            print(\"Pin Incorrect Try-Again\")\n",
    "            self.menu()\n",
    "    def check_balance(self):\n",
    "        print(f\"Your Current Balance is {self.balance}\")\n",
    "        self.menu()\n",
    "    def withdraw(self):\n",
    "        user_pin = input(\"Enter your Pin\")\n",
    "        pin_check = lambda x , y : True if x == y else False\n",
    "        \n",
    "        if pin_check(user_pin,self.pin) == True:\n",
    "            amount = int(input(\"Enter Amount to Withdraw\"))\n",
    "            if amount <= self.balance:\n",
    "                self.balance = self.balance - amount\n",
    "                print(f\"You have succesfully withdrawn {amount} remaining Balance is {self.balance}\")\n",
    "                self.menu()\n",
    "            else:\n",
    "                print(\"don't have sufficent amount\")\n",
    "                self.menu()\n",
    "        else:\n",
    "            print(\"Incorrect Pin\")\n",
    "            self.menu()"
   ]
  },
  {
   "cell_type": "code",
   "execution_count": 24,
   "id": "b75d391f-297f-419b-904e-1ff3546630fc",
   "metadata": {},
   "outputs": [
    {
     "name": "stdin",
     "output_type": "stream",
     "text": [
      "\n",
      "        Hi , How Can I help You?\n",
      "        Choose A Option:\n",
      "        1.Press 1 to create a pin\n",
      "        2.Press 2 to change pin\n",
      "        3.Press 3 to check balance\n",
      "        4.Press 4 to Withdraw\n",
      "        5.Anything Else to Exit        \n",
      "         1\n",
      "Enter your pin 1478\n",
      "Enter your Balance 20000\n"
     ]
    },
    {
     "name": "stdout",
     "output_type": "stream",
     "text": [
      "Pin Created Succesfully\n"
     ]
    },
    {
     "name": "stdin",
     "output_type": "stream",
     "text": [
      "\n",
      "        Hi , How Can I help You?\n",
      "        Choose A Option:\n",
      "        1.Press 1 to create a pin\n",
      "        2.Press 2 to change pin\n",
      "        3.Press 3 to check balance\n",
      "        4.Press 4 to Withdraw\n",
      "        5.Anything Else to Exit        \n",
      "         4\n",
      "Enter your Pin 1478\n",
      "Enter Amount to Withdraw 20000\n"
     ]
    },
    {
     "name": "stdout",
     "output_type": "stream",
     "text": [
      "You have succesfully withdrawn 20000 remaining Balance is 0\n"
     ]
    },
    {
     "name": "stdin",
     "output_type": "stream",
     "text": [
      "\n",
      "        Hi , How Can I help You?\n",
      "        Choose A Option:\n",
      "        1.Press 1 to create a pin\n",
      "        2.Press 2 to change pin\n",
      "        3.Press 3 to check balance\n",
      "        4.Press 4 to Withdraw\n",
      "        5.Anything Else to Exit        \n",
      "         5\n"
     ]
    },
    {
     "name": "stdout",
     "output_type": "stream",
     "text": [
      "Thankyou for using ATM\n"
     ]
    }
   ],
   "source": [
    "ob1 = ATM()"
   ]
  },
  {
   "cell_type": "markdown",
   "id": "b4fb1f9f-d622-411d-a122-bb0a4c705f5f",
   "metadata": {},
   "source": [
    "### Using methods vs Functions"
   ]
  },
  {
   "cell_type": "code",
   "execution_count": 25,
   "id": "d30e1e1d-4e2d-4c27-b2bc-8a9b7204e72b",
   "metadata": {},
   "outputs": [
    {
     "data": {
      "text/plain": [
       "3"
      ]
     },
     "execution_count": 25,
     "metadata": {},
     "output_type": "execute_result"
    }
   ],
   "source": [
    "## funcitons are outside so\n",
    "L = [1,2,3]\n",
    "len(L) # function len"
   ]
  },
  {
   "cell_type": "code",
   "execution_count": 26,
   "id": "a9342787-44c9-4226-9bc9-9bab02db774c",
   "metadata": {},
   "outputs": [],
   "source": [
    "## methods are inside the class so\n",
    "L.append(4)"
   ]
  },
  {
   "cell_type": "code",
   "execution_count": 27,
   "id": "f05d42fe-7917-4715-91ea-b211cd3ea054",
   "metadata": {},
   "outputs": [
    {
     "data": {
      "text/plain": [
       "[1, 2, 3, 4]"
      ]
     },
     "execution_count": 27,
     "metadata": {},
     "output_type": "execute_result"
    }
   ],
   "source": [
    "L"
   ]
  },
  {
   "cell_type": "markdown",
   "id": "3c512b48-7c84-42b0-aaba-0c5281e4152c",
   "metadata": {},
   "source": [
    "## OWN DATA TYPES\n",
    "**FRACTION**"
   ]
  },
  {
   "cell_type": "code",
   "execution_count": 57,
   "id": "622b7eea-898c-41e9-ab5c-46523682818e",
   "metadata": {},
   "outputs": [],
   "source": [
    "class Fraction :\n",
    "    def __init__(self,x,y):\n",
    "        self.num = x\n",
    "        self.den = y\n",
    "        print(self.__str__())\n",
    "    def __str__(self):\n",
    "        return f\"{self.num}/{self.den}\"\n",
    "    def __add__(self,other):\n",
    "        new_num = self.num*other.den + other.num*self.den\n",
    "        new_den = self.den*other.den\n",
    "        return f\"{new_num}/{new_den}\"\n",
    "        \n",
    "    def __mul__(self,other):\n",
    "        new_num = self.num*other.num\n",
    "        new_den = self.den*other.den\n",
    "        return f\"{new_num}/{new_den}\"\n",
    "        \n",
    "    def __sub__(self,other):\n",
    "        new_num = self.num*other.den - other.num*self.den\n",
    "        new_den = self.den*other.den\n",
    "        return f\"{new_num}/{new_den}\"\n",
    "    def __truediv__(self,other):\n",
    "        new_num = self.num*other.den\n",
    "        new_den = self.den*other.num\n",
    "        return f\"{new_num}/{new_den}\"\n",
    "    def convert_to_decimal(self):\n",
    "        return self.num/self.den\n",
    "    "
   ]
  },
  {
   "cell_type": "code",
   "execution_count": 58,
   "id": "3562224c-3d9a-4258-a063-54ab7d79a86d",
   "metadata": {},
   "outputs": [
    {
     "name": "stdout",
     "output_type": "stream",
     "text": [
      "3/4\n"
     ]
    }
   ],
   "source": [
    "frac1 = Fraction(3,4)"
   ]
  },
  {
   "cell_type": "code",
   "execution_count": 59,
   "id": "f8c4166a-dac3-4cda-b942-afa1abd1b2c4",
   "metadata": {},
   "outputs": [
    {
     "name": "stdout",
     "output_type": "stream",
     "text": [
      "4/5\n"
     ]
    }
   ],
   "source": [
    "frac2 = Fraction(4,5)"
   ]
  },
  {
   "cell_type": "code",
   "execution_count": 60,
   "id": "da3c973d-4407-4c3e-892a-4726bdc19932",
   "metadata": {},
   "outputs": [
    {
     "data": {
      "text/plain": [
       "'31/20'"
      ]
     },
     "execution_count": 60,
     "metadata": {},
     "output_type": "execute_result"
    }
   ],
   "source": [
    "frac1+frac2"
   ]
  },
  {
   "cell_type": "code",
   "execution_count": 61,
   "id": "abd75410-f062-456d-8cbc-6aa7489a7301",
   "metadata": {},
   "outputs": [
    {
     "data": {
      "text/plain": [
       "'-1/20'"
      ]
     },
     "execution_count": 61,
     "metadata": {},
     "output_type": "execute_result"
    }
   ],
   "source": [
    "frac1-frac2"
   ]
  },
  {
   "cell_type": "code",
   "execution_count": 62,
   "id": "d810b11b-a477-43c8-8627-8e79066b6110",
   "metadata": {},
   "outputs": [
    {
     "data": {
      "text/plain": [
       "'12/20'"
      ]
     },
     "execution_count": 62,
     "metadata": {},
     "output_type": "execute_result"
    }
   ],
   "source": [
    "frac1*frac2"
   ]
  },
  {
   "cell_type": "code",
   "execution_count": 63,
   "id": "8e4c9904-6c71-4faf-ab68-f11c179ec56e",
   "metadata": {},
   "outputs": [
    {
     "data": {
      "text/plain": [
       "'15/16'"
      ]
     },
     "execution_count": 63,
     "metadata": {},
     "output_type": "execute_result"
    }
   ],
   "source": [
    "frac1/frac2"
   ]
  },
  {
   "cell_type": "code",
   "execution_count": 66,
   "id": "91ca184d-e1f1-4fac-a5ce-06aaa9da2def",
   "metadata": {},
   "outputs": [
    {
     "data": {
      "text/plain": [
       "0.75"
      ]
     },
     "execution_count": 66,
     "metadata": {},
     "output_type": "execute_result"
    }
   ],
   "source": [
    "Fraction.convert_to_decimal(frac1)"
   ]
  },
  {
   "cell_type": "markdown",
   "id": "74ef95c5-2ab2-4005-8330-14052d39bc14",
   "metadata": {},
   "source": [
    "## Task -1 class & objects"
   ]
  },
  {
   "cell_type": "markdown",
   "id": "37e85f71-1e9f-424b-a908-e49eb89f656a",
   "metadata": {},
   "source": [
    "## `Q-1:` Rectangle Class\n",
    "1. Write a Rectangle class in Python language, allowing you to build a rectangle with length and width attributes.\n",
    "\n",
    "2. Create a Perimeter() method to calculate the perimeter of the rectangle and a Area() method to calculate the area of ​​the rectangle.\n",
    "\n",
    "3. Create a method display() that display the length, width, perimeter and area of an object created using an instantiation on rectangle class."
   ]
  },
  {
   "cell_type": "code",
   "execution_count": 7,
   "id": "489e7622-9c89-45c1-ac21-57de2162d49c",
   "metadata": {},
   "outputs": [],
   "source": [
    "class Rectangle:\n",
    "  def __init__ (self , x , y):\n",
    "    self.l = x\n",
    "    self.w = y\n",
    "  def display(self):\n",
    "    print(f\"The length of rectangle is :{self.l}\")\n",
    "    print(f\"The width of rectangle is : {self.w}\")\n",
    "    print(f\"The perimeter of rectangle is {self.perimeter()}\")\n",
    "    print(f\"The area of rectangle is {self.area()}\")\n",
    "  def perimeter(self):\n",
    "      peri = 2*(self.l + self.w)\n",
    "      return peri \n",
    "  def area(self):\n",
    "      Area = self.l*self.w\n",
    "      return Area\n"
   ]
  },
  {
   "cell_type": "code",
   "execution_count": 8,
   "id": "2585efb0-7121-4566-a63c-45956e9b75da",
   "metadata": {},
   "outputs": [],
   "source": [
    "my_Rectangle = Rectangle(3,4)"
   ]
  },
  {
   "cell_type": "code",
   "execution_count": 9,
   "id": "2c6abc5e-ccdd-4ef0-8863-919d17d5df68",
   "metadata": {},
   "outputs": [
    {
     "name": "stdout",
     "output_type": "stream",
     "text": [
      "The length of rectangle is :3\n",
      "The width of rectangle is : 4\n",
      "The perimeter of rectangle is 14\n",
      "The area of rectangle is 12\n"
     ]
    }
   ],
   "source": [
    "my_Rectangle.display()"
   ]
  },
  {
   "cell_type": "code",
   "execution_count": 10,
   "id": "0c2d9826-bfbb-4d43-b6ef-3ab96742714e",
   "metadata": {},
   "outputs": [
    {
     "data": {
      "text/plain": [
       "14"
      ]
     },
     "execution_count": 10,
     "metadata": {},
     "output_type": "execute_result"
    }
   ],
   "source": [
    "my_Rectangle.perimeter()"
   ]
  },
  {
   "cell_type": "markdown",
   "id": "9f055c3d-dcc6-49df-843e-20e6f070671c",
   "metadata": {},
   "source": [
    "## `Q-2: Bank Class`\n",
    "\n",
    "1. Create a Python class called `BankAccount` which represents a bank account, having as attributes: `accountNumber` (numeric type), `name` (name of the account owner as string type), `balance`.\n",
    "2. Create a constructor with parameters: `accountNumber, name, balance`.\n",
    "3. Create a `Deposit()` method which manages the deposit actions.\n",
    "4. Create a `Withdrawal()` method  which manages withdrawals actions.\n",
    "5. Create an `bankFees()` method to apply the bank fees with a percentage of 5% of the balance account.\n",
    "6. Create a `display()` method to display account details.\n",
    "Give the complete code for the  BankAccount class."
   ]
  },
  {
   "cell_type": "code",
   "execution_count": 26,
   "id": "7207dc14-71f4-48e7-84d3-5ed36be6f5a7",
   "metadata": {},
   "outputs": [],
   "source": [
    "class BankAccount:\n",
    "    def __init__(self,name,acc_no,balance):\n",
    "        if type(name) == str:\n",
    "            self.usr = name\n",
    "        else:\n",
    "            print(\"incorrect name\")\n",
    "        if type(acc_no) == int :\n",
    "            self.acc = acc_no\n",
    "        else :\n",
    "            print(\"incorrect format of acc_no\")\n",
    "            \n",
    "        if type(balance) == int:\n",
    "            self.bal = balance\n",
    "        else :\n",
    "            print(\"Invalid Input for balance\")\n",
    "    def Deposit(self):\n",
    "        dep_amount = int(input(\"Enter the amount you want to deposit\"))\n",
    "        self.bal = self.bal + dep_amount\n",
    "        print(f\"You have sucessfully deposited {dep_amount}\")\n",
    "        print(f\"Updated Balance is {self.bal}\")\n",
    "    def Withdrawl(self):\n",
    "        amount = int(input(\"Enter a amount to withdrawl\"))\n",
    "        if amount < self.bal:\n",
    "                    self.bal = self.bal - amount\n",
    "                    print(f\"Withdraw Successful , Updated Balance is {self.bal}\")\n",
    "        else :\n",
    "            print(\"unsufficent balance\")\n",
    "    def display(self):\n",
    "        print(f\"Account Number  is {self.acc}\")\n",
    "        print(f\"Account Name    is {self.usr}\")\n",
    "        print(f\"Account Balance is {self.bal}\")\n",
    "        \n",
    "    "
   ]
  },
  {
   "cell_type": "code",
   "execution_count": 27,
   "id": "06c2082c-9e55-4b1f-98f6-98034ba19dab",
   "metadata": {},
   "outputs": [],
   "source": [
    "account1 = BankAccount(\"Tanish\",180702,20000)"
   ]
  },
  {
   "cell_type": "code",
   "execution_count": 28,
   "id": "8bde21ef-6b11-414a-9566-23253c52ed29",
   "metadata": {},
   "outputs": [
    {
     "name": "stdin",
     "output_type": "stream",
     "text": [
      "Enter the amount you want to deposit 25000\n"
     ]
    },
    {
     "name": "stdout",
     "output_type": "stream",
     "text": [
      "You have sucessfully deposited 25000\n",
      "Updated Balance is 45000\n"
     ]
    }
   ],
   "source": [
    "account1.Deposit()"
   ]
  },
  {
   "cell_type": "code",
   "execution_count": 29,
   "id": "0fd3a65d-143f-4d86-b48d-81ba3780beda",
   "metadata": {},
   "outputs": [
    {
     "name": "stdin",
     "output_type": "stream",
     "text": [
      "Enter a amount to withdrawl 12344\n"
     ]
    },
    {
     "name": "stdout",
     "output_type": "stream",
     "text": [
      "Withdraw Successful , Updated Balance is 32656\n"
     ]
    }
   ],
   "source": [
    "account1.Withdrawl()"
   ]
  },
  {
   "cell_type": "code",
   "execution_count": 30,
   "id": "d65b099a-9f70-453d-82cb-dedae85336bb",
   "metadata": {},
   "outputs": [
    {
     "name": "stdout",
     "output_type": "stream",
     "text": [
      "Account Number  is 180702\n",
      "Account Name    is Tanish\n",
      "Account Balance is 32656\n"
     ]
    }
   ],
   "source": [
    "account1.display()"
   ]
  },
  {
   "cell_type": "markdown",
   "id": "99f631f1-541b-4099-8977-a5199eddecc6",
   "metadata": {},
   "source": [
    "## `Q-3:Computation class`\n",
    "\n",
    "1. Create a `Computation` class with a default constructor (without parameters) allowing to perform various calculations on integers numbers.\n",
    "2. Create a method called `Factorial()` which allows to calculate the factorial of an integer n. Integer n as parameter for this method\n",
    "\n",
    "3. Create a method called `naturalSum()` allowing to calculate the sum of the first n integers 1 + 2 + 3 + .. + n. Integer n as parameter for this method.\n",
    "\n",
    "4. Create a method called `testPrime()` in  the Calculation class to test the primality of a given integer n, n is Prime or Not? Integer n as parameter for this method.\n",
    "\n",
    "5. Create  a method called `testPrims()` allowing to test if two numbers are prime between them. Two integers are prime to one another if they have only `1` as their common divisor. Eg. 4 and 9 are prime to each other.\n",
    "\n",
    "5. Create a `tableMult()` method which creates and displays the multiplication table of a given integer. Then create an `allTablesMult()` method to display all the integer multiplication tables 1, 2, 3, ..., 9.\n",
    "\n",
    "6. Create a static `listDiv()` method that gets all the divisors of a given integer on new list called  Ldiv. Create another `listDivPrim()` method that gets all the prime divisors of a given integer."
   ]
  },
  {
   "cell_type": "code",
   "execution_count": 91,
   "id": "9c7a9550-37e2-4d45-91c5-4f0778b334a1",
   "metadata": {},
   "outputs": [],
   "source": [
    "\n",
    "class Computation :\n",
    "    import math\n",
    "    def __init__(self):\n",
    "        pass\n",
    "    \n",
    "    def Factorial(self,x):\n",
    "        n = x\n",
    "        if x==0: \n",
    "            return 1\n",
    "        else:\n",
    "            fact = 1\n",
    "            while x>0:\n",
    "                fact = fact * x\n",
    "                x = x-1\n",
    "            return fact\n",
    "    \n",
    "    def naturalSum(self,x):\n",
    "        sum = 0\n",
    "        n = x\n",
    "        while x>0:\n",
    "            sum = sum + x\n",
    "            x = x-1\n",
    "        return sum\n",
    "    \n",
    "    def testPrime(self,x):\n",
    "        if x < 2:\n",
    "           return False\n",
    "        else:\n",
    "               for i in range(2,int(x**0.5)+ 1):\n",
    "                    if x%i ==0:\n",
    "                        return False\n",
    "               else:\n",
    "                   return True\n",
    "                   \n",
    "    def testPrims(self,x,y):\n",
    "        if(math.gcd(x,y)==1):\n",
    "            print(f\"{x} and {y} are prime to eachother\")\n",
    "        else:\n",
    "            print(f\"{x} and {y} are not prime to eachother\")\n",
    "    \n",
    "    def tableMult(self,x):\n",
    "        for i in range(1,11):\n",
    "            print(f\"{x} X {i} = {x*i}\")\n",
    "    \n",
    "    def allTablesMult(self):\n",
    "        for i in range(1,10):\n",
    "            print(f\"Multiplication Table of {i}\")\n",
    "            self.tableMult(i)\n",
    "            \n",
    "    def listDiv(self,n):\n",
    "        Ldiv = []\n",
    "        for i in range(1,int(n**0.5)+1):\n",
    "            if(n % i == 0):\n",
    "                Ldiv.append(i)\n",
    "                if(i != n//i):\n",
    "                    Ldiv.append(n//i)\n",
    "        return Ldiv\n",
    "    \n",
    "    def listDivPrim(self,n):\n",
    "        LPrim = []\n",
    "        for i in self.listDiv(n):\n",
    "            if self.testPrime(i):\n",
    "                LPrim.append(i)\n",
    "        return LPrim\n",
    "        "
   ]
  },
  {
   "cell_type": "code",
   "execution_count": 92,
   "id": "c2dab136-7542-436b-952e-18288ca97011",
   "metadata": {},
   "outputs": [],
   "source": [
    "cal = Computation()"
   ]
  },
  {
   "cell_type": "code",
   "execution_count": 93,
   "id": "331413ba-0a14-4e5a-805b-b9798677cffb",
   "metadata": {},
   "outputs": [
    {
     "data": {
      "text/plain": [
       "120"
      ]
     },
     "execution_count": 93,
     "metadata": {},
     "output_type": "execute_result"
    }
   ],
   "source": [
    "cal.Factorial(5)\n"
   ]
  },
  {
   "cell_type": "code",
   "execution_count": 94,
   "id": "3d9a98e0-2d57-4eac-83ff-d22f5447d59c",
   "metadata": {},
   "outputs": [
    {
     "data": {
      "text/plain": [
       "55"
      ]
     },
     "execution_count": 94,
     "metadata": {},
     "output_type": "execute_result"
    }
   ],
   "source": [
    "cal.naturalSum(10)"
   ]
  },
  {
   "cell_type": "code",
   "execution_count": 95,
   "id": "0a567269-7431-40ad-ac11-7ffb2467f470",
   "metadata": {},
   "outputs": [
    {
     "data": {
      "text/plain": [
       "True"
      ]
     },
     "execution_count": 95,
     "metadata": {},
     "output_type": "execute_result"
    }
   ],
   "source": [
    "cal.testPrime(5)"
   ]
  },
  {
   "cell_type": "code",
   "execution_count": 96,
   "id": "753512c8-ec32-4660-94a7-888961b835c2",
   "metadata": {},
   "outputs": [
    {
     "data": {
      "text/plain": [
       "False"
      ]
     },
     "execution_count": 96,
     "metadata": {},
     "output_type": "execute_result"
    }
   ],
   "source": [
    "cal.testPrime(20)"
   ]
  },
  {
   "cell_type": "code",
   "execution_count": 97,
   "id": "3467d22f-3a6b-4c90-a92a-894b7d1b1b8f",
   "metadata": {},
   "outputs": [
    {
     "data": {
      "text/plain": [
       "True"
      ]
     },
     "execution_count": 97,
     "metadata": {},
     "output_type": "execute_result"
    }
   ],
   "source": [
    "cal.testPrime(3)"
   ]
  },
  {
   "cell_type": "code",
   "execution_count": 98,
   "id": "7ec6da70-d21f-4c83-8fa3-a1419345b33e",
   "metadata": {},
   "outputs": [
    {
     "name": "stdout",
     "output_type": "stream",
     "text": [
      "4 and 25 are prime to eachother\n"
     ]
    }
   ],
   "source": [
    "cal.testPrims(4,25)"
   ]
  },
  {
   "cell_type": "code",
   "execution_count": 99,
   "id": "85ed0ce9-9765-4d8d-be50-a27a128a38c3",
   "metadata": {},
   "outputs": [
    {
     "name": "stdout",
     "output_type": "stream",
     "text": [
      "2 X 1 = 2\n",
      "2 X 2 = 4\n",
      "2 X 3 = 6\n",
      "2 X 4 = 8\n",
      "2 X 5 = 10\n",
      "2 X 6 = 12\n",
      "2 X 7 = 14\n",
      "2 X 8 = 16\n",
      "2 X 9 = 18\n",
      "2 X 10 = 20\n"
     ]
    }
   ],
   "source": [
    "cal.tableMult(2)"
   ]
  },
  {
   "cell_type": "code",
   "execution_count": 100,
   "id": "3d6416d0-7edc-4251-9ab4-c194fbb048f0",
   "metadata": {},
   "outputs": [
    {
     "name": "stdout",
     "output_type": "stream",
     "text": [
      "Multiplication Table of 1\n",
      "1 X 1 = 1\n",
      "1 X 2 = 2\n",
      "1 X 3 = 3\n",
      "1 X 4 = 4\n",
      "1 X 5 = 5\n",
      "1 X 6 = 6\n",
      "1 X 7 = 7\n",
      "1 X 8 = 8\n",
      "1 X 9 = 9\n",
      "1 X 10 = 10\n",
      "Multiplication Table of 2\n",
      "2 X 1 = 2\n",
      "2 X 2 = 4\n",
      "2 X 3 = 6\n",
      "2 X 4 = 8\n",
      "2 X 5 = 10\n",
      "2 X 6 = 12\n",
      "2 X 7 = 14\n",
      "2 X 8 = 16\n",
      "2 X 9 = 18\n",
      "2 X 10 = 20\n",
      "Multiplication Table of 3\n",
      "3 X 1 = 3\n",
      "3 X 2 = 6\n",
      "3 X 3 = 9\n",
      "3 X 4 = 12\n",
      "3 X 5 = 15\n",
      "3 X 6 = 18\n",
      "3 X 7 = 21\n",
      "3 X 8 = 24\n",
      "3 X 9 = 27\n",
      "3 X 10 = 30\n",
      "Multiplication Table of 4\n",
      "4 X 1 = 4\n",
      "4 X 2 = 8\n",
      "4 X 3 = 12\n",
      "4 X 4 = 16\n",
      "4 X 5 = 20\n",
      "4 X 6 = 24\n",
      "4 X 7 = 28\n",
      "4 X 8 = 32\n",
      "4 X 9 = 36\n",
      "4 X 10 = 40\n",
      "Multiplication Table of 5\n",
      "5 X 1 = 5\n",
      "5 X 2 = 10\n",
      "5 X 3 = 15\n",
      "5 X 4 = 20\n",
      "5 X 5 = 25\n",
      "5 X 6 = 30\n",
      "5 X 7 = 35\n",
      "5 X 8 = 40\n",
      "5 X 9 = 45\n",
      "5 X 10 = 50\n",
      "Multiplication Table of 6\n",
      "6 X 1 = 6\n",
      "6 X 2 = 12\n",
      "6 X 3 = 18\n",
      "6 X 4 = 24\n",
      "6 X 5 = 30\n",
      "6 X 6 = 36\n",
      "6 X 7 = 42\n",
      "6 X 8 = 48\n",
      "6 X 9 = 54\n",
      "6 X 10 = 60\n",
      "Multiplication Table of 7\n",
      "7 X 1 = 7\n",
      "7 X 2 = 14\n",
      "7 X 3 = 21\n",
      "7 X 4 = 28\n",
      "7 X 5 = 35\n",
      "7 X 6 = 42\n",
      "7 X 7 = 49\n",
      "7 X 8 = 56\n",
      "7 X 9 = 63\n",
      "7 X 10 = 70\n",
      "Multiplication Table of 8\n",
      "8 X 1 = 8\n",
      "8 X 2 = 16\n",
      "8 X 3 = 24\n",
      "8 X 4 = 32\n",
      "8 X 5 = 40\n",
      "8 X 6 = 48\n",
      "8 X 7 = 56\n",
      "8 X 8 = 64\n",
      "8 X 9 = 72\n",
      "8 X 10 = 80\n",
      "Multiplication Table of 9\n",
      "9 X 1 = 9\n",
      "9 X 2 = 18\n",
      "9 X 3 = 27\n",
      "9 X 4 = 36\n",
      "9 X 5 = 45\n",
      "9 X 6 = 54\n",
      "9 X 7 = 63\n",
      "9 X 8 = 72\n",
      "9 X 9 = 81\n",
      "9 X 10 = 90\n"
     ]
    }
   ],
   "source": [
    "cal.allTablesMult()"
   ]
  },
  {
   "cell_type": "code",
   "execution_count": 101,
   "id": "473c1462-6df1-421a-97d9-b59103010904",
   "metadata": {},
   "outputs": [
    {
     "data": {
      "text/plain": [
       "[1, 6, 2, 3]"
      ]
     },
     "execution_count": 101,
     "metadata": {},
     "output_type": "execute_result"
    }
   ],
   "source": [
    "cal.listDiv(6)"
   ]
  },
  {
   "cell_type": "code",
   "execution_count": 102,
   "id": "0801c156-4f10-4f32-950d-b599e3a3ced1",
   "metadata": {},
   "outputs": [
    {
     "data": {
      "text/plain": [
       "[2, 3]"
      ]
     },
     "execution_count": 102,
     "metadata": {},
     "output_type": "execute_result"
    }
   ],
   "source": [
    "cal.listDivPrim(6)"
   ]
  },
  {
   "cell_type": "markdown",
   "id": "604bb104-3911-4a83-8060-1e654ac58cce",
   "metadata": {},
   "source": [
    "## `Q-4`: Build flashcard using class in Python.\n",
    "\n",
    "Build a flashcard using class in python. A flashcard is a card having information on both sides, which can be used as an aid in memoization. Flashcards usually have a question on one side and an answer on the other.\n",
    "\n",
    "**Example 1:**\n",
    "\n",
    "Approach:\n",
    "\n",
    "- Create a class named FlashCard.\n",
    "- Initialize dictionary fruits using __init__() method. Here you have to define fruit name as key and it's color as value. E.g., {\"Banana\": \"yellow\", \"Strawberries\": \"pink\"}\n",
    "- Now randomly choose a pair from fruits by using _random_ module and store the key in variable _fruit_ and _value_ in variable color.\n",
    "- Now prompt the user to answer the color of the randomly chosen fruit.\n",
    "- If correct print correct else print wrong.\n",
    "\n",
    "Output:\n",
    "```bash\n",
    "welcome to fruit quiz\n",
    "What is the color of Strawberries\n",
    "pink\n",
    "Correct answer\n",
    "Enter 0, if you want to play again: 0\n",
    "What is the color of watermelon\n",
    "green\n",
    "Correct answer\n",
    "Enter 0, if you want to play again: 1\n",
    "```"
   ]
  },
  {
   "cell_type": "code",
   "execution_count": 45,
   "id": "00774db9-d23c-495a-9245-be79e3ea9fdf",
   "metadata": {},
   "outputs": [],
   "source": [
    "class FlashCard:\n",
    "    import random\n",
    "    def __init__(self):\n",
    "        self.fruits = {\n",
    "        \"Apple\": \"Red\",\n",
    "        \"Banana\": \"Yellow\",\n",
    "        \"Grapes\": \"Green\",\n",
    "        \"Orange\": \"Orange\",\n",
    "        \"Strawberry\": \"Red\",\n",
    "        \"Mango\": \"Yellow\",\n",
    "        \"Watermelon\": \"Green\",\n",
    "        \"Papaya\": \"Orange\",\n",
    "        \"Pineapple\": \"Yellow\",\n",
    "        \"Cherry\": \"Red\",\n",
    "        \"Guava\": \"Green\",\n",
    "        \"Pomegranate\": \"Red\",\n",
    "        \"Lemon\": \"Yellow\",\n",
    "        \"Peach\": \"Orange\",\n",
    "        \"Blueberry\": \"Blue\"\n",
    "    }\n",
    "        self.play()\n",
    "    def play(self):\n",
    "        fruit,color = random.choice(list(self.fruits.items()))\n",
    "        usr_color = input(f\"What Color is {fruit}\").title().strip()\n",
    "        if usr_color == color:\n",
    "            print(\"Correct answer\")             \n",
    "        else :\n",
    "            print(\"Wrong Answer\")\n",
    "        usr_inp = int(input(\"Enter 0 if You wana play again, for exit enter any num\"))\n",
    "        if usr_inp == 0:\n",
    "            self.play()\n",
    "        else :\n",
    "            pass\n",
    "        \n",
    "        \n"
   ]
  },
  {
   "cell_type": "code",
   "execution_count": 46,
   "id": "bcb0a47a-3c7a-4a06-ab44-64b51d849b95",
   "metadata": {},
   "outputs": [
    {
     "name": "stdin",
     "output_type": "stream",
     "text": [
      "What Color is Strawberry 2\n"
     ]
    },
    {
     "name": "stdout",
     "output_type": "stream",
     "text": [
      "Wrong Answer\n"
     ]
    },
    {
     "name": "stdin",
     "output_type": "stream",
     "text": [
      "Enter 0 if You wana play again, for exit enter any num 0\n",
      "What Color is Papaya Red\n"
     ]
    },
    {
     "name": "stdout",
     "output_type": "stream",
     "text": [
      "Wrong Answer\n"
     ]
    },
    {
     "name": "stdin",
     "output_type": "stream",
     "text": [
      "Enter 0 if You wana play again, for exit enter any num 0\n",
      "What Color is Pomegranate red\n"
     ]
    },
    {
     "name": "stdout",
     "output_type": "stream",
     "text": [
      "Correct answer\n"
     ]
    },
    {
     "name": "stdin",
     "output_type": "stream",
     "text": [
      "Enter 0 if You wana play again, for exit enter any num 1\n"
     ]
    }
   ],
   "source": [
    "game = FlashCard()"
   ]
  },
  {
   "cell_type": "markdown",
   "id": "a2175e00-ba8e-4ee4-a489-91837545a884",
   "metadata": {},
   "source": [
    "## `Q-5:` Problem 5 based on OOP Python.\n",
    "\n",
    "TechWorld, a technology training center, wants to allocate courses for instructors. An instructor is identified by name, technology skills, experience and average feedback. An instructor is allocated a course, if he/she satisfies the below two conditions:\n",
    "- eligibility criteria:\n",
    "    - if experience is more than 3 years, average feedback should be 4.5 or more\n",
    "    - if experience is 3 years or less, average feedback should be 4 or more\n",
    "- he/she should posses the technology skill for the course\n",
    "\n",
    "Identify the class name and attributes to represent instructors. Write a Python program to implement the class chosen with its attributes and methods.\n",
    "\n",
    "**Note:**\n",
    "- Consider all instance variables to be private and methods to be public.\n",
    "- An instructor may have multiple technology skills, so consider instance variable, technology_skill to be a list.\n",
    "- *check_eligibility()*: Return true if eligibility criteria is satisfied by the instructor. Else, return false\n",
    "- *allocate_course(technology)*: Return true if the course which requires the given technology can be allocated to the instructor. Else, return false.\n",
    "\n",
    "Represent a few objects of the class, initialize instance variables using setter methods, invoke\n",
    "appropriate methods and test your program.\n"
   ]
  },
  {
   "cell_type": "code",
   "execution_count": 147,
   "id": "a1448258-2358-4aca-af3a-8d22478610b3",
   "metadata": {},
   "outputs": [],
   "source": [
    "class TechWorld:\n",
    "    def __init__(self,exp,fed):\n",
    "        if fed>=1 and fed <=5  and type(fed)!=str :\n",
    "                 self.fed = fed\n",
    "        else:\n",
    "            print(\"Write experience in range of 1 to 5\")\n",
    "            return\n",
    "        if type(exp) == str:\n",
    "                print(\"Do not use string format\")\n",
    "                return\n",
    "        else:\n",
    "            self.exp = exp\n",
    "        self.tech_skills = []\n",
    "        self.techSkills()\n",
    "    def techSkills(self):\n",
    "        while True :\n",
    "             skill = \"\".join(input(\"Enter The Skill or 0 to exit\").split()).title().strip()\n",
    "             if skill == '0':\n",
    "                  break\n",
    "             elif skill =='':\n",
    "                 print(\"Do not leave empty\")\n",
    "             else :\n",
    "                  if skill not in self.tech_skills:\n",
    "                    self.tech_skills.append(skill)\n",
    "                  else :\n",
    "                      continue\n",
    "    def check_eligibility(self):\n",
    "        if (self.exp >3  and self.fed>4.5) or (self.exp<=3 and self.fed>=4):\n",
    "            return True\n",
    "        else:\n",
    "            return False\n",
    "    def allocate_course(self,skill):\n",
    "        skill = \"\".join(skill.split()).title().strip()\n",
    "        if self.check_eligibility():\n",
    "            if skill in self.tech_skills:\n",
    "                return True\n",
    "            else:\n",
    "                return False\n",
    "                \n",
    "      \n",
    "            \n",
    "        "
   ]
  },
  {
   "cell_type": "code",
   "execution_count": 150,
   "id": "cd96a2a1-eaca-42a9-9dbd-5da68b9ed311",
   "metadata": {},
   "outputs": [
    {
     "name": "stdin",
     "output_type": "stream",
     "text": [
      "Enter The Skill or 0 to exit python\n",
      "Enter The Skill or 0 to exit 0\n"
     ]
    }
   ],
   "source": [
    "usr = TechWorld(4,5)"
   ]
  },
  {
   "cell_type": "code",
   "execution_count": 151,
   "id": "4e447248-9ed0-4cda-b5a6-e0954e48b7cd",
   "metadata": {},
   "outputs": [
    {
     "data": {
      "text/plain": [
       "['Python']"
      ]
     },
     "execution_count": 151,
     "metadata": {},
     "output_type": "execute_result"
    }
   ],
   "source": [
    "usr.tech_skills"
   ]
  },
  {
   "cell_type": "code",
   "execution_count": 152,
   "id": "adaa09e5-5d81-47fb-8b83-94157070bad1",
   "metadata": {},
   "outputs": [
    {
     "data": {
      "text/plain": [
       "True"
      ]
     },
     "execution_count": 152,
     "metadata": {},
     "output_type": "execute_result"
    }
   ],
   "source": [
    "usr.check_eligibility()"
   ]
  },
  {
   "cell_type": "code",
   "execution_count": 153,
   "id": "d796b2eb-e793-4270-8aaa-efdde8794a70",
   "metadata": {},
   "outputs": [
    {
     "data": {
      "text/plain": [
       "False"
      ]
     },
     "execution_count": 153,
     "metadata": {},
     "output_type": "execute_result"
    }
   ],
   "source": [
    "usr.allocate_course(\"p y t h n\")"
   ]
  },
  {
   "cell_type": "code",
   "execution_count": null,
   "id": "03c3dc19-6b2b-45e1-91bc-c52f0f2a036d",
   "metadata": {},
   "outputs": [],
   "source": []
  }
 ],
 "metadata": {
  "kernelspec": {
   "display_name": "Python 3 (ipykernel)",
   "language": "python",
   "name": "python3"
  },
  "language_info": {
   "codemirror_mode": {
    "name": "ipython",
    "version": 3
   },
   "file_extension": ".py",
   "mimetype": "text/x-python",
   "name": "python",
   "nbconvert_exporter": "python",
   "pygments_lexer": "ipython3",
   "version": "3.13.2"
  }
 },
 "nbformat": 4,
 "nbformat_minor": 5
}
