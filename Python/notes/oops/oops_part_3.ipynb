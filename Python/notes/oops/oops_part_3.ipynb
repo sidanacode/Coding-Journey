{
 "cells": [
  {
   "cell_type": "markdown",
   "id": "451de641-fcdb-49ee-8344-1efeca06dccd",
   "metadata": {},
   "source": [
    "## Class Relationships\n",
    "- Aggregation\n",
    "- Inheritance"
   ]
  },
  {
   "cell_type": "markdown",
   "id": "ee9d8504-5174-457c-85e3-35d90c02cf15",
   "metadata": {},
   "source": [
    "### Aggregation\n",
    "- The classes which have , **(Has - A \"Relationship\")** eg : Customer has a Address\n",
    "- Aggregation is a relationship between two classes where one class contains an object of another class, but both can exist independently. It is a \"has-a\" relationship with weak ownership. If the container (parent) object is destroyed, the contained (child) object can still exist"
   ]
  },
  {
   "cell_type": "code",
   "execution_count": 1,
   "id": "f520e50c-97b3-4979-8682-69fefb509494",
   "metadata": {},
   "outputs": [],
   "source": [
    "## Example :\n",
    "class Customer :\n",
    "    def __init__(self,name,gender,address):\n",
    "        self.name = name\n",
    "        self.address = address\n",
    "        self.gender = gender\n",
    "    def print_address(self):\n",
    "        print(self.address.pin,self.address.city,self.address.state)\n",
    "    def edit_profile(self,new_name,new_pin,new_city,new_state):\n",
    "        self.name = new_name\n",
    "        self.address.edit_address(new_pin,new_city,new_state)\n",
    "\n",
    "class Address:\n",
    "    def __init__(self,pin,city,state):\n",
    "        self.pin = pin\n",
    "        self.city = city\n",
    "        self.state = state\n",
    "    def edit_address(self,new_pin , new_city ,new_state):\n",
    "        self.pin = new_pin\n",
    "        self.city = new_city\n",
    "        self.state = new_state\n",
    "        "
   ]
  },
  {
   "cell_type": "code",
   "execution_count": 2,
   "id": "0eee89d8-daa0-4c64-bab2-c0d269e75599",
   "metadata": {},
   "outputs": [],
   "source": [
    "add_c1 = Address(302033,\"Jaipur\",\"Rajasthan\")\n",
    "c1 = Customer(\"Tanish\",\"Male\",add_c1)"
   ]
  },
  {
   "cell_type": "code",
   "execution_count": 6,
   "id": "b8ba1fd7-38c5-4fff-b704-6d279fb720cd",
   "metadata": {},
   "outputs": [],
   "source": [
    "c1.edit_profile(\"Hemant\",335001,\"Ganganagar\",\"Rajasthan\")"
   ]
  },
  {
   "cell_type": "code",
   "execution_count": 4,
   "id": "4e517c31-e6a8-4857-ad09-c7382b6bed04",
   "metadata": {},
   "outputs": [],
   "source": [
    "%config Completer.use_jedi = True\n"
   ]
  },
  {
   "cell_type": "code",
   "execution_count": 7,
   "id": "3c056689-4201-4a31-9105-0ce4c7f1fecf",
   "metadata": {},
   "outputs": [
    {
     "name": "stdout",
     "output_type": "stream",
     "text": [
      "335001 Ganganagar Rajasthan\n"
     ]
    }
   ],
   "source": [
    "c1.print_address()"
   ]
  },
  {
   "cell_type": "code",
   "execution_count": 8,
   "id": "8af10d55-1e30-49c4-9481-6ae0384ff9aa",
   "metadata": {},
   "outputs": [],
   "source": [
    "add_c1.edit_address(302033,\"Jaipur\",\"Rajasthan\")"
   ]
  },
  {
   "cell_type": "code",
   "execution_count": 9,
   "id": "8ec78537-dd5e-4f53-9e27-a63a413e84b0",
   "metadata": {},
   "outputs": [
    {
     "name": "stdout",
     "output_type": "stream",
     "text": [
      "302033 Jaipur Rajasthan\n"
     ]
    }
   ],
   "source": [
    "c1.print_address()"
   ]
  },
  {
   "cell_type": "markdown",
   "id": "eed31178-8471-4cd9-bf12-6250bc3d0a48",
   "metadata": {},
   "source": [
    "### Inheritence\n",
    "- **Inheritance is an OOP concept where a child (derived) class inherits properties and methods from a parent (base) class. This allows code reuse and hierarchical relationships.**\n",
    "- In simple words jo baap ka h wo bete ka h\n",
    "- Code reusability is major benifit.\n",
    "  "
   ]
  },
  {
   "cell_type": "code",
   "execution_count": 11,
   "id": "c0f0aa9c-2433-49d2-a939-5c30db00a690",
   "metadata": {},
   "outputs": [],
   "source": [
    "## syntax class child_class_name(parent_class_name):\n",
    "# Parent\n",
    "class User :\n",
    "    def __init__(self):\n",
    "        self.name = 'Tanish'\n",
    "        self.gender = 'Male'\n",
    "    def login(self):\n",
    "        print(\"login\")\n",
    "# child\n",
    "class Student(User):\n",
    "    def __init__(self):\n",
    "        self.rollno = 165\n",
    "    def enroll(self):\n",
    "        print('Enroll into course')\n"
   ]
  },
  {
   "cell_type": "code",
   "execution_count": 12,
   "id": "754e7e82-90a1-4191-9eb9-1e76961a14ca",
   "metadata": {},
   "outputs": [],
   "source": [
    "u = User()\n",
    "s = Student()"
   ]
  },
  {
   "cell_type": "code",
   "execution_count": 14,
   "id": "8f0c4eb3-5511-48eb-8f57-61e0031b7783",
   "metadata": {},
   "outputs": [
    {
     "name": "stdout",
     "output_type": "stream",
     "text": [
      "login\n"
     ]
    }
   ],
   "source": [
    "s.login() # login is method of user class but s is object of student class and student class inheriented it "
   ]
  },
  {
   "cell_type": "code",
   "execution_count": 15,
   "id": "7db6dcd4-c993-4238-a13d-5435bc3e4868",
   "metadata": {},
   "outputs": [
    {
     "name": "stdout",
     "output_type": "stream",
     "text": [
      "Enroll into course\n"
     ]
    }
   ],
   "source": [
    "s.enroll()"
   ]
  },
  {
   "cell_type": "markdown",
   "id": "5ecf4b53-c907-465e-9b7f-9566bfcbf602",
   "metadata": {},
   "source": [
    "### What gets inherited?\n",
    "- Constructor\n",
    "- Non Private Attributes\n",
    "- Non Private Methods"
   ]
  },
  {
   "cell_type": "code",
   "execution_count": 17,
   "id": "33687d53-6c8d-4d8f-a265-4a4592d9b242",
   "metadata": {},
   "outputs": [
    {
     "name": "stdout",
     "output_type": "stream",
     "text": [
      "Inside Phone Constructor\n",
      "Buying Phone\n"
     ]
    }
   ],
   "source": [
    "## Constructor Example -1\n",
    "class Phone:\n",
    "    def __init__(self,price,brand,camera):\n",
    "        print(\"Inside Phone Constructor\")\n",
    "        self.price = price\n",
    "        self.brand = brand\n",
    "        self.camera = camera\n",
    "    def buy(self):\n",
    "        print(\"Buying Phone\")\n",
    "class SmartPhone(Phone):\n",
    "    pass\n",
    "\n",
    "s = SmartPhone(20000,\"Apple\",13) # so this inherited Phone class`s constructor and attributes\n",
    "s.buy() # method too"
   ]
  },
  {
   "cell_type": "code",
   "execution_count": 18,
   "id": "fc2e69c1-06a6-46e5-a06f-a87905e4b13d",
   "metadata": {},
   "outputs": [],
   "source": [
    "# child cant access private members of class\n",
    "\n",
    "class Phone:\n",
    "    def __init__(self,price,brand,camera):\n",
    "        print(\"Inside Phone Constructor\")\n",
    "        self.__price = price\n",
    "        self.brand = brand\n",
    "        self.camera = camera\n",
    "    ## getter method to print private attribute\n",
    "    def show(self):\n",
    "        print(self.__price)\n",
    "    def buy(self):\n",
    "        print(\"Buying Phone\")\n",
    "class SmartPhone(Phone):\n",
    "    def check(self):\n",
    "        print(self.__price)\n"
   ]
  },
  {
   "cell_type": "code",
   "execution_count": 19,
   "id": "fced25db-7250-4003-8c71-115529432f2d",
   "metadata": {},
   "outputs": [
    {
     "name": "stdout",
     "output_type": "stream",
     "text": [
      "Inside Phone Constructor\n"
     ]
    }
   ],
   "source": [
    "s = SmartPhone(20000,\"Apple\",13)"
   ]
  },
  {
   "cell_type": "code",
   "execution_count": 22,
   "id": "52ff38a9-255d-464c-b157-23a11b020e4f",
   "metadata": {},
   "outputs": [
    {
     "ename": "AttributeError",
     "evalue": "'SmartPhone' object has no attribute '_SmartPhone__price'",
     "output_type": "error",
     "traceback": [
      "\u001b[31m---------------------------------------------------------------------------\u001b[39m",
      "\u001b[31mAttributeError\u001b[39m                            Traceback (most recent call last)",
      "\u001b[36mCell\u001b[39m\u001b[36m \u001b[39m\u001b[32mIn[22]\u001b[39m\u001b[32m, line 1\u001b[39m\n\u001b[32m----> \u001b[39m\u001b[32m1\u001b[39m \u001b[43ms\u001b[49m\u001b[43m.\u001b[49m\u001b[43mcheck\u001b[49m\u001b[43m(\u001b[49m\u001b[43m)\u001b[49m \u001b[38;5;66;03m## this method tried to access price but price was private attributes\u001b[39;00m\n",
      "\u001b[36mCell\u001b[39m\u001b[36m \u001b[39m\u001b[32mIn[18]\u001b[39m\u001b[32m, line 16\u001b[39m, in \u001b[36mSmartPhone.check\u001b[39m\u001b[34m(self)\u001b[39m\n\u001b[32m     15\u001b[39m \u001b[38;5;28;01mdef\u001b[39;00m\u001b[38;5;250m \u001b[39m\u001b[34mcheck\u001b[39m(\u001b[38;5;28mself\u001b[39m):\n\u001b[32m---> \u001b[39m\u001b[32m16\u001b[39m     \u001b[38;5;28mprint\u001b[39m(\u001b[38;5;28;43mself\u001b[39;49m\u001b[43m.\u001b[49m\u001b[43m__price\u001b[49m)\n",
      "\u001b[31mAttributeError\u001b[39m: 'SmartPhone' object has no attribute '_SmartPhone__price'"
     ]
    }
   ],
   "source": [
    "s.check() ## this method tried to access price but price was private attributes"
   ]
  },
  {
   "cell_type": "code",
   "execution_count": 23,
   "id": "7b92cc08-f4d5-435f-82f1-2b6a864a6e1b",
   "metadata": {},
   "outputs": [
    {
     "name": "stdout",
     "output_type": "stream",
     "text": [
      "20000\n"
     ]
    }
   ],
   "source": [
    "s.show() # but parent class give getter method , which child class inherited"
   ]
  },
  {
   "cell_type": "code",
   "execution_count": 24,
   "id": "50607401-7b60-4f73-9f35-149be3cb4089",
   "metadata": {},
   "outputs": [
    {
     "name": "stdout",
     "output_type": "stream",
     "text": [
      "100\n",
      "This is in child class\n"
     ]
    }
   ],
   "source": [
    "class Parent:\n",
    "\n",
    "    def __init__(self,num):\n",
    "        self.__num=num\n",
    "\n",
    "    def get_num(self):\n",
    "        return self.__num\n",
    "\n",
    "class Child(Parent):\n",
    "\n",
    "    def show(self):\n",
    "        print(\"This is in child class\")\n",
    "        \n",
    "son=Child(100) ## this 100 will be stored in self.__num of Parent class\n",
    "print(son.get_num()) # get_num is the method that child class inherited\n",
    "son.show() # show method is of its own\n"
   ]
  },
  {
   "cell_type": "code",
   "execution_count": 28,
   "id": "1351d20b-a203-4fc0-bd29-870150d24fd5",
   "metadata": {},
   "outputs": [
    {
     "ename": "AttributeError",
     "evalue": "'Child' object has no attribute '_Parent__num'",
     "output_type": "error",
     "traceback": [
      "\u001b[31m---------------------------------------------------------------------------\u001b[39m",
      "\u001b[31mAttributeError\u001b[39m                            Traceback (most recent call last)",
      "\u001b[36mCell\u001b[39m\u001b[36m \u001b[39m\u001b[32mIn[28]\u001b[39m\u001b[32m, line 18\u001b[39m\n\u001b[32m     15\u001b[39m         \u001b[38;5;28;01mreturn\u001b[39;00m \u001b[38;5;28mself\u001b[39m.__val\n\u001b[32m     17\u001b[39m son=Child(\u001b[32m100\u001b[39m,\u001b[32m10\u001b[39m) \u001b[38;5;66;03m# passing 100 to val and 10 to num\u001b[39;00m\n\u001b[32m---> \u001b[39m\u001b[32m18\u001b[39m \u001b[38;5;28mprint\u001b[39m(\u001b[33m\"\u001b[39m\u001b[33mParent: Num:\u001b[39m\u001b[33m\"\u001b[39m,\u001b[43mson\u001b[49m\u001b[43m.\u001b[49m\u001b[43mget_num\u001b[49m\u001b[43m(\u001b[49m\u001b[43m)\u001b[49m) \u001b[38;5;66;03m# get num will not work cause instructor of parent was not initalised\u001b[39;00m\n\u001b[32m     19\u001b[39m \u001b[38;5;28mprint\u001b[39m(\u001b[33m\"\u001b[39m\u001b[33mChild: Val:\u001b[39m\u001b[33m\"\u001b[39m,son.get_val()) \u001b[38;5;66;03m# this will work and we will get 100\u001b[39;00m\n",
      "\u001b[36mCell\u001b[39m\u001b[36m \u001b[39m\u001b[32mIn[28]\u001b[39m\u001b[32m, line 7\u001b[39m, in \u001b[36mParent.get_num\u001b[39m\u001b[34m(self)\u001b[39m\n\u001b[32m      6\u001b[39m \u001b[38;5;28;01mdef\u001b[39;00m\u001b[38;5;250m \u001b[39m\u001b[34mget_num\u001b[39m(\u001b[38;5;28mself\u001b[39m):\n\u001b[32m----> \u001b[39m\u001b[32m7\u001b[39m     \u001b[38;5;28;01mreturn\u001b[39;00m \u001b[38;5;28;43mself\u001b[39;49m\u001b[43m.\u001b[49m\u001b[43m__num\u001b[49m\n",
      "\u001b[31mAttributeError\u001b[39m: 'Child' object has no attribute '_Parent__num'"
     ]
    }
   ],
   "source": [
    "class Parent:\n",
    "\n",
    "    def __init__(self,num):\n",
    "        self.__num=num\n",
    "\n",
    "    def get_num(self):\n",
    "        return self.__num\n",
    "\n",
    "class Child(Parent):\n",
    "\n",
    "    def __init__(self,val,num):\n",
    "        self.__val=val\n",
    "\n",
    "    def get_val(self):\n",
    "        return self.__val\n",
    "        \n",
    "son=Child(100,10) # passing 100 to val and 10 to num\n",
    "print(\"Parent: Num:\",son.get_num()) # get num will not work cause instructor of parent was not initalised\n",
    "print(\"Child: Val:\",son.get_val()) # this will work and we will get 100"
   ]
  },
  {
   "cell_type": "code",
   "execution_count": 30,
   "id": "e7227f33-37ef-43ef-ad41-908641aa5f47",
   "metadata": {},
   "outputs": [
    {
     "name": "stdout",
     "output_type": "stream",
     "text": [
      "class A : 100\n"
     ]
    }
   ],
   "source": [
    "class A:\n",
    "    def __init__(self):\n",
    "        self.var1=100\n",
    "\n",
    "    def display1(self,var1):\n",
    "        print(\"class A :\", self.var1)\n",
    "class B(A):\n",
    "  \n",
    "    def display2(self,var1):\n",
    "        print(\"class B :\", self.var1)\n",
    "\n",
    "obj=B() # object of class B , parent A it will var1 = 100 and it will have two methods display1 and display 2\n",
    "obj.display1(200) # display will take var1 as 200  but we are not using var1 parameter and self.var1 is used so it will  print out \"class A : 100\""
   ]
  },
  {
   "cell_type": "markdown",
   "id": "014a17e2-5a5b-4e96-b765-7ccb7f285a49",
   "metadata": {},
   "source": [
    "### Method Overriding:\n",
    "- Child class override the method if there are same methods child class will prevail"
   ]
  },
  {
   "cell_type": "code",
   "execution_count": 31,
   "id": "66c87b63-6b28-4ed6-908d-65e55f1efb60",
   "metadata": {},
   "outputs": [
    {
     "name": "stdout",
     "output_type": "stream",
     "text": [
      "Inside phone constructor\n",
      "Buying a smartphone\n"
     ]
    }
   ],
   "source": [
    "# Method Overriding\n",
    "class Phone:\n",
    "    def __init__(self, price, brand, camera):\n",
    "        print (\"Inside phone constructor\")\n",
    "        self.__price = price\n",
    "        self.brand = brand\n",
    "        self.camera = camera\n",
    "\n",
    "    def buy(self):\n",
    "        print (\"Buying a phone\")\n",
    "\n",
    "class SmartPhone(Phone):\n",
    "    def buy(self):\n",
    "        print (\"Buying a smartphone\")\n",
    "\n",
    "s=SmartPhone(20000, \"Apple\", 13)\n",
    "\n",
    "s.buy() # here buy method of SmartPhone class will be used"
   ]
  },
  {
   "cell_type": "markdown",
   "id": "457a1f42-ab27-4d50-84e3-637a8d3e61cb",
   "metadata": {},
   "source": [
    "### super keyword\n",
    "**The `super` keyword in Python is used to call methods from a parent (or superclass) in a subclass. It is commonly used in inheritance to extend or override methods while still reusing functionality from the parent class.**\n",
    "- we cant use super outside the class\n",
    "- super can only access methods not data"
   ]
  },
  {
   "cell_type": "code",
   "execution_count": 32,
   "id": "1d23b004-e41c-4875-9309-06e848ea5d80",
   "metadata": {},
   "outputs": [
    {
     "name": "stdout",
     "output_type": "stream",
     "text": [
      "Inside phone constructor\n",
      "Buying a smartphone\n",
      "Buying a phone\n"
     ]
    }
   ],
   "source": [
    "class Phone:\n",
    "    def __init__(self, price, brand, camera):\n",
    "        print (\"Inside phone constructor\")\n",
    "        self.__price = price\n",
    "        self.brand = brand\n",
    "        self.camera = camera\n",
    "\n",
    "    def buy(self):\n",
    "        print (\"Buying a phone\")\n",
    "\n",
    "class SmartPhone(Phone):\n",
    "    def buy(self):\n",
    "        print (\"Buying a smartphone\")\n",
    "        # syntax to call parent ka buy method\n",
    "        super().buy()\n",
    "\n",
    "s=SmartPhone(20000, \"Apple\", 13)\n",
    "\n",
    "s.buy() # here first it will excute its own buy method and after that it will use super keyword to excute parent class`s buy method"
   ]
  },
  {
   "cell_type": "code",
   "execution_count": 35,
   "id": "0492d699-0809-47ca-8674-ec8776380852",
   "metadata": {},
   "outputs": [
    {
     "name": "stdout",
     "output_type": "stream",
     "text": [
      "Inside phone constructor\n"
     ]
    },
    {
     "ename": "AttributeError",
     "evalue": "type object 'super' has no attribute 'buy'",
     "output_type": "error",
     "traceback": [
      "\u001b[31m---------------------------------------------------------------------------\u001b[39m",
      "\u001b[31mAttributeError\u001b[39m                            Traceback (most recent call last)",
      "\u001b[36mCell\u001b[39m\u001b[36m \u001b[39m\u001b[32mIn[35]\u001b[39m\u001b[32m, line 20\u001b[39m\n\u001b[32m     16\u001b[39m         \u001b[38;5;28msuper\u001b[39m().buy()\n\u001b[32m     18\u001b[39m s=SmartPhone(\u001b[32m20000\u001b[39m, \u001b[33m\"\u001b[39m\u001b[33mApple\u001b[39m\u001b[33m\"\u001b[39m, \u001b[32m13\u001b[39m)\n\u001b[32m---> \u001b[39m\u001b[32m20\u001b[39m \u001b[38;5;28;43msuper\u001b[39;49m\u001b[43m.\u001b[49m\u001b[43mbuy\u001b[49m()\n",
      "\u001b[31mAttributeError\u001b[39m: type object 'super' has no attribute 'buy'"
     ]
    }
   ],
   "source": [
    "\n",
    "# using super outside the class\n",
    "class Phone:\n",
    "    def __init__(self, price, brand, camera):\n",
    "        print (\"Inside phone constructor\")\n",
    "        self.__price = price\n",
    "        self.brand = brand\n",
    "        self.camera = camera\n",
    "\n",
    "    def buy(self):\n",
    "        print (\"Buying a phone\")\n",
    "\n",
    "class SmartPhone(Phone):\n",
    "    def buy(self):\n",
    "        print (\"Buying a smartphone\")\n",
    "        # syntax to call parent ka buy method\n",
    "        super().buy()\n",
    "\n",
    "s=SmartPhone(20000, \"Apple\", 13)\n",
    "\n",
    "super.buy()"
   ]
  },
  {
   "cell_type": "code",
   "execution_count": 37,
   "id": "fbf6adab-b956-4ab9-9f46-17d73fb0fd50",
   "metadata": {},
   "outputs": [
    {
     "name": "stdout",
     "output_type": "stream",
     "text": [
      "Inside phone constructor\n",
      "Buying a smartphone\n"
     ]
    },
    {
     "ename": "AttributeError",
     "evalue": "'super' object has no attribute 'brand'",
     "output_type": "error",
     "traceback": [
      "\u001b[31m---------------------------------------------------------------------------\u001b[39m",
      "\u001b[31mAttributeError\u001b[39m                            Traceback (most recent call last)",
      "\u001b[36mCell\u001b[39m\u001b[36m \u001b[39m\u001b[32mIn[37]\u001b[39m\u001b[32m, line 21\u001b[39m\n\u001b[32m     17\u001b[39m         \u001b[38;5;28mprint\u001b[39m(\u001b[38;5;28msuper\u001b[39m().brand)\n\u001b[32m     19\u001b[39m s=SmartPhone(\u001b[32m20000\u001b[39m, \u001b[33m\"\u001b[39m\u001b[33mApple\u001b[39m\u001b[33m\"\u001b[39m, \u001b[32m13\u001b[39m)\n\u001b[32m---> \u001b[39m\u001b[32m21\u001b[39m \u001b[43ms\u001b[49m\u001b[43m.\u001b[49m\u001b[43mbuy\u001b[49m\u001b[43m(\u001b[49m\u001b[43m)\u001b[49m\n",
      "\u001b[36mCell\u001b[39m\u001b[36m \u001b[39m\u001b[32mIn[37]\u001b[39m\u001b[32m, line 17\u001b[39m, in \u001b[36mSmartPhone.buy\u001b[39m\u001b[34m(self)\u001b[39m\n\u001b[32m     15\u001b[39m \u001b[38;5;28mprint\u001b[39m (\u001b[33m\"\u001b[39m\u001b[33mBuying a smartphone\u001b[39m\u001b[33m\"\u001b[39m)\n\u001b[32m     16\u001b[39m \u001b[38;5;66;03m# try to access parent class attributes\u001b[39;00m\n\u001b[32m---> \u001b[39m\u001b[32m17\u001b[39m \u001b[38;5;28mprint\u001b[39m(\u001b[38;5;28;43msuper\u001b[39;49m\u001b[43m(\u001b[49m\u001b[43m)\u001b[49m\u001b[43m.\u001b[49m\u001b[43mbrand\u001b[49m)\n",
      "\u001b[31mAttributeError\u001b[39m: 'super' object has no attribute 'brand'"
     ]
    }
   ],
   "source": [
    "# can super access parent ka data?\n",
    "\n",
    "class Phone:\n",
    "    def __init__(self, price, brand, camera):\n",
    "        print (\"Inside phone constructor\")\n",
    "        self.__price = price\n",
    "        self.brand = brand\n",
    "        self.camera = camera\n",
    "\n",
    "    def buy(self):\n",
    "        print (\"Buying a phone\")\n",
    "\n",
    "class SmartPhone(Phone):\n",
    "    def buy(self):\n",
    "        print (\"Buying a smartphone\")\n",
    "        # try to access parent class attributes\n",
    "        print(super().brand)\n",
    "\n",
    "s=SmartPhone(20000, \"Apple\", 13)\n",
    "\n",
    "s.buy()"
   ]
  },
  {
   "cell_type": "code",
   "execution_count": 38,
   "id": "4ba1383d-e169-4838-98b2-128a4fe9e05d",
   "metadata": {},
   "outputs": [
    {
     "name": "stdout",
     "output_type": "stream",
     "text": [
      "Inside smartphone constructor\n",
      "Inside phone constructor\n",
      "Inside smartphone constructor\n",
      "Android\n",
      "Samsung\n"
     ]
    }
   ],
   "source": [
    "# super -> constuctor - is also a method so we can use \n",
    "class Phone:\n",
    "    def __init__(self, price, brand, camera):\n",
    "        print (\"Inside phone constructor\")\n",
    "        self.__price = price\n",
    "        self.brand = brand\n",
    "        self.camera = camera\n",
    "\n",
    "class SmartPhone(Phone):\n",
    "    def __init__(self, price, brand, camera, os, ram):\n",
    "        print('Inside smartphone constructor')\n",
    "        super().__init__(price, brand, camera)\n",
    "        self.os = os\n",
    "        self.ram = ram\n",
    "        print (\"Inside smartphone constructor\")\n",
    "\n",
    "s=SmartPhone(20000, \"Samsung\", 12, \"Android\", 2)\n",
    "\n",
    "print(s.os) # s willhave access to os \n",
    "print(s.brand) # s will access to brand because super keyword intalised the Phone class's constructor"
   ]
  },
  {
   "cell_type": "markdown",
   "id": "18e2c1d7-2183-4015-8e5a-79596d320c0b",
   "metadata": {},
   "source": [
    "##### Inheritance in summary\n",
    "\n",
    "- A class can inherit from another class.\n",
    "\n",
    "- Inheritance improves code reuse\n",
    "\n",
    "- Constructor, attributes, methods get inherited to the child class\n",
    "\n",
    "- The parent has no access to the child class\n",
    "\n",
    "- Private properties of parent are not accessible directly in child class\n",
    "\n",
    "- Child class can override the attributes or methods. This is called method overriding\n",
    "\n",
    "- super() is an inbuilt function which is used to invoke the parent class methods and constructor"
   ]
  },
  {
   "cell_type": "markdown",
   "id": "73fa1d8e-fee4-4cda-abfc-695cde400010",
   "metadata": {},
   "source": [
    "### Examples "
   ]
  },
  {
   "cell_type": "code",
   "execution_count": 39,
   "id": "78c6e992-de07-4a45-bd9d-8c6484cabf86",
   "metadata": {},
   "outputs": [
    {
     "name": "stdout",
     "output_type": "stream",
     "text": [
      "100\n",
      "200\n"
     ]
    }
   ],
   "source": [
    "class Parent:\n",
    "\n",
    "    def __init__(self,num):\n",
    "      self.__num=num\n",
    "\n",
    "    def get_num(self):\n",
    "      return self.__num\n",
    "\n",
    "class Child(Parent):\n",
    "  \n",
    "    def __init__(self,num,val):\n",
    "      super().__init__(num)\n",
    "      self.__val=val\n",
    "\n",
    "    def get_val(self):\n",
    "      return self.__val\n",
    "      \n",
    "son=Child(100,200) # num = 100 and val = 200\n",
    "print(son.get_num()) # super used so parent class constructor intalised , get_num method is accessd and return 100\n",
    "print(son.get_val()) # own method so 200 will be returned"
   ]
  },
  {
   "cell_type": "code",
   "execution_count": 40,
   "id": "92ff7eea-cda9-4878-9fd3-5ca79dbd6c9e",
   "metadata": {},
   "outputs": [
    {
     "name": "stdout",
     "output_type": "stream",
     "text": [
      "100\n",
      "200\n"
     ]
    }
   ],
   "source": [
    "class Parent:\n",
    "    def __init__(self):\n",
    "        self.num=100\n",
    "\n",
    "class Child(Parent):\n",
    "\n",
    "    def __init__(self):\n",
    "        super().__init__()\n",
    "        self.var=200\n",
    "        \n",
    "    def show(self):\n",
    "        print(self.num)\n",
    "        print(self.var)\n",
    "\n",
    "son=Child()\n",
    "son.show() # super is used to intalize constructor of parent class , so now we have num and var both so it will print 100 , 200"
   ]
  },
  {
   "cell_type": "code",
   "execution_count": 41,
   "id": "ecae2335-4648-4fc9-b0c6-707d2ac7fde5",
   "metadata": {},
   "outputs": [
    {
     "name": "stdout",
     "output_type": "stream",
     "text": [
      "Child: 10\n"
     ]
    }
   ],
   "source": [
    "class Parent:\n",
    "    def __init__(self):\n",
    "        self.__num=100\n",
    "\n",
    "    def show(self):\n",
    "        print(\"Parent:\",self.__num)\n",
    "\n",
    "class Child(Parent):\n",
    "    def __init__(self):\n",
    "        super().__init__()\n",
    "        self.__var=10\n",
    "\n",
    "    def show(self):\n",
    "        print(\"Child:\",self.__var)\n",
    "\n",
    "obj=Child() # super keyword use in Child class to intaltize parent class constructor so num = 100 and var = 10 \n",
    "obj.show() # it will print child : 10"
   ]
  },
  {
   "cell_type": "code",
   "execution_count": 42,
   "id": "72dd7529-e155-48ed-bea1-b1fc00633a90",
   "metadata": {},
   "outputs": [
    {
     "name": "stdout",
     "output_type": "stream",
     "text": [
      "Child: 10\n"
     ]
    }
   ],
   "source": [
    "class Parent:\n",
    "    def __init__(self):\n",
    "        self.__num=100\n",
    "\n",
    "    def show(self):\n",
    "        print(\"Parent:\",self.__num)\n",
    "\n",
    "class Child(Parent):\n",
    "    def __init__(self):\n",
    "        super().__init__()\n",
    "        self.__var=10\n",
    "\n",
    "    def show(self):\n",
    "        print(\"Child:\",self.__var)\n",
    "\n",
    "obj=Child() # super keyword intalized parent's constructor so num = 100 , and var = 10\n",
    "obj.show() # method override so \"Child :10 will be printed\""
   ]
  },
  {
   "cell_type": "markdown",
   "id": "f61910f5-7bf8-4dae-a514-e6467fcc3654",
   "metadata": {},
   "source": [
    "### Types of Inheritance\n",
    "\n",
    "- Single Inheritance : **Parent -> Child**\n",
    "- Multilevel Inheritance **GrandParent -> Parent -> Child**\n",
    "- Hierarchical Inheritance **Parent -> C1 , C2 ,C3**\n",
    "- Multiple Inheritance(Diamond Problem) **Parent1,Parent2 -> Child** , MRO is used to solve this MRO (Method Resolution Order) first Parent method will be followed\n",
    "- Hybrid Inheritance **Mix of Hierichal , Multiple ,Single**"
   ]
  },
  {
   "cell_type": "code",
   "execution_count": 43,
   "id": "41d7d548-7432-4940-992b-158f50890d5f",
   "metadata": {},
   "outputs": [
    {
     "name": "stdout",
     "output_type": "stream",
     "text": [
      "Inside phone constructor\n",
      "Buying a phone\n"
     ]
    }
   ],
   "source": [
    "# single inheritance\n",
    "class Phone: # one parent\n",
    "    def __init__(self, price, brand, camera):\n",
    "        print (\"Inside phone constructor\")\n",
    "        self.__price = price\n",
    "        self.brand = brand\n",
    "        self.camera = camera\n",
    "\n",
    "    def buy(self):\n",
    "        print (\"Buying a phone\")\n",
    "\n",
    "class SmartPhone(Phone): # one child\n",
    "    pass\n",
    "\n",
    "SmartPhone(1000,\"Apple\",\"13px\").buy()"
   ]
  },
  {
   "cell_type": "code",
   "execution_count": 44,
   "id": "30168b2e-412f-47d3-a2b4-7cb172cb625f",
   "metadata": {},
   "outputs": [
    {
     "name": "stdout",
     "output_type": "stream",
     "text": [
      "Inside phone constructor\n",
      "Buying a phone\n",
      "Product customer review\n"
     ]
    }
   ],
   "source": [
    "# multilevel\n",
    "class Product: # Grand Parent\n",
    "    def review(self):\n",
    "        print (\"Product customer review\")\n",
    "\n",
    "class Phone(Product): # Parent , Child to Grand Parent or Product Class\n",
    "    def __init__(self, price, brand, camera):\n",
    "        print (\"Inside phone constructor\")\n",
    "        self.__price = price\n",
    "        self.brand = brand\n",
    "        self.camera = camera\n",
    "\n",
    "    def buy(self):\n",
    "        print (\"Buying a phone\")\n",
    "\n",
    "class SmartPhone(Phone): # child to both  Product and Phone class\n",
    "    pass\n",
    "\n",
    "s=SmartPhone(20000, \"Apple\", 12)\n",
    "\n",
    "s.buy()\n",
    "s.review()"
   ]
  },
  {
   "cell_type": "code",
   "execution_count": 45,
   "id": "ceed2922-f225-46ad-9541-c28ce90508ec",
   "metadata": {},
   "outputs": [
    {
     "name": "stdout",
     "output_type": "stream",
     "text": [
      "Inside phone constructor\n",
      "Buying a phone\n",
      "Inside phone constructor\n",
      "Buying a phone\n"
     ]
    }
   ],
   "source": [
    "# Hierarchical\n",
    "class Phone: # one parent\n",
    "    def __init__(self, price, brand, camera):\n",
    "        print (\"Inside phone constructor\")\n",
    "        self.__price = price\n",
    "        self.brand = brand\n",
    "        self.camera = camera\n",
    "\n",
    "    def buy(self):\n",
    "        print (\"Buying a phone\")\n",
    "\n",
    "class SmartPhone(Phone): # child 1 \n",
    "    pass\n",
    "\n",
    "class FeaturePhone(Phone): # child 2\n",
    "    pass\n",
    "\n",
    "SmartPhone(1000,\"Apple\",\"13px\").buy()\n",
    "FeaturePhone(10,\"Lava\",\"1px\").buy()"
   ]
  },
  {
   "cell_type": "code",
   "execution_count": 46,
   "id": "ecdd29dd-26cd-424f-ba2d-a414936453b0",
   "metadata": {},
   "outputs": [
    {
     "name": "stdout",
     "output_type": "stream",
     "text": [
      "Inside phone constructor\n",
      "Buying a phone\n",
      "Customer review\n"
     ]
    }
   ],
   "source": [
    "# Multiple\n",
    "class Phone: # Parent -1\n",
    "    def __init__(self, price, brand, camera):\n",
    "        print (\"Inside phone constructor\")\n",
    "        self.__price = price\n",
    "        self.brand = brand\n",
    "        self.camera = camera\n",
    "\n",
    "    def buy(self):\n",
    "        print (\"Buying a phone\")\n",
    "\n",
    "class Product: # Parent -2\n",
    "    def review(self):\n",
    "        print (\"Customer review\")\n",
    "\n",
    "class SmartPhone(Phone, Product):\n",
    "    pass\n",
    "\n",
    "s=SmartPhone(20000, \"Apple\", 12)\n",
    "\n",
    "s.buy()\n",
    "s.review()\n"
   ]
  },
  {
   "cell_type": "code",
   "execution_count": 47,
   "id": "cd1c8d88-3361-474c-a02b-08464da99c36",
   "metadata": {},
   "outputs": [
    {
     "name": "stdout",
     "output_type": "stream",
     "text": [
      "Inside phone constructor\n",
      "Buying a phone\n"
     ]
    }
   ],
   "source": [
    "# the diamond problem\n",
    "# https://stackoverflow.com/questions/56361048/what-is-the-diamond-problem-in-python-and-why-its-not-appear-in-python2\n",
    "class Phone:\n",
    "    def __init__(self, price, brand, camera):\n",
    "        print (\"Inside phone constructor\")\n",
    "        self.__price = price\n",
    "        self.brand = brand\n",
    "        self.camera = camera\n",
    "\n",
    "    def buy(self):\n",
    "        print (\"Buying a phone\")\n",
    "\n",
    "class Product:\n",
    "    def buy(self):\n",
    "        print (\"Product buy method\")\n",
    "\n",
    "# Method resolution order\n",
    "class SmartPhone(Phone,Product): # MRo will Prefer Phone class\n",
    "    pass\n",
    "\n",
    "s=SmartPhone(20000, \"Apple\", 12) \n",
    "\n",
    "s.buy() # Phone class buy method trigger"
   ]
  },
  {
   "cell_type": "code",
   "execution_count": 48,
   "id": "abb2751a-9fb0-4695-ac9c-b21ddf83ef16",
   "metadata": {},
   "outputs": [
    {
     "name": "stdout",
     "output_type": "stream",
     "text": [
      "70\n"
     ]
    }
   ],
   "source": [
    "class A:\n",
    "\n",
    "    def m1(self):\n",
    "        return 20\n",
    "\n",
    "class B(A):\n",
    "\n",
    "    def m1(self):\n",
    "        return 30\n",
    "\n",
    "    def m2(self):\n",
    "        return 40\n",
    "\n",
    "class C(B):\n",
    "  \n",
    "    def m2(self):\n",
    "        return 20\n",
    "obj1=A()  # m1 = 20\n",
    "obj2=B() # m1 = 30 , m2 = 40\n",
    "obj3=C() # m1 = 30 , m2 = 20\n",
    "print(obj1.m1() + obj3.m1()+ obj3.m2())  # 20 + 30 + 20 = 70"
   ]
  },
  {
   "cell_type": "code",
   "execution_count": 49,
   "id": "f1f5e3aa-829f-43f1-a926-5fa58afb9c92",
   "metadata": {},
   "outputs": [
    {
     "ename": "RecursionError",
     "evalue": "maximum recursion depth exceeded",
     "output_type": "error",
     "traceback": [
      "\u001b[31m---------------------------------------------------------------------------\u001b[39m",
      "\u001b[31mRecursionError\u001b[39m                            Traceback (most recent call last)",
      "\u001b[36mCell\u001b[39m\u001b[36m \u001b[39m\u001b[32mIn[49]\u001b[39m\u001b[32m, line 18\u001b[39m\n\u001b[32m     16\u001b[39m         \u001b[38;5;28;01mreturn\u001b[39;00m val\n\u001b[32m     17\u001b[39m obj=C()\n\u001b[32m---> \u001b[39m\u001b[32m18\u001b[39m \u001b[38;5;28mprint\u001b[39m(\u001b[43mobj\u001b[49m\u001b[43m.\u001b[49m\u001b[43mm1\u001b[49m\u001b[43m(\u001b[49m\u001b[43m)\u001b[49m) \u001b[38;5;66;03m# infinite recursion\u001b[39;00m\n",
      "\u001b[36mCell\u001b[39m\u001b[36m \u001b[39m\u001b[32mIn[49]\u001b[39m\u001b[32m, line 15\u001b[39m, in \u001b[36mC.m1\u001b[39m\u001b[34m(self)\u001b[39m\n\u001b[32m     14\u001b[39m \u001b[38;5;28;01mdef\u001b[39;00m\u001b[38;5;250m \u001b[39m\u001b[34mm1\u001b[39m(\u001b[38;5;28mself\u001b[39m):\n\u001b[32m---> \u001b[39m\u001b[32m15\u001b[39m     val=\u001b[38;5;28;43mself\u001b[39;49m\u001b[43m.\u001b[49m\u001b[43mm1\u001b[49m\u001b[43m(\u001b[49m\u001b[43m)\u001b[49m+\u001b[32m20\u001b[39m \u001b[38;5;66;03m# self.m1 is calling it self  , because self means current instance\u001b[39;00m\n\u001b[32m     16\u001b[39m     \u001b[38;5;28;01mreturn\u001b[39;00m val\n",
      "\u001b[36mCell\u001b[39m\u001b[36m \u001b[39m\u001b[32mIn[49]\u001b[39m\u001b[32m, line 15\u001b[39m, in \u001b[36mC.m1\u001b[39m\u001b[34m(self)\u001b[39m\n\u001b[32m     14\u001b[39m \u001b[38;5;28;01mdef\u001b[39;00m\u001b[38;5;250m \u001b[39m\u001b[34mm1\u001b[39m(\u001b[38;5;28mself\u001b[39m):\n\u001b[32m---> \u001b[39m\u001b[32m15\u001b[39m     val=\u001b[38;5;28;43mself\u001b[39;49m\u001b[43m.\u001b[49m\u001b[43mm1\u001b[49m\u001b[43m(\u001b[49m\u001b[43m)\u001b[49m+\u001b[32m20\u001b[39m \u001b[38;5;66;03m# self.m1 is calling it self  , because self means current instance\u001b[39;00m\n\u001b[32m     16\u001b[39m     \u001b[38;5;28;01mreturn\u001b[39;00m val\n",
      "    \u001b[31m[... skipping similar frames: C.m1 at line 15 (2974 times)]\u001b[39m\n",
      "\u001b[36mCell\u001b[39m\u001b[36m \u001b[39m\u001b[32mIn[49]\u001b[39m\u001b[32m, line 15\u001b[39m, in \u001b[36mC.m1\u001b[39m\u001b[34m(self)\u001b[39m\n\u001b[32m     14\u001b[39m \u001b[38;5;28;01mdef\u001b[39;00m\u001b[38;5;250m \u001b[39m\u001b[34mm1\u001b[39m(\u001b[38;5;28mself\u001b[39m):\n\u001b[32m---> \u001b[39m\u001b[32m15\u001b[39m     val=\u001b[38;5;28;43mself\u001b[39;49m\u001b[43m.\u001b[49m\u001b[43mm1\u001b[49m\u001b[43m(\u001b[49m\u001b[43m)\u001b[49m+\u001b[32m20\u001b[39m \u001b[38;5;66;03m# self.m1 is calling it self  , because self means current instance\u001b[39;00m\n\u001b[32m     16\u001b[39m     \u001b[38;5;28;01mreturn\u001b[39;00m val\n",
      "\u001b[31mRecursionError\u001b[39m: maximum recursion depth exceeded"
     ]
    }
   ],
   "source": [
    "class A:\n",
    "\n",
    "    def m1(self):\n",
    "        return 20\n",
    "\n",
    "class B(A):\n",
    "\n",
    "    def m1(self):\n",
    "        val=super().m1()+30\n",
    "        return val\n",
    "\n",
    "class C(B):\n",
    "  \n",
    "    def m1(self):\n",
    "        val=self.m1()+20 # self.m1 is calling it self  , because self means current instance\n",
    "        return val\n",
    "obj=C()\n",
    "print(obj.m1()) # infinite recursion"
   ]
  },
  {
   "cell_type": "markdown",
   "id": "68dc74ef-f902-4bac-a084-2c6ac605ec7e",
   "metadata": {},
   "source": [
    "### Polymorphism : Polymorphism means \"many forms.\" It allows different objects to use the same method name but perform different actions.\n",
    "\n",
    "- Method Overriding : When a child class redefines a method from its parent class.\n",
    "- Method Overloading : Python does not support method overloading (same method name with different parameters) like Java or C++.\n",
    "Instead, we use default arguments or *args.\n",
    "- Operator Overloading : Python allows customizing how operators (+, -, *, etc.) behave with objects using `__magic_methods__`."
   ]
  },
  {
   "cell_type": "code",
   "execution_count": 52,
   "id": "09788635-527f-402d-9e75-8edb6ceb9572",
   "metadata": {},
   "outputs": [],
   "source": [
    "## method overloading , in other languages\n",
    "class Shape :\n",
    "\n",
    "    def area(self ,a):\n",
    "        return a**2\n",
    "    def area(self , a,b):\n",
    "        return a * b"
   ]
  },
  {
   "cell_type": "code",
   "execution_count": 53,
   "id": "61e6b72b-0743-4651-b469-f5763213092a",
   "metadata": {},
   "outputs": [],
   "source": [
    "s = Shape()"
   ]
  },
  {
   "cell_type": "code",
   "execution_count": 54,
   "id": "ce3d08a2-4f8c-4f27-8ad6-8b04f8d24478",
   "metadata": {},
   "outputs": [
    {
     "ename": "TypeError",
     "evalue": "Shape.area() missing 1 required positional argument: 'b'",
     "output_type": "error",
     "traceback": [
      "\u001b[31m---------------------------------------------------------------------------\u001b[39m",
      "\u001b[31mTypeError\u001b[39m                                 Traceback (most recent call last)",
      "\u001b[36mCell\u001b[39m\u001b[36m \u001b[39m\u001b[32mIn[54]\u001b[39m\u001b[32m, line 1\u001b[39m\n\u001b[32m----> \u001b[39m\u001b[32m1\u001b[39m \u001b[43ms\u001b[49m\u001b[43m.\u001b[49m\u001b[43marea\u001b[49m\u001b[43m(\u001b[49m\u001b[32;43m3\u001b[39;49m\u001b[43m)\u001b[49m\n",
      "\u001b[31mTypeError\u001b[39m: Shape.area() missing 1 required positional argument: 'b'"
     ]
    }
   ],
   "source": [
    "s.area(3) "
   ]
  },
  {
   "cell_type": "code",
   "execution_count": 62,
   "id": "fb7db827-9ffd-4a2d-acd8-b52855db646e",
   "metadata": {},
   "outputs": [],
   "source": [
    "## method overloading indirect method in python\n",
    "class Shape:\n",
    "    def area(self,a,b=0):\n",
    "        if b== 0:\n",
    "            return a**2\n",
    "        else:\n",
    "            return (a*b)\n",
    "            "
   ]
  },
  {
   "cell_type": "code",
   "execution_count": 63,
   "id": "b0d00e8c-e1c7-4c1f-b82d-33d0398128eb",
   "metadata": {},
   "outputs": [],
   "source": [
    "s = Shape()"
   ]
  },
  {
   "cell_type": "code",
   "execution_count": 64,
   "id": "5708b02a-bacc-4f77-abc9-c908c696f533",
   "metadata": {},
   "outputs": [
    {
     "data": {
      "text/plain": [
       "9"
      ]
     },
     "execution_count": 64,
     "metadata": {},
     "output_type": "execute_result"
    }
   ],
   "source": [
    "s.area(3)"
   ]
  },
  {
   "cell_type": "code",
   "execution_count": 65,
   "id": "f161d82a-0c68-45b3-989d-378c7e7380b9",
   "metadata": {},
   "outputs": [
    {
     "data": {
      "text/plain": [
       "21"
      ]
     },
     "execution_count": 65,
     "metadata": {},
     "output_type": "execute_result"
    }
   ],
   "source": [
    "s.area(3,7)"
   ]
  },
  {
   "cell_type": "code",
   "execution_count": 66,
   "id": "4137ffea-b949-494b-8e66-5afe73cc9251",
   "metadata": {},
   "outputs": [
    {
     "data": {
      "text/plain": [
       "'HelloWorld'"
      ]
     },
     "execution_count": 66,
     "metadata": {},
     "output_type": "execute_result"
    }
   ],
   "source": [
    "# operator overloading\n",
    "\"Hello\" + \"World\" # we used + to concatinate the strings"
   ]
  },
  {
   "cell_type": "code",
   "execution_count": 67,
   "id": "e79f6dd9-d05c-4910-9944-1d47c0e7a036",
   "metadata": {},
   "outputs": [
    {
     "data": {
      "text/plain": [
       "7"
      ]
     },
     "execution_count": 67,
     "metadata": {},
     "output_type": "execute_result"
    }
   ],
   "source": [
    "2 + 5 # We used + to do arithmetic sum"
   ]
  },
  {
   "cell_type": "code",
   "execution_count": 68,
   "id": "3b85c264-9e72-454a-8b42-39abaa8b184a",
   "metadata": {},
   "outputs": [
    {
     "data": {
      "text/plain": [
       "[1, 3, 2, 4, 5]"
      ]
     },
     "execution_count": 68,
     "metadata": {},
     "output_type": "execute_result"
    }
   ],
   "source": [
    "[1,3] + [2,4,5] # we used + to join lists too , so thats how we used operator based on the parameters passed to it"
   ]
  },
  {
   "cell_type": "markdown",
   "id": "05793896-f1cd-4532-b5b3-d7feb29c069d",
   "metadata": {},
   "source": [
    "# **Abstraction in Python**\n",
    "\n",
    "## **What is Abstraction?**\n",
    "Abstraction is an **OOP concept** that **hides implementation details** and only shows the essential features of an object.  \n",
    "In Python, abstraction is achieved using **abstract classes** and **abstract methods**.\n",
    "\n",
    "---\n",
    "\n",
    "## **How to Implement Abstraction?**\n",
    "Python provides the `ABC` (**Abstract Base Class**) module to create abstract classes.\n",
    "\n",
    "### **1. Abstract Class**\n",
    "- A class that **cannot** be instantiated (i.e., you **cannot** create an object of it).\n",
    "- Must have at least one **abstract method**.\n",
    "\n",
    "### **2. Abstract Method**\n",
    "- A method that is **declared but not implemented** in the abstract class.\n",
    "- Must be implemented in child classes. if not it cannot access the parent class\n",
    "\n",
    "---\n"
   ]
  },
  {
   "cell_type": "code",
   "execution_count": 77,
   "id": "94df61c7-4dda-4183-af0c-46ad7a1a2988",
   "metadata": {},
   "outputs": [],
   "source": [
    "from abc import ABC, abstractmethod\n",
    "class BankApp(ABC):\n",
    "    def database(self):\n",
    "        print(\"connected to database\")\n",
    "    @abstractmethod\n",
    "    def security(self):\n",
    "        pass"
   ]
  },
  {
   "cell_type": "code",
   "execution_count": 78,
   "id": "452dc4fb-9826-4a18-9567-ff8d9850187b",
   "metadata": {},
   "outputs": [],
   "source": [
    "class MobileApp(BankApp):\n",
    "    def mobile_login(self):\n",
    "        print(\"Login to Mobile\")\n",
    "        self.database()"
   ]
  },
  {
   "cell_type": "code",
   "execution_count": 79,
   "id": "a3e14f69-e8cd-431e-a527-286d0c6d3ee4",
   "metadata": {},
   "outputs": [
    {
     "ename": "TypeError",
     "evalue": "Can't instantiate abstract class MobileApp without an implementation for abstract method 'security'",
     "output_type": "error",
     "traceback": [
      "\u001b[31m---------------------------------------------------------------------------\u001b[39m",
      "\u001b[31mTypeError\u001b[39m                                 Traceback (most recent call last)",
      "\u001b[36mCell\u001b[39m\u001b[36m \u001b[39m\u001b[32mIn[79]\u001b[39m\u001b[32m, line 1\u001b[39m\n\u001b[32m----> \u001b[39m\u001b[32m1\u001b[39m mob = \u001b[43mMobileApp\u001b[49m\u001b[43m(\u001b[49m\u001b[43m)\u001b[49m\n",
      "\u001b[31mTypeError\u001b[39m: Can't instantiate abstract class MobileApp without an implementation for abstract method 'security'"
     ]
    }
   ],
   "source": [
    "mob = MobileApp()"
   ]
  },
  {
   "cell_type": "code",
   "execution_count": 80,
   "id": "9241e746-e570-495c-9ffb-013300d17603",
   "metadata": {},
   "outputs": [],
   "source": [
    "class MobileApp(BankApp):\n",
    "    def mobile_login(self):\n",
    "        print(\"Login to Mobile\")\n",
    "        self.database()\n",
    "    def security(self):\n",
    "        print(\"Secured\")"
   ]
  },
  {
   "cell_type": "code",
   "execution_count": 81,
   "id": "2b9f3547-c251-4803-818e-1b608f7a28df",
   "metadata": {},
   "outputs": [],
   "source": [
    "mob = MobileApp()"
   ]
  },
  {
   "cell_type": "code",
   "execution_count": 82,
   "id": "b212d777-88c7-489b-81ff-14cd3471df98",
   "metadata": {},
   "outputs": [
    {
     "name": "stdout",
     "output_type": "stream",
     "text": [
      "Login to Mobile\n",
      "connected to database\n"
     ]
    }
   ],
   "source": [
    "mob.mobile_login()"
   ]
  },
  {
   "cell_type": "code",
   "execution_count": null,
   "id": "dac17101-cb79-4eb7-838f-a84a1458eef0",
   "metadata": {},
   "outputs": [],
   "source": []
  }
 ],
 "metadata": {
  "kernelspec": {
   "display_name": "Python 3 (ipykernel)",
   "language": "python",
   "name": "python3"
  },
  "language_info": {
   "codemirror_mode": {
    "name": "ipython",
    "version": 3
   },
   "file_extension": ".py",
   "mimetype": "text/x-python",
   "name": "python",
   "nbconvert_exporter": "python",
   "pygments_lexer": "ipython3",
   "version": "3.13.2"
  }
 },
 "nbformat": 4,
 "nbformat_minor": 5
}
