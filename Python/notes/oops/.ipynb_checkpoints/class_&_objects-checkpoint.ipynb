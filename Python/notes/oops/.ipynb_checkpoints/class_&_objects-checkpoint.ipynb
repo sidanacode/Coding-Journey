{
 "cells": [
  {
   "cell_type": "markdown",
   "id": "7757a9a8-743e-477b-8c9d-252afc814ace",
   "metadata": {},
   "source": [
    "# Objects and Classes"
   ]
  },
  {
   "cell_type": "markdown",
   "id": "e9cdba39-2695-47ee-b627-e6692796652e",
   "metadata": {},
   "source": [
    "### Class : Class is a blue print.\n",
    "### Object : Object is instance of Class.\n",
    "* Example-> Student of Class 12th, 12th is a class and student is an object of Class 12th"
   ]
  },
  {
   "cell_type": "code",
   "execution_count": 1,
   "id": "1eee7046-92e1-4f81-b516-e4d8adcc0042",
   "metadata": {},
   "outputs": [],
   "source": [
    "L = [1,2,3]"
   ]
  },
  {
   "cell_type": "code",
   "execution_count": 3,
   "id": "6edd2d6e-7630-4d99-a300-6e3a5c97eb6b",
   "metadata": {},
   "outputs": [
    {
     "ename": "AttributeError",
     "evalue": "'list' object has no attribute 'upper'",
     "output_type": "error",
     "traceback": [
      "\u001b[31m---------------------------------------------------------------------------\u001b[39m",
      "\u001b[31mAttributeError\u001b[39m                            Traceback (most recent call last)",
      "\u001b[36mCell\u001b[39m\u001b[36m \u001b[39m\u001b[32mIn[3]\u001b[39m\u001b[32m, line 1\u001b[39m\n\u001b[32m----> \u001b[39m\u001b[32m1\u001b[39m \u001b[43mL\u001b[49m\u001b[43m.\u001b[49m\u001b[43mupper\u001b[49m()\n",
      "\u001b[31mAttributeError\u001b[39m: 'list' object has no attribute 'upper'"
     ]
    }
   ],
   "source": [
    "L.upper()"
   ]
  },
  {
   "cell_type": "code",
   "execution_count": 4,
   "id": "fbb4d782-0527-464e-b0e6-c7e73b16521e",
   "metadata": {},
   "outputs": [
    {
     "ename": "AttributeError",
     "evalue": "'str' object has no attribute 'append'",
     "output_type": "error",
     "traceback": [
      "\u001b[31m---------------------------------------------------------------------------\u001b[39m",
      "\u001b[31mAttributeError\u001b[39m                            Traceback (most recent call last)",
      "\u001b[36mCell\u001b[39m\u001b[36m \u001b[39m\u001b[32mIn[4]\u001b[39m\u001b[32m, line 2\u001b[39m\n\u001b[32m      1\u001b[39m s = \u001b[33m'\u001b[39m\u001b[33mhello\u001b[39m\u001b[33m'\u001b[39m\n\u001b[32m----> \u001b[39m\u001b[32m2\u001b[39m \u001b[43ms\u001b[49m\u001b[43m.\u001b[49m\u001b[43mappend\u001b[49m(\u001b[33m'\u001b[39m\u001b[33mx\u001b[39m\u001b[33m'\u001b[39m)\n",
      "\u001b[31mAttributeError\u001b[39m: 'str' object has no attribute 'append'"
     ]
    }
   ],
   "source": [
    "s = 'hello'\n",
    "s.append('x')"
   ]
  },
  {
   "cell_type": "code",
   "execution_count": 5,
   "id": "93d3c916-429a-42c4-a9c5-d965328c0d87",
   "metadata": {},
   "outputs": [
    {
     "name": "stdout",
     "output_type": "stream",
     "text": [
      "<class 'list'>\n"
     ]
    }
   ],
   "source": [
    "print(type(L))"
   ]
  },
  {
   "cell_type": "markdown",
   "id": "e0a609ed-e234-4810-9922-6134d812e857",
   "metadata": {},
   "source": [
    "* **So here L is a object of class 'List'**\n",
    "* **And s is a object of class 'str'**"
   ]
  },
  {
   "cell_type": "markdown",
   "id": "d1efea06-5fe3-43ae-adb2-383717c83ca2",
   "metadata": {},
   "source": [
    "### **Syntax to Create a Class**"
   ]
  },
  {
   "cell_type": "code",
   "execution_count": 21,
   "id": "a5f74224-89cc-481f-9c0a-e61d46550695",
   "metadata": {},
   "outputs": [],
   "source": [
    "## class className :\n",
    "class Atm :\n",
    "    pass\n",
    "## here we have to write the code"
   ]
  },
  {
   "cell_type": "markdown",
   "id": "eb6423a3-3ad5-4aac-a722-3b03e05580fc",
   "metadata": {},
   "source": [
    "### **Syntax To Create an Object**"
   ]
  },
  {
   "cell_type": "code",
   "execution_count": 16,
   "id": "235e001a-ab93-4c47-8015-17e464b27aaa",
   "metadata": {},
   "outputs": [],
   "source": [
    "##  objectname = classname()\n",
    "L = list()\n"
   ]
  },
  {
   "cell_type": "code",
   "execution_count": 17,
   "id": "13ffaa20-bf9c-4078-ba09-100e2073fe54",
   "metadata": {},
   "outputs": [
    {
     "name": "stdout",
     "output_type": "stream",
     "text": [
      "<class 'list'>\n"
     ]
    }
   ],
   "source": [
    "print(type(L))"
   ]
  },
  {
   "cell_type": "code",
   "execution_count": 18,
   "id": "6f60f15d-d4ae-4749-9c9c-2cc93aed62a5",
   "metadata": {},
   "outputs": [
    {
     "data": {
      "text/plain": [
       "[]"
      ]
     },
     "execution_count": 18,
     "metadata": {},
     "output_type": "execute_result"
    }
   ],
   "source": [
    "L"
   ]
  },
  {
   "cell_type": "markdown",
   "id": "7c2c6b4e-5812-4997-94a8-dc103f3114ae",
   "metadata": {},
   "source": [
    "### Method vs Functions\n",
    "* Methods are the functions that are inside a class , like append , upper etc.\n",
    "* Function are the function that are independent like for instance we create odd_even fn"
   ]
  },
  {
   "cell_type": "markdown",
   "id": "6ffc274f-c0d7-467f-9488-a96cdd75b3e0",
   "metadata": {},
   "source": [
    "**Magic Methods** : Magic methods (also called dunder methods because they have double underscores __) are special methods in Python classes that are automatically called by Python in certain situations like:\n",
    "* Creating an object\n",
    "* Printing an object\n",
    "* Comparing objects\n",
    "* Adding two objects, etc."
   ]
  },
  {
   "cell_type": "markdown",
   "id": "cf007c69-1d0a-42ac-8a79-77dce9dbcd81",
   "metadata": {},
   "source": [
    " **Constructor in Python**:\n",
    "A **constructor** is a special method in Python used to **initialize the object** when a class is instantiated.  \n",
    "- It is defined using the `__init__()` method.  \n",
    "- The constructor is **automatically called** when an object is created.  \n",
    "- It is mainly used to **assign values to the object’s properties**.\n",
    "- benifts of creating constructor are , configuration related code like connecting to the internet etc, without the need of users input.\n",
    "\n",
    "**Syntax:**\n",
    "```python\n",
    "class MyClass:\n",
    "    def __init__(self, parameter1, parameter2):\n",
    "        self.attribute1 = parameter1\n",
    "        self.attribute2 = parameter2\n",
    "```\n",
    "**self** :\n",
    "\n",
    "- In Python, **`self`** is a **reference to the current instance (object) of the class**.  \n",
    "- It is **automatically passed** as the first parameter to any instance method (like `__init__()` or any other method).  \n",
    "- Using **`self`**, you can access:  \n",
    "  - The **variables (attributes)** of the object.  \n",
    "  - The **methods** of the object.  \n",
    "- It **represents the object itself**.\n",
    "- self is used because only objects can access the data and methods of a class.\n",
    "- self is not a keyword , we can use any word but as a convention self is used."
   ]
  },
  {
   "cell_type": "markdown",
   "id": "305a5385-63a6-4867-a6f3-b5a82b4fe964",
   "metadata": {},
   "source": [
    "### **An Atm app using Class and Object** "
   ]
  },
  {
   "cell_type": "code",
   "execution_count": 23,
   "id": "92f3b362-80b0-48e2-962e-19b9e39a2488",
   "metadata": {},
   "outputs": [],
   "source": [
    "class ATM():\n",
    "    ## to inatilize basic parameters we will use constructor and things that should start when we create a object of this class\n",
    "    def __init__(self):\n",
    "        self.pin = ''\n",
    "        self.balance = 0\n",
    "        self.menu()\n",
    "    def menu(self):\n",
    "        user_input = input(\"\"\"\n",
    "        Hi , How Can I help You?\n",
    "        Choose A Option:\n",
    "        1.Press 1 to create a pin\n",
    "        2.Press 2 to change pin\n",
    "        3.Press 3 to check balance\n",
    "        4.Press 4 to Withdraw\n",
    "        5.Anything Else to Exit        \n",
    "        \"\"\")\n",
    "        if user_input == '1':\n",
    "            self.createPin()\n",
    "        elif user_input == '2':\n",
    "            self.changePin()\n",
    "        elif user_input == '3':\n",
    "            self.check_balance()\n",
    "        elif user_input == '4':\n",
    "            self.withdraw()\n",
    "        else:\n",
    "            print(\"Thankyou for using ATM\")\n",
    "            pass\n",
    "    def createPin(self):\n",
    "         user_pin = input(\"Enter your pin\")\n",
    "         self.pin = user_pin\n",
    "         user_balance = int(input(\"Enter your Balance\"))\n",
    "         self.balance = user_balance\n",
    "         print(\"Pin Created Succesfully\")\n",
    "         self.menu()\n",
    "            \n",
    "    def changePin(self):\n",
    "        old_pin = input(\"Enter old pin\")\n",
    "        if old_pin == self.pin :\n",
    "            new_pin = input(\"Enter New Pin\")\n",
    "            self.pin = new_pin\n",
    "            print(\"Pin Changed Succesfully\")\n",
    "            self.menu()\n",
    "        else:\n",
    "            print(\"Pin Incorrect Try-Again\")\n",
    "            self.menu()\n",
    "    def check_balance(self):\n",
    "        print(f\"Your Current Balance is {self.balance}\")\n",
    "        self.menu()\n",
    "    def withdraw(self):\n",
    "        user_pin = input(\"Enter your Pin\")\n",
    "        pin_check = lambda x , y : True if x == y else False\n",
    "        \n",
    "        if pin_check(user_pin,self.pin) == True:\n",
    "            amount = int(input(\"Enter Amount to Withdraw\"))\n",
    "            if amount <= self.balance:\n",
    "                self.balance = self.balance - amount\n",
    "                print(f\"You have succesfully withdrawn {amount} remaining Balance is {self.balance}\")\n",
    "                self.menu()\n",
    "            else:\n",
    "                print(\"don't have sufficent amount\")\n",
    "                self.menu()\n",
    "        else:\n",
    "            print(\"Incorrect Pin\")\n",
    "            self.menu()"
   ]
  },
  {
   "cell_type": "code",
   "execution_count": 24,
   "id": "b75d391f-297f-419b-904e-1ff3546630fc",
   "metadata": {},
   "outputs": [
    {
     "name": "stdin",
     "output_type": "stream",
     "text": [
      "\n",
      "        Hi , How Can I help You?\n",
      "        Choose A Option:\n",
      "        1.Press 1 to create a pin\n",
      "        2.Press 2 to change pin\n",
      "        3.Press 3 to check balance\n",
      "        4.Press 4 to Withdraw\n",
      "        5.Anything Else to Exit        \n",
      "         1\n",
      "Enter your pin 1478\n",
      "Enter your Balance 20000\n"
     ]
    },
    {
     "name": "stdout",
     "output_type": "stream",
     "text": [
      "Pin Created Succesfully\n"
     ]
    },
    {
     "name": "stdin",
     "output_type": "stream",
     "text": [
      "\n",
      "        Hi , How Can I help You?\n",
      "        Choose A Option:\n",
      "        1.Press 1 to create a pin\n",
      "        2.Press 2 to change pin\n",
      "        3.Press 3 to check balance\n",
      "        4.Press 4 to Withdraw\n",
      "        5.Anything Else to Exit        \n",
      "         4\n",
      "Enter your Pin 1478\n",
      "Enter Amount to Withdraw 20000\n"
     ]
    },
    {
     "name": "stdout",
     "output_type": "stream",
     "text": [
      "You have succesfully withdrawn 20000 remaining Balance is 0\n"
     ]
    },
    {
     "name": "stdin",
     "output_type": "stream",
     "text": [
      "\n",
      "        Hi , How Can I help You?\n",
      "        Choose A Option:\n",
      "        1.Press 1 to create a pin\n",
      "        2.Press 2 to change pin\n",
      "        3.Press 3 to check balance\n",
      "        4.Press 4 to Withdraw\n",
      "        5.Anything Else to Exit        \n",
      "         5\n"
     ]
    },
    {
     "name": "stdout",
     "output_type": "stream",
     "text": [
      "Thankyou for using ATM\n"
     ]
    }
   ],
   "source": [
    "ob1 = ATM()"
   ]
  },
  {
   "cell_type": "markdown",
   "id": "b4fb1f9f-d622-411d-a122-bb0a4c705f5f",
   "metadata": {},
   "source": [
    "### Using methods vs Functions"
   ]
  },
  {
   "cell_type": "code",
   "execution_count": 25,
   "id": "d30e1e1d-4e2d-4c27-b2bc-8a9b7204e72b",
   "metadata": {},
   "outputs": [
    {
     "data": {
      "text/plain": [
       "3"
      ]
     },
     "execution_count": 25,
     "metadata": {},
     "output_type": "execute_result"
    }
   ],
   "source": [
    "## funcitons are outside so\n",
    "L = [1,2,3]\n",
    "len(L) # function len"
   ]
  },
  {
   "cell_type": "code",
   "execution_count": 26,
   "id": "a9342787-44c9-4226-9bc9-9bab02db774c",
   "metadata": {},
   "outputs": [],
   "source": [
    "## methods are inside the class so\n",
    "L.append(4)"
   ]
  },
  {
   "cell_type": "code",
   "execution_count": 27,
   "id": "f05d42fe-7917-4715-91ea-b211cd3ea054",
   "metadata": {},
   "outputs": [
    {
     "data": {
      "text/plain": [
       "[1, 2, 3, 4]"
      ]
     },
     "execution_count": 27,
     "metadata": {},
     "output_type": "execute_result"
    }
   ],
   "source": [
    "L"
   ]
  },
  {
   "cell_type": "markdown",
   "id": "3c512b48-7c84-42b0-aaba-0c5281e4152c",
   "metadata": {},
   "source": [
    "## OWN DATA TYPES\n",
    "**FRACTION**"
   ]
  },
  {
   "cell_type": "code",
   "execution_count": 57,
   "id": "622b7eea-898c-41e9-ab5c-46523682818e",
   "metadata": {},
   "outputs": [],
   "source": [
    "class Fraction :\n",
    "    def __init__(self,x,y):\n",
    "        self.num = x\n",
    "        self.den = y\n",
    "        print(self.__str__())\n",
    "    def __str__(self):\n",
    "        return f\"{self.num}/{self.den}\"\n",
    "    def __add__(self,other):\n",
    "        new_num = self.num*other.den + other.num*self.den\n",
    "        new_den = self.den*other.den\n",
    "        return f\"{new_num}/{new_den}\"\n",
    "        \n",
    "    def __mul__(self,other):\n",
    "        new_num = self.num*other.num\n",
    "        new_den = self.den*other.den\n",
    "        return f\"{new_num}/{new_den}\"\n",
    "        \n",
    "    def __sub__(self,other):\n",
    "        new_num = self.num*other.den - other.num*self.den\n",
    "        new_den = self.den*other.den\n",
    "        return f\"{new_num}/{new_den}\"\n",
    "    def __truediv__(self,other):\n",
    "        new_num = self.num*other.den\n",
    "        new_den = self.den*other.num\n",
    "        return f\"{new_num}/{new_den}\"\n",
    "    def convert_to_decimal(self):\n",
    "        return self.num/self.den\n",
    "    "
   ]
  },
  {
   "cell_type": "code",
   "execution_count": 58,
   "id": "3562224c-3d9a-4258-a063-54ab7d79a86d",
   "metadata": {},
   "outputs": [
    {
     "name": "stdout",
     "output_type": "stream",
     "text": [
      "3/4\n"
     ]
    }
   ],
   "source": [
    "frac1 = Fraction(3,4)"
   ]
  },
  {
   "cell_type": "code",
   "execution_count": 59,
   "id": "f8c4166a-dac3-4cda-b942-afa1abd1b2c4",
   "metadata": {},
   "outputs": [
    {
     "name": "stdout",
     "output_type": "stream",
     "text": [
      "4/5\n"
     ]
    }
   ],
   "source": [
    "frac2 = Fraction(4,5)"
   ]
  },
  {
   "cell_type": "code",
   "execution_count": 60,
   "id": "da3c973d-4407-4c3e-892a-4726bdc19932",
   "metadata": {},
   "outputs": [
    {
     "data": {
      "text/plain": [
       "'31/20'"
      ]
     },
     "execution_count": 60,
     "metadata": {},
     "output_type": "execute_result"
    }
   ],
   "source": [
    "frac1+frac2"
   ]
  },
  {
   "cell_type": "code",
   "execution_count": 61,
   "id": "abd75410-f062-456d-8cbc-6aa7489a7301",
   "metadata": {},
   "outputs": [
    {
     "data": {
      "text/plain": [
       "'-1/20'"
      ]
     },
     "execution_count": 61,
     "metadata": {},
     "output_type": "execute_result"
    }
   ],
   "source": [
    "frac1-frac2"
   ]
  },
  {
   "cell_type": "code",
   "execution_count": 62,
   "id": "d810b11b-a477-43c8-8627-8e79066b6110",
   "metadata": {},
   "outputs": [
    {
     "data": {
      "text/plain": [
       "'12/20'"
      ]
     },
     "execution_count": 62,
     "metadata": {},
     "output_type": "execute_result"
    }
   ],
   "source": [
    "frac1*frac2"
   ]
  },
  {
   "cell_type": "code",
   "execution_count": 63,
   "id": "8e4c9904-6c71-4faf-ab68-f11c179ec56e",
   "metadata": {},
   "outputs": [
    {
     "data": {
      "text/plain": [
       "'15/16'"
      ]
     },
     "execution_count": 63,
     "metadata": {},
     "output_type": "execute_result"
    }
   ],
   "source": [
    "frac1/frac2"
   ]
  },
  {
   "cell_type": "code",
   "execution_count": 66,
   "id": "91ca184d-e1f1-4fac-a5ce-06aaa9da2def",
   "metadata": {},
   "outputs": [
    {
     "data": {
      "text/plain": [
       "0.75"
      ]
     },
     "execution_count": 66,
     "metadata": {},
     "output_type": "execute_result"
    }
   ],
   "source": [
    "Fraction.convert_to_decimal(frac1)"
   ]
  },
  {
   "cell_type": "code",
   "execution_count": null,
   "id": "489e7622-9c89-45c1-ac21-57de2162d49c",
   "metadata": {},
   "outputs": [],
   "source": []
  }
 ],
 "metadata": {
  "kernelspec": {
   "display_name": "Python 3 (ipykernel)",
   "language": "python",
   "name": "python3"
  },
  "language_info": {
   "codemirror_mode": {
    "name": "ipython",
    "version": 3
   },
   "file_extension": ".py",
   "mimetype": "text/x-python",
   "name": "python",
   "nbconvert_exporter": "python",
   "pygments_lexer": "ipython3",
   "version": "3.13.2"
  }
 },
 "nbformat": 4,
 "nbformat_minor": 5
}
