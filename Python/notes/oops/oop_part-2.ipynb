{
 "cells": [
  {
   "cell_type": "markdown",
   "id": "ae00e577-d6e0-4813-be63-d698baeb6bc5",
   "metadata": {},
   "source": [
    "## REVISION"
   ]
  },
  {
   "cell_type": "markdown",
   "id": "95a57499-6c72-40c9-a7a5-6763e92e0a78",
   "metadata": {},
   "source": [
    "### Write OOP classes to handle the following scenarios:\n",
    "\n",
    "- A user can create and view 2D coordinates\n",
    "- A user can find out the distance between 2 coordinates\n",
    "- A user can find find the distance of a coordinate from origin\n",
    "- A user can check if a point lies on a given line\n",
    "- A user can find the distance between a given 2D point and a given line\n",
    "- A user can check if two lines intersect"
   ]
  },
  {
   "cell_type": "code",
   "execution_count": 139,
   "id": "cc07f475-11f4-4482-b8f1-5fc037cb4509",
   "metadata": {},
   "outputs": [],
   "source": [
    "class Point:\n",
    "    def __init__(self,x,y):\n",
    "        self.X_cod = x\n",
    "        self.Y_cod = y\n",
    "\n",
    "    def __str__(self):\n",
    "        return f\"<{self.X_cod},{self.Y_cod}>\"\n",
    "   \n",
    "    def euclidean_dist(self,other):\n",
    "         return ((other.X_cod-self.X_cod)**2 + (other.Y_cod-self.Y_cod)**2)**0.5\n",
    "\n",
    "    def dist_ori(self):\n",
    "        O = Point(0,0)\n",
    "        return (self.euclidean_dist(O))\n",
    "class Line:\n",
    "    def __init__(self,A,B,C):\n",
    "        self.A = A\n",
    "        self.B = B\n",
    "        self.C = C\n",
    "    def __str__(self):\n",
    "        return f\"{self.A}x+{self.B}y+{self.C}={0}\"\n",
    "    def point_on_line(self,point):\n",
    "        if(self.A*point.X_cod + self.B*point.Y_cod+self.C == 0):\n",
    "            print(\"The Point lies on Line\")\n",
    "        \n",
    "        else:\n",
    "            print(\"The Point doesn`t lie on the line\")\n",
    "            \n",
    "    def dist_Point(self,Point):\n",
    "        dist = abs(self.A*Point.X_cod + self.B*Point.Y_cod + self.C)//((self.A**2 + self.B**2)**0.5)\n",
    "        return dist\n",
    "    def intersect(self,other):\n",
    "        if (self.A/other.A != self.B/other.B):\n",
    "            print(\"These lines Intersect\")\n",
    "        else:\n",
    "            print(\"They Do not intersect\")"
   ]
  },
  {
   "cell_type": "code",
   "execution_count": 140,
   "id": "e69914b4-f637-4c71-9138-07d04ae351c1",
   "metadata": {},
   "outputs": [],
   "source": [
    "a = Point(4,5)"
   ]
  },
  {
   "cell_type": "code",
   "execution_count": 141,
   "id": "d45a527f-adc6-4e00-a48f-e700efbabc1a",
   "metadata": {},
   "outputs": [
    {
     "name": "stdout",
     "output_type": "stream",
     "text": [
      "<4,5>\n"
     ]
    }
   ],
   "source": [
    "print(a)"
   ]
  },
  {
   "cell_type": "code",
   "execution_count": 142,
   "id": "58367719-154b-4d0a-a32e-67f7dea20ec9",
   "metadata": {},
   "outputs": [],
   "source": [
    "b = Point(0,2)"
   ]
  },
  {
   "cell_type": "code",
   "execution_count": 143,
   "id": "cbf06c54-1943-49e9-8d0a-5fc6165d0b68",
   "metadata": {},
   "outputs": [
    {
     "data": {
      "text/plain": [
       "5.0"
      ]
     },
     "execution_count": 143,
     "metadata": {},
     "output_type": "execute_result"
    }
   ],
   "source": [
    "a.euclidean_dist(b)"
   ]
  },
  {
   "cell_type": "code",
   "execution_count": 144,
   "id": "cb97f97d-38e8-4a54-a3f8-19c5ab6ebd78",
   "metadata": {},
   "outputs": [
    {
     "data": {
      "text/plain": [
       "6.4031242374328485"
      ]
     },
     "execution_count": 144,
     "metadata": {},
     "output_type": "execute_result"
    }
   ],
   "source": [
    "a.dist_ori()"
   ]
  },
  {
   "cell_type": "code",
   "execution_count": 145,
   "id": "9a78b922-5125-44e8-a272-45428732175d",
   "metadata": {},
   "outputs": [],
   "source": [
    "l1 = Line(2,4,6)"
   ]
  },
  {
   "cell_type": "code",
   "execution_count": 146,
   "id": "fba4126c-1465-4c84-8a95-cc89b0953c05",
   "metadata": {},
   "outputs": [
    {
     "name": "stdout",
     "output_type": "stream",
     "text": [
      "2x+4y+6=0\n"
     ]
    }
   ],
   "source": [
    "print(l1)"
   ]
  },
  {
   "cell_type": "code",
   "execution_count": 147,
   "id": "bfea0c9c-1ad6-466b-8fe6-aa646dadccb4",
   "metadata": {},
   "outputs": [
    {
     "name": "stdout",
     "output_type": "stream",
     "text": [
      "The Point doesn`t lie on the line\n"
     ]
    }
   ],
   "source": [
    "l1.point_on_line(b)"
   ]
  },
  {
   "cell_type": "code",
   "execution_count": 148,
   "id": "ceff3a67-37a0-4b30-9b82-994aaddccce8",
   "metadata": {},
   "outputs": [
    {
     "data": {
      "text/plain": [
       "7.0"
      ]
     },
     "execution_count": 148,
     "metadata": {},
     "output_type": "execute_result"
    }
   ],
   "source": [
    "l1.dist_Point(a)"
   ]
  },
  {
   "cell_type": "code",
   "execution_count": 156,
   "id": "ec465821-1fe1-4ff4-bbb8-cc8f4f9c5a22",
   "metadata": {},
   "outputs": [],
   "source": [
    "l2 = Line(1,2,3)"
   ]
  },
  {
   "cell_type": "code",
   "execution_count": 157,
   "id": "4b277ba0-784c-4005-ad48-341bbce38f0b",
   "metadata": {},
   "outputs": [
    {
     "name": "stdout",
     "output_type": "stream",
     "text": [
      "They Do not intersect\n"
     ]
    }
   ],
   "source": [
    "l1.intersect(l2)"
   ]
  },
  {
   "cell_type": "markdown",
   "id": "f6621e8f-0ab6-4a89-8402-573503891b71",
   "metadata": {},
   "source": [
    "## How objects access attributes"
   ]
  },
  {
   "cell_type": "code",
   "execution_count": 3,
   "id": "48ada268-1b35-4554-b898-595f3c393d16",
   "metadata": {},
   "outputs": [],
   "source": [
    "class Person :\n",
    "    def __init__(self,name,country):\n",
    "        self.name = name\n",
    "        self.country = country\n",
    "    def greet(self):\n",
    "        if self.country == \"india\":\n",
    "            print(\"Namste\",self.name)\n",
    "        else:\n",
    "            print(\"Hello\",self.name)\n"
   ]
  },
  {
   "cell_type": "code",
   "execution_count": 4,
   "id": "c1cf9af7-8bd2-4235-80ea-e97d371a0abd",
   "metadata": {},
   "outputs": [],
   "source": [
    "p1 = Person(\"Tanish\",'india')"
   ]
  },
  {
   "cell_type": "code",
   "execution_count": 5,
   "id": "00be00ad-3ae8-4c82-8e12-74fb2a2534ff",
   "metadata": {},
   "outputs": [
    {
     "name": "stdout",
     "output_type": "stream",
     "text": [
      "Namste Tanish\n"
     ]
    }
   ],
   "source": [
    "p1.greet()"
   ]
  },
  {
   "cell_type": "code",
   "execution_count": 6,
   "id": "3ee2e2b2-3901-4e5c-aeca-9f9a90c78918",
   "metadata": {},
   "outputs": [
    {
     "data": {
      "text/plain": [
       "'Tanish'"
      ]
     },
     "execution_count": 6,
     "metadata": {},
     "output_type": "execute_result"
    }
   ],
   "source": [
    "# accessing attributes (data)\n",
    "p1.name"
   ]
  },
  {
   "cell_type": "code",
   "execution_count": 7,
   "id": "350181c8-2f7e-4d0f-9d99-eb5668bdd179",
   "metadata": {},
   "outputs": [
    {
     "data": {
      "text/plain": [
       "'india'"
      ]
     },
     "execution_count": 7,
     "metadata": {},
     "output_type": "execute_result"
    }
   ],
   "source": [
    "p1.country"
   ]
  },
  {
   "cell_type": "code",
   "execution_count": 8,
   "id": "9d7a7efa-34b4-4583-acb6-4de13459b18c",
   "metadata": {},
   "outputs": [
    {
     "ename": "AttributeError",
     "evalue": "'Person' object has no attribute 'gender'",
     "output_type": "error",
     "traceback": [
      "\u001b[31m---------------------------------------------------------------------------\u001b[39m",
      "\u001b[31mAttributeError\u001b[39m                            Traceback (most recent call last)",
      "\u001b[36mCell\u001b[39m\u001b[36m \u001b[39m\u001b[32mIn[8]\u001b[39m\u001b[32m, line 2\u001b[39m\n\u001b[32m      1\u001b[39m \u001b[38;5;66;03m## what if i try to access non-existent attributes\u001b[39;00m\n\u001b[32m----> \u001b[39m\u001b[32m2\u001b[39m \u001b[43mp1\u001b[49m\u001b[43m.\u001b[49m\u001b[43mgender\u001b[49m\n",
      "\u001b[31mAttributeError\u001b[39m: 'Person' object has no attribute 'gender'"
     ]
    }
   ],
   "source": [
    "## what if i try to access non-existent attributes\n",
    "p1.gender"
   ]
  },
  {
   "cell_type": "code",
   "execution_count": 9,
   "id": "4f57972a-3914-46c6-896d-5bbab4bd0017",
   "metadata": {},
   "outputs": [
    {
     "name": "stdout",
     "output_type": "stream",
     "text": [
      "Namste Tanish\n"
     ]
    }
   ],
   "source": [
    "# how to access methods\n",
    "p1.greet()"
   ]
  },
  {
   "cell_type": "markdown",
   "id": "5c3b8a9a-856d-4fd2-b33f-903a383d0505",
   "metadata": {},
   "source": [
    "### Attributes Creation From outside of the class\n",
    "* creating a attribute outside the class doesnt affect the class."
   ]
  },
  {
   "cell_type": "code",
   "execution_count": 15,
   "id": "6e2635d0-9021-4325-b09b-dcdf9c79429b",
   "metadata": {},
   "outputs": [],
   "source": [
    "p1.gender = 'male' "
   ]
  },
  {
   "cell_type": "code",
   "execution_count": 16,
   "id": "dcec3361-2b64-450b-9f96-974b1dc0c340",
   "metadata": {},
   "outputs": [
    {
     "data": {
      "text/plain": [
       "'male'"
      ]
     },
     "execution_count": 16,
     "metadata": {},
     "output_type": "execute_result"
    }
   ],
   "source": [
    "p1.gender"
   ]
  },
  {
   "cell_type": "code",
   "execution_count": 17,
   "id": "ced3749d-1f82-432d-8b20-ecbd564c25bf",
   "metadata": {},
   "outputs": [],
   "source": [
    "p2 = Person(\"Himanshu\",\"male\")"
   ]
  },
  {
   "cell_type": "code",
   "execution_count": 18,
   "id": "cee2ff93-3d21-4a5e-971b-83bb61b05b15",
   "metadata": {},
   "outputs": [
    {
     "ename": "AttributeError",
     "evalue": "'Person' object has no attribute 'gender'",
     "output_type": "error",
     "traceback": [
      "\u001b[31m---------------------------------------------------------------------------\u001b[39m",
      "\u001b[31mAttributeError\u001b[39m                            Traceback (most recent call last)",
      "\u001b[36mCell\u001b[39m\u001b[36m \u001b[39m\u001b[32mIn[18]\u001b[39m\u001b[32m, line 1\u001b[39m\n\u001b[32m----> \u001b[39m\u001b[32m1\u001b[39m \u001b[43mp2\u001b[49m\u001b[43m.\u001b[49m\u001b[43mgender\u001b[49m \n",
      "\u001b[31mAttributeError\u001b[39m: 'Person' object has no attribute 'gender'"
     ]
    }
   ],
   "source": [
    "p2.gender "
   ]
  },
  {
   "cell_type": "code",
   "execution_count": 19,
   "id": "c280d9b3-63fc-404e-95c9-aa40af912b9f",
   "metadata": {},
   "outputs": [
    {
     "data": {
      "text/plain": [
       "'male'"
      ]
     },
     "execution_count": 19,
     "metadata": {},
     "output_type": "execute_result"
    }
   ],
   "source": [
    "p1.gender"
   ]
  },
  {
   "cell_type": "markdown",
   "id": "5bc0cc03-8c96-4340-a302-97b099189706",
   "metadata": {},
   "source": [
    "## Refrence Variable :\n",
    "- In python , variables are just pointing to a data stored at a memory location. They are not containers that store values the just point at them.\n",
    "- The pointing thing is call refrence , they refer to that particular memory location\n",
    "- A reference variable stores the memory address of an object instead of the actual object itself. This means multiple variables can refer to the same object."
   ]
  },
  {
   "cell_type": "code",
   "execution_count": 26,
   "id": "407769d0-7507-4d31-a24a-d140cf82bc43",
   "metadata": {},
   "outputs": [],
   "source": [
    "class Person:\n",
    "    def __init__(self):\n",
    "        self.name = \"Tanish\"\n",
    "        self.gender = \"Male\"\n",
    "    def __str__(self):\n",
    "        return \"Tanish , Male\""
   ]
  },
  {
   "cell_type": "code",
   "execution_count": 30,
   "id": "dc3678db-c541-4dea-bd45-70bf1a222bf0",
   "metadata": {},
   "outputs": [],
   "source": [
    "p = Person()\n",
    "q = p\n",
    "# so here the object is stored at a memory location and p has address of it ,but when we q = p , q also gets address of Object"
   ]
  },
  {
   "cell_type": "code",
   "execution_count": 31,
   "id": "2e8c581e-85e9-4c9b-b4cf-725666810f97",
   "metadata": {},
   "outputs": [
    {
     "name": "stdout",
     "output_type": "stream",
     "text": [
      "Tanish , Male\n"
     ]
    }
   ],
   "source": [
    "print(q)"
   ]
  },
  {
   "cell_type": "code",
   "execution_count": 33,
   "id": "5c3db96b-a983-47da-b413-aa9e1975dfec",
   "metadata": {},
   "outputs": [
    {
     "name": "stdout",
     "output_type": "stream",
     "text": [
      "2745434011152\n",
      "2745434011152\n"
     ]
    }
   ],
   "source": [
    "# Multiple Refrence \n",
    "print(id(q))\n",
    "print(id(p))\n",
    "# they are pointing at same memory location hence they have same id , but object has multiple refrence"
   ]
  },
  {
   "cell_type": "markdown",
   "id": "a4510cbd-2521-4897-ae48-ecd62a34ef01",
   "metadata": {},
   "source": [
    "### Changing attributes with help of 2nd object\n",
    "- We know, that both variables are pointing at same object . so changes made by one will affect the whole"
   ]
  },
  {
   "cell_type": "code",
   "execution_count": 34,
   "id": "0db0274c-57c5-493f-8ab4-bc9332510618",
   "metadata": {},
   "outputs": [
    {
     "name": "stdout",
     "output_type": "stream",
     "text": [
      "Tanish\n",
      "Tanish\n",
      "Sidana\n",
      "Sidana\n"
     ]
    }
   ],
   "source": [
    "print(p.name)\n",
    "print(q.name)\n",
    "q.name = \"Sidana\"\n",
    "print(q.name)\n",
    "print(p.name)"
   ]
  },
  {
   "cell_type": "markdown",
   "id": "dfaf6ab0-4190-494f-a321-923705300043",
   "metadata": {},
   "source": [
    "### We can Create Objects without refrence variable as well\n",
    "**Key Points**\n",
    "- The object is created and initialized but cannot be used later since it has no reference.\n",
    "- It is immediately eligible for garbage collection if no other references exist."
   ]
  },
  {
   "cell_type": "code",
   "execution_count": 36,
   "id": "1b13d5a1-5e2b-473a-8886-aae248162b06",
   "metadata": {},
   "outputs": [
    {
     "name": "stdout",
     "output_type": "stream",
     "text": [
      "Car Tesla created!\n"
     ]
    },
    {
     "data": {
      "text/plain": [
       "<__main__.Car at 0x27f38c16510>"
      ]
     },
     "execution_count": 36,
     "metadata": {},
     "output_type": "execute_result"
    }
   ],
   "source": [
    "class Car:\n",
    "    def __init__(self, brand):\n",
    "        self.brand = brand\n",
    "        print(f\"Car {brand} created!\")\n",
    "\n",
    "Car(\"Tesla\")  # Object is created but has no reference\n",
    "# so it has no refrence so we cannot use it again , it is just one time."
   ]
  },
  {
   "cell_type": "markdown",
   "id": "ab046844-f4f8-4188-b56e-0a6bba8a753f",
   "metadata": {},
   "source": [
    "###  Pass by Refrence \n",
    "- We can pass a object to a fn by using a refrence , and for storing refrence we use variable"
   ]
  },
  {
   "cell_type": "code",
   "execution_count": 47,
   "id": "44c435f7-dc29-445c-9bd4-2f43b14df4cc",
   "metadata": {},
   "outputs": [],
   "source": [
    "class Person:\n",
    "    def __init__(self,name,gender):\n",
    "        self.name = name\n",
    "        self.gender = gender\n",
    "        \n",
    "# outside the class fn\n",
    "def greet(person):\n",
    "    print(id(person))\n",
    "    print(f\"Hi my name is {person.name} and I am a {person.gender} \")\n",
    "    ## we are creating a new object inside a fn\n",
    "    p1 = Person('ankit',\"male\")\n",
    "    return p1"
   ]
  },
  {
   "cell_type": "code",
   "execution_count": 55,
   "id": "259ab34e-9d6b-40bc-8b07-35e745f84189",
   "metadata": {},
   "outputs": [
    {
     "name": "stdout",
     "output_type": "stream",
     "text": [
      "2745436006608\n",
      "2745436006608\n",
      "Hi my name is Tanish and I am a Male \n"
     ]
    },
    {
     "data": {
      "text/plain": [
       "<__main__.Person at 0x27f38ba2360>"
      ]
     },
     "execution_count": 55,
     "metadata": {},
     "output_type": "execute_result"
    }
   ],
   "source": [
    "p = Person(\"Tanish\",\"Male\")\n",
    "print(id(p))\n",
    "greet(p)"
   ]
  },
  {
   "cell_type": "code",
   "execution_count": 57,
   "id": "8fa632a5-0205-4856-93b6-5fe9634853ff",
   "metadata": {},
   "outputs": [
    {
     "name": "stdout",
     "output_type": "stream",
     "text": [
      "2745436006608\n",
      "Hi my name is Tanish and I am a Male \n",
      "2745434080080\n"
     ]
    }
   ],
   "source": [
    "x =  greet(p)\n",
    "print(id(x))"
   ]
  },
  {
   "cell_type": "code",
   "execution_count": 50,
   "id": "a0bde634-8a48-4346-8027-4598797e6505",
   "metadata": {},
   "outputs": [
    {
     "data": {
      "text/plain": [
       "'ankit'"
      ]
     },
     "execution_count": 50,
     "metadata": {},
     "output_type": "execute_result"
    }
   ],
   "source": [
    "x.name"
   ]
  },
  {
   "cell_type": "code",
   "execution_count": 51,
   "id": "c55336be-07b5-4d10-b0b8-863c58cd291a",
   "metadata": {},
   "outputs": [
    {
     "data": {
      "text/plain": [
       "'male'"
      ]
     },
     "execution_count": 51,
     "metadata": {},
     "output_type": "execute_result"
    }
   ],
   "source": [
    "x.gender"
   ]
  },
  {
   "cell_type": "code",
   "execution_count": 52,
   "id": "734afa9c-03e0-4e47-90fb-61d4e0f0275a",
   "metadata": {},
   "outputs": [
    {
     "name": "stdout",
     "output_type": "stream",
     "text": [
      "2745434009232\n",
      "Hi my name is ankit and I am a male \n"
     ]
    },
    {
     "data": {
      "text/plain": [
       "<__main__.Person at 0x27f391e8770>"
      ]
     },
     "execution_count": 52,
     "metadata": {},
     "output_type": "execute_result"
    }
   ],
   "source": [
    "greet(x)"
   ]
  },
  {
   "cell_type": "code",
   "execution_count": 53,
   "id": "456e0a60-ca39-4176-80f7-b44dc6c79aca",
   "metadata": {},
   "outputs": [
    {
     "name": "stdout",
     "output_type": "stream",
     "text": [
      "2745434009232\n",
      "Hi my name is ankit and I am a male \n"
     ]
    }
   ],
   "source": [
    "y = greet(x)"
   ]
  },
  {
   "cell_type": "code",
   "execution_count": 54,
   "id": "1785e974-38df-4d99-a83d-2d4136696134",
   "metadata": {},
   "outputs": [
    {
     "data": {
      "text/plain": [
       "'ankit'"
      ]
     },
     "execution_count": 54,
     "metadata": {},
     "output_type": "execute_result"
    }
   ],
   "source": [
    "y.name"
   ]
  },
  {
   "cell_type": "markdown",
   "id": "e90f01dc-afbd-41e6-acae-f59ba3a4e77c",
   "metadata": {},
   "source": [
    "## Object Mutability\n"
   ]
  },
  {
   "cell_type": "code",
   "execution_count": 60,
   "id": "fa640a7e-a556-4711-be20-c09207f93df7",
   "metadata": {},
   "outputs": [],
   "source": [
    "class Person:\n",
    "\n",
    "  def __init__(self,name,gender):\n",
    "    self.name = name\n",
    "    self.gender = gender\n",
    "\n",
    "# outside the class -> function\n",
    "def greet(person):\n",
    "  person.name = 'ankit' # in this piece of code the name attribute of passed fn is changing and changed object is returning \n",
    "  return person"
   ]
  },
  {
   "cell_type": "code",
   "execution_count": 61,
   "id": "205e68fa-d19f-4b12-b5fa-4489c8c3da19",
   "metadata": {},
   "outputs": [],
   "source": [
    "p = Person(\"Tanish\",\"Male\")\n",
    "x = greet(p)"
   ]
  },
  {
   "cell_type": "code",
   "execution_count": 62,
   "id": "f0254794-5ff0-4e58-9629-6cb43a34c16d",
   "metadata": {},
   "outputs": [
    {
     "data": {
      "text/plain": [
       "'ankit'"
      ]
     },
     "execution_count": 62,
     "metadata": {},
     "output_type": "execute_result"
    }
   ],
   "source": [
    "p.name"
   ]
  },
  {
   "cell_type": "code",
   "execution_count": 63,
   "id": "fd92471e-cd15-4ad6-a1a8-eecefd118e36",
   "metadata": {},
   "outputs": [
    {
     "data": {
      "text/plain": [
       "'ankit'"
      ]
     },
     "execution_count": 63,
     "metadata": {},
     "output_type": "execute_result"
    }
   ],
   "source": [
    "x.name"
   ]
  },
  {
   "cell_type": "code",
   "execution_count": 64,
   "id": "cfaaacf4-56e4-4ee6-aa87-a919122c8e48",
   "metadata": {},
   "outputs": [
    {
     "name": "stdout",
     "output_type": "stream",
     "text": [
      "2745436301232\n",
      "2745436301232\n"
     ]
    }
   ],
   "source": [
    "print(id(p))\n",
    "print(id(x))"
   ]
  },
  {
   "cell_type": "markdown",
   "id": "efa53e98-46c6-4cc4-8938-372ff64086aa",
   "metadata": {},
   "source": [
    "**So this Proves that objects are mutable , by default but int ,float,str , tuple , etc are immutable**"
   ]
  },
  {
   "cell_type": "code",
   "execution_count": 67,
   "id": "2ccb86fd-4c1f-4a7e-87ac-5a9473dbd6b7",
   "metadata": {},
   "outputs": [],
   "source": [
    "x = 6\n",
    "y = x"
   ]
  },
  {
   "cell_type": "code",
   "execution_count": 68,
   "id": "c3bd9481-6e60-4882-8762-5642de1598bd",
   "metadata": {},
   "outputs": [
    {
     "name": "stdout",
     "output_type": "stream",
     "text": [
      "140710716245064\n",
      "140710716245064\n"
     ]
    }
   ],
   "source": [
    "print(id(x))\n",
    "print(id(y))"
   ]
  },
  {
   "cell_type": "code",
   "execution_count": 69,
   "id": "b307db46-b9aa-4837-be9f-5d3b39df4e40",
   "metadata": {},
   "outputs": [
    {
     "name": "stdout",
     "output_type": "stream",
     "text": [
      "140710716245064\n",
      "140710716245096\n"
     ]
    }
   ],
   "source": [
    "y = 7\n",
    "print(id(x))\n",
    "print(id(y))"
   ]
  },
  {
   "cell_type": "markdown",
   "id": "38f89fdd-b1a3-49ef-ada7-b55dd53cefa2",
   "metadata": {},
   "source": [
    "**So here we can see the y didnt change the value on that memory location instead it started refrencing another location . This is immutable Property**"
   ]
  },
  {
   "cell_type": "markdown",
   "id": "30388cbd-da32-437a-94b1-7616cdd0b7f6",
   "metadata": {},
   "source": [
    "## Encapsulisation\n",
    "- Encapsulation is an OOP principle that restricts direct access to data by using private variables and allows controlled access through methods.\n",
    "- To make a variable private we use **__** double underscore before variable name\n"
   ]
  },
  {
   "cell_type": "code",
   "execution_count": 2,
   "id": "27f24506-9c2b-483d-ae68-01ad9fe0af37",
   "metadata": {},
   "outputs": [],
   "source": [
    "class ATM():\n",
    "    ## to inatilize basic parameters we will use constructor and things that should start when we create a object of this class\n",
    "    def __init__(self):\n",
    "        self.pin = ''\n",
    "        self.balance = 0\n",
    "        self.menu()\n",
    "    def menu(self):\n",
    "        user_input = input(\"\"\"\n",
    "        Hi , How Can I help You?\n",
    "        Choose A Option:\n",
    "        1.Press 1 to create a pin\n",
    "        2.Press 2 to change pin\n",
    "        3.Press 3 to check balance\n",
    "        4.Press 4 to Withdraw\n",
    "        5.Anything Else to Exit        \n",
    "        \"\"\")\n",
    "        if user_input == '1':\n",
    "            self.createPin()\n",
    "        elif user_input == '2':\n",
    "            self.changePin()\n",
    "        elif user_input == '3':\n",
    "            self.check_balance()\n",
    "        elif user_input == '4':\n",
    "            self.withdraw()\n",
    "        else:\n",
    "            print(\"Thankyou for using ATM\")\n",
    "            pass\n",
    "    def createPin(self):\n",
    "         user_pin = input(\"Enter your pin\")\n",
    "         self.pin = user_pin\n",
    "         user_balance = int(input(\"Enter your Balance\"))\n",
    "         self.balance = user_balance\n",
    "         print(\"Pin Created Succesfully\")\n",
    "         self.menu()\n",
    "            \n",
    "    def changePin(self):\n",
    "        old_pin = input(\"Enter old pin\")\n",
    "        if old_pin == self.pin :\n",
    "            new_pin = input(\"Enter New Pin\")\n",
    "            self.pin = new_pin\n",
    "            print(\"Pin Changed Succesfully\")\n",
    "            self.menu()\n",
    "        else:\n",
    "            print(\"Pin Incorrect Try-Again\")\n",
    "            self.menu()\n",
    "    def check_balance(self):\n",
    "        print(f\"Your Current Balance is {self.balance}\")\n",
    "        self.menu()\n",
    "    def withdraw(self):\n",
    "        user_pin = input(\"Enter your Pin\")\n",
    "        pin_check = lambda x , y : True if x == y else False\n",
    "        \n",
    "        if pin_check(user_pin,self.pin) == True:\n",
    "            amount = int(input(\"Enter Amount to Withdraw\"))\n",
    "            if amount <= self.balance:\n",
    "                self.balance = self.balance - amount\n",
    "                print(f\"You have succesfully withdrawn {amount} remaining Balance is {self.balance}\")\n",
    "                self.menu()\n",
    "            else:\n",
    "                print(\"don't have sufficent amount\")\n",
    "                self.menu()\n",
    "        else:\n",
    "            print(\"Incorrect Pin\")\n",
    "            self.menu()"
   ]
  },
  {
   "cell_type": "code",
   "execution_count": 3,
   "id": "ca683839-5f3f-4bf2-b1ed-9e0ee511df64",
   "metadata": {},
   "outputs": [
    {
     "name": "stdin",
     "output_type": "stream",
     "text": [
      "\n",
      "        Hi , How Can I help You?\n",
      "        Choose A Option:\n",
      "        1.Press 1 to create a pin\n",
      "        2.Press 2 to change pin\n",
      "        3.Press 3 to check balance\n",
      "        4.Press 4 to Withdraw\n",
      "        5.Anything Else to Exit        \n",
      "         1\n",
      "Enter your pin 1478\n",
      "Enter your Balance 20000\n"
     ]
    },
    {
     "name": "stdout",
     "output_type": "stream",
     "text": [
      "Pin Created Succesfully\n"
     ]
    },
    {
     "name": "stdin",
     "output_type": "stream",
     "text": [
      "\n",
      "        Hi , How Can I help You?\n",
      "        Choose A Option:\n",
      "        1.Press 1 to create a pin\n",
      "        2.Press 2 to change pin\n",
      "        3.Press 3 to check balance\n",
      "        4.Press 4 to Withdraw\n",
      "        5.Anything Else to Exit        \n",
      "         5\n"
     ]
    },
    {
     "name": "stdout",
     "output_type": "stream",
     "text": [
      "Thankyou for using ATM\n"
     ]
    }
   ],
   "source": [
    "usr1 = ATM()"
   ]
  },
  {
   "cell_type": "code",
   "execution_count": 4,
   "id": "cd1f0567-c40a-45e5-9c27-d88a80214c03",
   "metadata": {},
   "outputs": [
    {
     "data": {
      "text/plain": [
       "20000"
      ]
     },
     "execution_count": 4,
     "metadata": {},
     "output_type": "execute_result"
    }
   ],
   "source": [
    "usr1.balance"
   ]
  },
  {
   "cell_type": "code",
   "execution_count": 5,
   "id": "9a1c35b4-6592-48dc-9ffa-2c026c9abc19",
   "metadata": {},
   "outputs": [],
   "source": [
    "usr1.balance = \"Hello\""
   ]
  },
  {
   "cell_type": "code",
   "execution_count": 8,
   "id": "4d8ae98d-0ac3-41f6-8c6c-652f192b8234",
   "metadata": {},
   "outputs": [
    {
     "name": "stdin",
     "output_type": "stream",
     "text": [
      "\n",
      "        Hi , How Can I help You?\n",
      "        Choose A Option:\n",
      "        1.Press 1 to create a pin\n",
      "        2.Press 2 to change pin\n",
      "        3.Press 3 to check balance\n",
      "        4.Press 4 to Withdraw\n",
      "        5.Anything Else to Exit        \n",
      "         3\n"
     ]
    },
    {
     "name": "stdout",
     "output_type": "stream",
     "text": [
      "Your Current Balance is Hello\n"
     ]
    },
    {
     "name": "stdin",
     "output_type": "stream",
     "text": [
      "\n",
      "        Hi , How Can I help You?\n",
      "        Choose A Option:\n",
      "        1.Press 1 to create a pin\n",
      "        2.Press 2 to change pin\n",
      "        3.Press 3 to check balance\n",
      "        4.Press 4 to Withdraw\n",
      "        5.Anything Else to Exit        \n",
      "         4\n",
      "Enter your Pin 1478\n",
      "Enter Amount to Withdraw 1000\n"
     ]
    },
    {
     "ename": "TypeError",
     "evalue": "'<=' not supported between instances of 'int' and 'str'",
     "output_type": "error",
     "traceback": [
      "\u001b[31m---------------------------------------------------------------------------\u001b[39m",
      "\u001b[31mTypeError\u001b[39m                                 Traceback (most recent call last)",
      "\u001b[36mCell\u001b[39m\u001b[36m \u001b[39m\u001b[32mIn[8]\u001b[39m\u001b[32m, line 1\u001b[39m\n\u001b[32m----> \u001b[39m\u001b[32m1\u001b[39m \u001b[43musr1\u001b[49m\u001b[43m.\u001b[49m\u001b[43mmenu\u001b[49m\u001b[43m(\u001b[49m\u001b[43m)\u001b[49m\n",
      "\u001b[36mCell\u001b[39m\u001b[36m \u001b[39m\u001b[32mIn[2]\u001b[39m\u001b[32m, line 22\u001b[39m, in \u001b[36mATM.menu\u001b[39m\u001b[34m(self)\u001b[39m\n\u001b[32m     20\u001b[39m     \u001b[38;5;28mself\u001b[39m.changePin()\n\u001b[32m     21\u001b[39m \u001b[38;5;28;01melif\u001b[39;00m user_input == \u001b[33m'\u001b[39m\u001b[33m3\u001b[39m\u001b[33m'\u001b[39m:\n\u001b[32m---> \u001b[39m\u001b[32m22\u001b[39m     \u001b[38;5;28;43mself\u001b[39;49m\u001b[43m.\u001b[49m\u001b[43mcheck_balance\u001b[49m\u001b[43m(\u001b[49m\u001b[43m)\u001b[49m\n\u001b[32m     23\u001b[39m \u001b[38;5;28;01melif\u001b[39;00m user_input == \u001b[33m'\u001b[39m\u001b[33m4\u001b[39m\u001b[33m'\u001b[39m:\n\u001b[32m     24\u001b[39m     \u001b[38;5;28mself\u001b[39m.withdraw()\n",
      "\u001b[36mCell\u001b[39m\u001b[36m \u001b[39m\u001b[32mIn[2]\u001b[39m\u001b[32m, line 48\u001b[39m, in \u001b[36mATM.check_balance\u001b[39m\u001b[34m(self)\u001b[39m\n\u001b[32m     46\u001b[39m \u001b[38;5;28;01mdef\u001b[39;00m\u001b[38;5;250m \u001b[39m\u001b[34mcheck_balance\u001b[39m(\u001b[38;5;28mself\u001b[39m):\n\u001b[32m     47\u001b[39m     \u001b[38;5;28mprint\u001b[39m(\u001b[33mf\u001b[39m\u001b[33m\"\u001b[39m\u001b[33mYour Current Balance is \u001b[39m\u001b[38;5;132;01m{\u001b[39;00m\u001b[38;5;28mself\u001b[39m.balance\u001b[38;5;132;01m}\u001b[39;00m\u001b[33m\"\u001b[39m)\n\u001b[32m---> \u001b[39m\u001b[32m48\u001b[39m     \u001b[38;5;28;43mself\u001b[39;49m\u001b[43m.\u001b[49m\u001b[43mmenu\u001b[49m\u001b[43m(\u001b[49m\u001b[43m)\u001b[49m\n",
      "\u001b[36mCell\u001b[39m\u001b[36m \u001b[39m\u001b[32mIn[2]\u001b[39m\u001b[32m, line 24\u001b[39m, in \u001b[36mATM.menu\u001b[39m\u001b[34m(self)\u001b[39m\n\u001b[32m     22\u001b[39m     \u001b[38;5;28mself\u001b[39m.check_balance()\n\u001b[32m     23\u001b[39m \u001b[38;5;28;01melif\u001b[39;00m user_input == \u001b[33m'\u001b[39m\u001b[33m4\u001b[39m\u001b[33m'\u001b[39m:\n\u001b[32m---> \u001b[39m\u001b[32m24\u001b[39m     \u001b[38;5;28;43mself\u001b[39;49m\u001b[43m.\u001b[49m\u001b[43mwithdraw\u001b[49m\u001b[43m(\u001b[49m\u001b[43m)\u001b[49m\n\u001b[32m     25\u001b[39m \u001b[38;5;28;01melse\u001b[39;00m:\n\u001b[32m     26\u001b[39m     \u001b[38;5;28mprint\u001b[39m(\u001b[33m\"\u001b[39m\u001b[33mThankyou for using ATM\u001b[39m\u001b[33m\"\u001b[39m)\n",
      "\u001b[36mCell\u001b[39m\u001b[36m \u001b[39m\u001b[32mIn[2]\u001b[39m\u001b[32m, line 55\u001b[39m, in \u001b[36mATM.withdraw\u001b[39m\u001b[34m(self)\u001b[39m\n\u001b[32m     53\u001b[39m \u001b[38;5;28;01mif\u001b[39;00m pin_check(user_pin,\u001b[38;5;28mself\u001b[39m.pin) == \u001b[38;5;28;01mTrue\u001b[39;00m:\n\u001b[32m     54\u001b[39m     amount = \u001b[38;5;28mint\u001b[39m(\u001b[38;5;28minput\u001b[39m(\u001b[33m\"\u001b[39m\u001b[33mEnter Amount to Withdraw\u001b[39m\u001b[33m\"\u001b[39m))\n\u001b[32m---> \u001b[39m\u001b[32m55\u001b[39m     \u001b[38;5;28;01mif\u001b[39;00m \u001b[43mamount\u001b[49m\u001b[43m \u001b[49m\u001b[43m<\u001b[49m\u001b[43m=\u001b[49m\u001b[43m \u001b[49m\u001b[38;5;28;43mself\u001b[39;49m\u001b[43m.\u001b[49m\u001b[43mbalance\u001b[49m:\n\u001b[32m     56\u001b[39m         \u001b[38;5;28mself\u001b[39m.balance = \u001b[38;5;28mself\u001b[39m.balance - amount\n\u001b[32m     57\u001b[39m         \u001b[38;5;28mprint\u001b[39m(\u001b[33mf\u001b[39m\u001b[33m\"\u001b[39m\u001b[33mYou have succesfully withdrawn \u001b[39m\u001b[38;5;132;01m{\u001b[39;00mamount\u001b[38;5;132;01m}\u001b[39;00m\u001b[33m remaining Balance is \u001b[39m\u001b[38;5;132;01m{\u001b[39;00m\u001b[38;5;28mself\u001b[39m.balance\u001b[38;5;132;01m}\u001b[39;00m\u001b[33m\"\u001b[39m)\n",
      "\u001b[31mTypeError\u001b[39m: '<=' not supported between instances of 'int' and 'str'"
     ]
    }
   ],
   "source": [
    "usr1.menu()"
   ]
  },
  {
   "cell_type": "markdown",
   "id": "f04525b4-4b25-47ca-8bbc-16867bb755e7",
   "metadata": {},
   "source": [
    "**Thats how got crashed because a usr changed the attribute values outside the class , so user not have access to this only have access to methods\n",
    "To fix this we will use encapsulisation**"
   ]
  },
  {
   "cell_type": "code",
   "execution_count": 20,
   "id": "409bed3c-a873-4a06-a79e-d6a4105ba518",
   "metadata": {},
   "outputs": [],
   "source": [
    "class ATM():\n",
    "    ## to inatilize basic parameters we will use constructor and things that should start when we create a object of this class\n",
    "    def __init__(self):\n",
    "        self.pin = ''\n",
    "        self.__balance = 0 ## Private attribute\n",
    "        self.menu()\n",
    "    def get_balance(self):           ## get method to return balance value to user\n",
    "        return self.__balance\n",
    "    def set_balance(self,new_value):\n",
    "        if(type(new_value)== int):\n",
    "            self.__balance = new_value\n",
    "        else :\n",
    "            print(\"error the balance can only be a integer\")\n",
    "    def menu(self):\n",
    "        user_input = input(\"\"\"\n",
    "        Hi , How Can I help You?\n",
    "        Choose A Option:\n",
    "        1.Press 1 to create a pin\n",
    "        2.Press 2 to change pin\n",
    "        3.Press 3 to check balance\n",
    "        4.Press 4 to Withdraw\n",
    "        5.Anything Else to Exit        \n",
    "        \"\"\")\n",
    "        if user_input == '1':\n",
    "            self.createPin()\n",
    "        elif user_input == '2':\n",
    "            self.changePin()\n",
    "        elif user_input == '3':\n",
    "            self.check_balance()\n",
    "        elif user_input == '4':\n",
    "            self.withdraw()\n",
    "        else:\n",
    "            print(\"Thankyou for using ATM\")\n",
    "            pass\n",
    "    def createPin(self):\n",
    "         user_pin = input(\"Enter your pin\")\n",
    "         self.pin = user_pin\n",
    "         user_balance = int(input(\"Enter your Balance\"))\n",
    "         self.__balance = user_balance\n",
    "         print(\"Pin Created Succesfully\")\n",
    "         self.menu()\n",
    "            \n",
    "    def changePin(self):\n",
    "        old_pin = input(\"Enter old pin\")\n",
    "        if old_pin == self.pin :\n",
    "            new_pin = input(\"Enter New Pin\")\n",
    "            self.pin = new_pin\n",
    "            print(\"Pin Changed Succesfully\")\n",
    "            self.menu()\n",
    "        else:\n",
    "            print(\"Pin Incorrect Try-Again\")\n",
    "            self.menu()\n",
    "    def check_balance(self):\n",
    "        print(f\"Your Current Balance is {self.__balance}\")\n",
    "        self.menu()\n",
    "    def withdraw(self):\n",
    "        user_pin = input(\"Enter your Pin\")\n",
    "        pin_check = lambda x , y : True if x == y else False\n",
    "        \n",
    "        if pin_check(user_pin,self.pin) == True:\n",
    "            amount = int(input(\"Enter Amount to Withdraw\"))\n",
    "            if amount <= self.__balance:\n",
    "                self.__balance = self.__balance - amount\n",
    "                print(f\"You have succesfully withdrawn {amount} remaining Balance is {self.__balance}\")\n",
    "                self.menu()\n",
    "            else:\n",
    "                print(\"don't have sufficent amount\")\n",
    "                self.menu()\n",
    "        else:\n",
    "            print(\"Incorrect Pin\")\n",
    "            self.menu()"
   ]
  },
  {
   "cell_type": "code",
   "execution_count": 22,
   "id": "2e02178b-b8d1-4a60-a50a-7c030e7d2b1f",
   "metadata": {},
   "outputs": [
    {
     "name": "stdin",
     "output_type": "stream",
     "text": [
      "\n",
      "        Hi , How Can I help You?\n",
      "        Choose A Option:\n",
      "        1.Press 1 to create a pin\n",
      "        2.Press 2 to change pin\n",
      "        3.Press 3 to check balance\n",
      "        4.Press 4 to Withdraw\n",
      "        5.Anything Else to Exit        \n",
      "         1\n",
      "Enter your pin 1478\n",
      "Enter your Balance 20000\n"
     ]
    },
    {
     "name": "stdout",
     "output_type": "stream",
     "text": [
      "Pin Created Succesfully\n"
     ]
    },
    {
     "name": "stdin",
     "output_type": "stream",
     "text": [
      "\n",
      "        Hi , How Can I help You?\n",
      "        Choose A Option:\n",
      "        1.Press 1 to create a pin\n",
      "        2.Press 2 to change pin\n",
      "        3.Press 3 to check balance\n",
      "        4.Press 4 to Withdraw\n",
      "        5.Anything Else to Exit        \n",
      "         5\n"
     ]
    },
    {
     "name": "stdout",
     "output_type": "stream",
     "text": [
      "Thankyou for using ATM\n"
     ]
    }
   ],
   "source": [
    "usr2 = ATM()"
   ]
  },
  {
   "cell_type": "code",
   "execution_count": 23,
   "id": "01277c0f-134b-4efe-a5f5-b40f1e800e10",
   "metadata": {},
   "outputs": [],
   "source": [
    "usr2.balance=\"Hello\""
   ]
  },
  {
   "cell_type": "code",
   "execution_count": 19,
   "id": "302c4eab-8b78-483e-a6f0-0acd66f6de33",
   "metadata": {},
   "outputs": [
    {
     "name": "stdin",
     "output_type": "stream",
     "text": [
      "\n",
      "        Hi , How Can I help You?\n",
      "        Choose A Option:\n",
      "        1.Press 1 to create a pin\n",
      "        2.Press 2 to change pin\n",
      "        3.Press 3 to check balance\n",
      "        4.Press 4 to Withdraw\n",
      "        5.Anything Else to Exit        \n",
      "         3\n"
     ]
    },
    {
     "name": "stdout",
     "output_type": "stream",
     "text": [
      "Your Current Balance is 20000\n"
     ]
    },
    {
     "name": "stdin",
     "output_type": "stream",
     "text": [
      "\n",
      "        Hi , How Can I help You?\n",
      "        Choose A Option:\n",
      "        1.Press 1 to create a pin\n",
      "        2.Press 2 to change pin\n",
      "        3.Press 3 to check balance\n",
      "        4.Press 4 to Withdraw\n",
      "        5.Anything Else to Exit        \n",
      "         4\n",
      "Enter your Pin 1478\n",
      "Enter Amount to Withdraw 20000\n"
     ]
    },
    {
     "name": "stdout",
     "output_type": "stream",
     "text": [
      "You have succesfully withdrawn 20000 remaining Balance is 0\n"
     ]
    },
    {
     "name": "stdin",
     "output_type": "stream",
     "text": [
      "\n",
      "        Hi , How Can I help You?\n",
      "        Choose A Option:\n",
      "        1.Press 1 to create a pin\n",
      "        2.Press 2 to change pin\n",
      "        3.Press 3 to check balance\n",
      "        4.Press 4 to Withdraw\n",
      "        5.Anything Else to Exit        \n",
      "         5\n"
     ]
    },
    {
     "name": "stdout",
     "output_type": "stream",
     "text": [
      "Thankyou for using ATM\n"
     ]
    }
   ],
   "source": [
    "usr2.menu()"
   ]
  },
  {
   "cell_type": "code",
   "execution_count": 29,
   "id": "cac1abd9-e61a-4ad7-b7e0-06f92d8b1a75",
   "metadata": {},
   "outputs": [],
   "source": [
    "bal = usr2.get_balance()"
   ]
  },
  {
   "cell_type": "code",
   "execution_count": 26,
   "id": "e46dfa30-be6b-4844-8924-ce3bd22c4326",
   "metadata": {},
   "outputs": [
    {
     "data": {
      "text/plain": [
       "20000"
      ]
     },
     "execution_count": 26,
     "metadata": {},
     "output_type": "execute_result"
    }
   ],
   "source": [
    "bal"
   ]
  },
  {
   "cell_type": "code",
   "execution_count": 27,
   "id": "0e366fab-c98d-4e6e-9751-365cd16ba497",
   "metadata": {},
   "outputs": [],
   "source": [
    "usr2.set_balance(250000)"
   ]
  },
  {
   "cell_type": "code",
   "execution_count": 30,
   "id": "34915ec1-d5e5-491f-b04e-82a95c273d47",
   "metadata": {},
   "outputs": [
    {
     "data": {
      "text/plain": [
       "250000"
      ]
     },
     "execution_count": 30,
     "metadata": {},
     "output_type": "execute_result"
    }
   ],
   "source": [
    "bal"
   ]
  },
  {
   "cell_type": "code",
   "execution_count": 32,
   "id": "a7576c0f-e014-4d16-9086-5f47c315e604",
   "metadata": {},
   "outputs": [
    {
     "name": "stdout",
     "output_type": "stream",
     "text": [
      "error the balance can only be a integer\n"
     ]
    }
   ],
   "source": [
    "usr2.set_balance(\"Hello\")"
   ]
  },
  {
   "cell_type": "markdown",
   "id": "67597b32-bd31-42c5-be86-659081d78b18",
   "metadata": {},
   "source": [
    "### Collection Of Objects"
   ]
  },
  {
   "cell_type": "code",
   "execution_count": 33,
   "id": "3a896d44-94be-4f9d-b08f-817e14d841d5",
   "metadata": {},
   "outputs": [],
   "source": [
    "# list of objects\n",
    "class Person :\n",
    "    def __init__(self,name,gender):\n",
    "        self.name = name\n",
    "        self.gender = gender\n",
    "p1 = Person(\"Tanish\" , \"Male\")\n",
    "p2 = Person(\"Himanshu\", \"male\")\n",
    "p3 = Person(\"Hemant\",\"Female\" )"
   ]
  },
  {
   "cell_type": "code",
   "execution_count": 34,
   "id": "3f0c30d2-1976-4ac5-8e79-1119a1828e41",
   "metadata": {},
   "outputs": [
    {
     "name": "stdout",
     "output_type": "stream",
     "text": [
      "Tanish Male\n",
      "Himanshu male\n",
      "Hemant Female\n"
     ]
    }
   ],
   "source": [
    "L = [p1,p2,p3]\n",
    "for i in L :\n",
    "    print(i.name , i.gender)\n"
   ]
  },
  {
   "cell_type": "code",
   "execution_count": 38,
   "id": "706b7113-0463-45ac-9f97-eaf0032ca675",
   "metadata": {},
   "outputs": [
    {
     "name": "stdout",
     "output_type": "stream",
     "text": [
      "P1\n",
      "P2\n",
      "P3\n"
     ]
    }
   ],
   "source": [
    "## dict of objects\n",
    "D = {\"P1\" : p1 ,\"P2\":p2,\"P3\":p3 }\n",
    "for i in D :     # this will print out keys \n",
    "    print(i)"
   ]
  },
  {
   "cell_type": "code",
   "execution_count": 40,
   "id": "3a781fe8-0f10-4fd9-8b3d-c929d66c363b",
   "metadata": {},
   "outputs": [
    {
     "name": "stdout",
     "output_type": "stream",
     "text": [
      "Tanish\n",
      "Himanshu\n",
      "Hemant\n"
     ]
    }
   ],
   "source": [
    "for i in D.values(): # this will print out values\n",
    "    print(i.name) # here values are objects so .name attribute we used to get their names"
   ]
  },
  {
   "cell_type": "code",
   "execution_count": 43,
   "id": "f3914aa5-f8d9-4b8e-8768-d9b7b229a1c9",
   "metadata": {},
   "outputs": [
    {
     "name": "stdout",
     "output_type": "stream",
     "text": [
      "P1 Tanish Male\n",
      "P2 Himanshu male\n",
      "P3 Hemant Female\n"
     ]
    }
   ],
   "source": [
    "for key,value in D.items(): # .items method will give us key and value both -> this returns a object contains tuples of key,value pairs and they \n",
    "    # unpack themselves to the corresponding variavbles key,value = (P1,p1) -> key = P1 and value = p1\n",
    "    print(key,value.name ,value.gender)"
   ]
  },
  {
   "cell_type": "code",
   "execution_count": 44,
   "id": "ebea2af8-8bd0-4d6f-87b5-4a3cf54df58d",
   "metadata": {},
   "outputs": [
    {
     "data": {
      "text/plain": [
       "dict_items([('P1', <__main__.Person object at 0x00000207E93F6510>), ('P2', <__main__.Person object at 0x00000207E9A2D310>), ('P3', <__main__.Person object at 0x00000207E9A2D6D0>)])"
      ]
     },
     "execution_count": 44,
     "metadata": {},
     "output_type": "execute_result"
    }
   ],
   "source": [
    "D.items()"
   ]
  },
  {
   "cell_type": "markdown",
   "id": "70350be2-d3a1-4c8d-8c46-f9c4cd69f89e",
   "metadata": {},
   "source": [
    "## STATIC VS INSTANCE VARIABLES"
   ]
  },
  {
   "cell_type": "markdown",
   "id": "8d0f50d1-9a33-4bbb-a6af-59776854ad99",
   "metadata": {},
   "source": [
    "- **Instance Variable: A variable that belongs to an object and is unique for each instance(object).**\n",
    "- **Static Variable: A variable that belongs to the class and is shared across all instances(objects).We can access them without creating a instance\n",
    "  they are object independent**\n",
    "### Static Variables vs. Instance Variables  \n",
    "\n",
    "| Feature           | **Instance Variable**               | **Static Variable** |\n",
    "|------------------|----------------------------------|------------------|\n",
    "| **Definition**   | Belongs to an **instance** (object).  | Belongs to the **class** (shared across all objects). |\n",
    "| **Declared with** | Inside the `__init__` method using `self.var_name`. | Outside `__init__`, directly in the class using `ClassName.var_name`. |\n",
    "| **Scope**        | Specific to each object. | Common to all instances of the class. |\n",
    "| **Accessed by**  | `self.variable_name` | `ClassName.variable_name` or `self.variable_name` |\n",
    "| **Use Case**     | When each object needs its own unique data. | When data needs to be shared across all objects. |"
   ]
  },
  {
   "cell_type": "code",
   "execution_count": 52,
   "id": "3e2911b8-9f14-46a3-b0c1-4f87f81fd182",
   "metadata": {},
   "outputs": [],
   "source": [
    "## intalisation of both \n",
    "class ATM():\n",
    "## to intalize a static varialbe it it is declared just above the constructor and double underscore is used.\n",
    "    __counter = 0\n",
    "        ## to inatilize basic parameters we will use constructor and things that should start when we create a object of this class\n",
    "    def __init__(self):\n",
    "        ## The vairables that are inatlized inside the constructor __init__ method are called instance variable , they have diffrenet values for diffrent\n",
    "        ## instance\n",
    "        ATM.__counter = ATM.__counter + 1 #---> To access a static variable we use class_name.__variable_name\n",
    "        self.cid = ATM.__counter\n",
    "        self.pin = ''\n",
    "        self.__balance = 0 ## Private attribute\n",
    "        self.menu()\n",
    "    @staticmethod\n",
    "    def get_counter():\n",
    "        return ATM.__counter\n",
    "    def get_balance(self):           ## get method to return balance value to user\n",
    "        return self.__balance\n",
    "    def set_balance(self,new_value):\n",
    "        if(type(new_value)== int):\n",
    "            self.__balance = new_value\n",
    "        else :\n",
    "            print(\"error the balance can only be a integer\")\n",
    "    def menu(self):\n",
    "        user_input = input(\"\"\"\n",
    "        Hi , How Can I help You?\n",
    "        Choose A Option:\n",
    "        1.Press 1 to create a pin\n",
    "        2.Press 2 to change pin\n",
    "        3.Press 3 to check balance\n",
    "        4.Press 4 to Withdraw\n",
    "        5.Anything Else to Exit        \n",
    "        \"\"\")\n",
    "        if user_input == '1':\n",
    "            self.createPin()\n",
    "        elif user_input == '2':\n",
    "            self.changePin()\n",
    "        elif user_input == '3':\n",
    "            self.check_balance()\n",
    "        elif user_input == '4':\n",
    "            self.withdraw()\n",
    "        else:\n",
    "            print(\"Thankyou for using ATM\")\n",
    "            pass\n",
    "    def createPin(self):\n",
    "         print(f\"Customer Account Id is {self.cid}\")\n",
    "         user_pin = input(\"Enter your pin\")\n",
    "         self.pin = user_pin\n",
    "         user_balance = int(input(\"Enter your Balance\"))\n",
    "         self.__balance = user_balance\n",
    "         print(\"Pin Created Succesfully\")\n",
    "         self.menu()\n",
    "            \n",
    "    def changePin(self):\n",
    "        old_pin = input(\"Enter old pin\")\n",
    "        if old_pin == self.pin :\n",
    "            new_pin = input(\"Enter New Pin\")\n",
    "            self.pin = new_pin\n",
    "            print(\"Pin Changed Succesfully\")\n",
    "            self.menu()\n",
    "        else:\n",
    "            print(\"Pin Incorrect Try-Again\")\n",
    "            self.menu()\n",
    "    def check_balance(self):\n",
    "        print(f\"Your Current Balance is {self.__balance}\")\n",
    "        self.menu()\n",
    "    def withdraw(self):\n",
    "        user_pin = input(\"Enter your Pin\")\n",
    "        pin_check = lambda x , y : True if x == y else False\n",
    "        \n",
    "        if pin_check(user_pin,self.pin) == True:\n",
    "            amount = int(input(\"Enter Amount to Withdraw\"))\n",
    "            if amount <= self.__balance:\n",
    "                self.__balance = self.__balance - amount\n",
    "                print(f\"You have succesfully withdrawn {amount} remaining Balance is {self.__balance}\")\n",
    "                self.menu()\n",
    "            else:\n",
    "                print(\"don't have sufficent amount\")\n",
    "                self.menu()\n",
    "        else:\n",
    "            print(\"Incorrect Pin\")\n",
    "            self.menu()"
   ]
  },
  {
   "cell_type": "code",
   "execution_count": 54,
   "id": "175427e4-21ce-4b6a-bb62-812f5eda9df9",
   "metadata": {},
   "outputs": [
    {
     "name": "stdin",
     "output_type": "stream",
     "text": [
      "\n",
      "        Hi , How Can I help You?\n",
      "        Choose A Option:\n",
      "        1.Press 1 to create a pin\n",
      "        2.Press 2 to change pin\n",
      "        3.Press 3 to check balance\n",
      "        4.Press 4 to Withdraw\n",
      "        5.Anything Else to Exit        \n",
      "         1\n"
     ]
    },
    {
     "name": "stdout",
     "output_type": "stream",
     "text": [
      "Customer Account Id is 1\n"
     ]
    },
    {
     "name": "stdin",
     "output_type": "stream",
     "text": [
      "Enter your pin 1465\n",
      "Enter your Balance 20000\n"
     ]
    },
    {
     "name": "stdout",
     "output_type": "stream",
     "text": [
      "Pin Created Succesfully\n"
     ]
    },
    {
     "name": "stdin",
     "output_type": "stream",
     "text": [
      "\n",
      "        Hi , How Can I help You?\n",
      "        Choose A Option:\n",
      "        1.Press 1 to create a pin\n",
      "        2.Press 2 to change pin\n",
      "        3.Press 3 to check balance\n",
      "        4.Press 4 to Withdraw\n",
      "        5.Anything Else to Exit        \n",
      "         5\n"
     ]
    },
    {
     "name": "stdout",
     "output_type": "stream",
     "text": [
      "Thankyou for using ATM\n"
     ]
    }
   ],
   "source": [
    "usr1 = ATM()"
   ]
  },
  {
   "cell_type": "code",
   "execution_count": 55,
   "id": "956712ad-16e3-4d74-a304-453ccb21238c",
   "metadata": {},
   "outputs": [
    {
     "name": "stdin",
     "output_type": "stream",
     "text": [
      "\n",
      "        Hi , How Can I help You?\n",
      "        Choose A Option:\n",
      "        1.Press 1 to create a pin\n",
      "        2.Press 2 to change pin\n",
      "        3.Press 3 to check balance\n",
      "        4.Press 4 to Withdraw\n",
      "        5.Anything Else to Exit        \n",
      "         1\n"
     ]
    },
    {
     "name": "stdout",
     "output_type": "stream",
     "text": [
      "Customer Account Id is 2\n"
     ]
    },
    {
     "name": "stdin",
     "output_type": "stream",
     "text": [
      "Enter your pin 1478\n",
      "Enter your Balance 20000\n"
     ]
    },
    {
     "name": "stdout",
     "output_type": "stream",
     "text": [
      "Pin Created Succesfully\n"
     ]
    },
    {
     "name": "stdin",
     "output_type": "stream",
     "text": [
      "\n",
      "        Hi , How Can I help You?\n",
      "        Choose A Option:\n",
      "        1.Press 1 to create a pin\n",
      "        2.Press 2 to change pin\n",
      "        3.Press 3 to check balance\n",
      "        4.Press 4 to Withdraw\n",
      "        5.Anything Else to Exit        \n",
      "         1\n"
     ]
    },
    {
     "name": "stdout",
     "output_type": "stream",
     "text": [
      "Customer Account Id is 2\n"
     ]
    },
    {
     "name": "stdin",
     "output_type": "stream",
     "text": [
      "Enter your pin 1478\n",
      "Enter your Balance 20000\n"
     ]
    },
    {
     "name": "stdout",
     "output_type": "stream",
     "text": [
      "Pin Created Succesfully\n"
     ]
    },
    {
     "name": "stdin",
     "output_type": "stream",
     "text": [
      "\n",
      "        Hi , How Can I help You?\n",
      "        Choose A Option:\n",
      "        1.Press 1 to create a pin\n",
      "        2.Press 2 to change pin\n",
      "        3.Press 3 to check balance\n",
      "        4.Press 4 to Withdraw\n",
      "        5.Anything Else to Exit        \n",
      "         5\n"
     ]
    },
    {
     "name": "stdout",
     "output_type": "stream",
     "text": [
      "Thankyou for using ATM\n"
     ]
    }
   ],
   "source": [
    "usr2 = ATM()"
   ]
  },
  {
   "cell_type": "code",
   "execution_count": 56,
   "id": "bdfea96d-0cbf-48c0-b1cf-fc60d5b73d41",
   "metadata": {},
   "outputs": [
    {
     "data": {
      "text/plain": [
       "2"
      ]
     },
     "execution_count": 56,
     "metadata": {},
     "output_type": "execute_result"
    }
   ],
   "source": [
    "ATM.get_counter()"
   ]
  },
  {
   "cell_type": "markdown",
   "id": "ee735fde-b1de-4353-ba0c-4d704a221397",
   "metadata": {},
   "source": [
    "\n"
   ]
  },
  {
   "cell_type": "code",
   "execution_count": null,
   "id": "59fbe366-5c65-471e-aded-cbef2ccf63d1",
   "metadata": {},
   "outputs": [],
   "source": []
  }
 ],
 "metadata": {
  "kernelspec": {
   "display_name": "Python 3 (ipykernel)",
   "language": "python",
   "name": "python3"
  },
  "language_info": {
   "codemirror_mode": {
    "name": "ipython",
    "version": 3
   },
   "file_extension": ".py",
   "mimetype": "text/x-python",
   "name": "python",
   "nbconvert_exporter": "python",
   "pygments_lexer": "ipython3",
   "version": "3.13.2"
  }
 },
 "nbformat": 4,
 "nbformat_minor": 5
}
