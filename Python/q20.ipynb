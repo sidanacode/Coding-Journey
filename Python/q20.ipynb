{
 "cells": [
  {
   "cell_type": "markdown",
   "metadata": {},
   "source": [
    "Tax afterdeduction on salary"
   ]
  },
  {
   "cell_type": "code",
   "execution_count": 4,
   "metadata": {},
   "outputs": [
    {
     "name": "stdout",
     "output_type": "stream",
     "text": [
      "In hand salary is 410000.0 and deductions are 90000.0 and taxes are 0\n"
     ]
    }
   ],
   "source": [
    "salary = float(input(\"Enter salary\"))\n",
    "deduction = salary*(18/100)\n",
    "pre_tax = salary - (salary*(18/100))\n",
    "tax = 0\n",
    "five  = 500000\n",
    "ten = 1000000\n",
    "if(pre_tax<five):\n",
    "    pass\n",
    "elif(pre_tax>five):\n",
    "    exempted_sal = pre_tax - five\n",
    "    if(exempted_sal>five):\n",
    "       tax = five * 0.10 \n",
    "       first = exempted_sal-(five)\n",
    "       if(first>ten):\n",
    "           tax = tax + 10*0.20\n",
    "           second = first - (ten)\n",
    "           if(second>0):\n",
    "               tax = tax + second *0.30\n",
    "        \n",
    "       else:\n",
    "           tax = tax + first * 0.20\n",
    "\n",
    "\n",
    "    else:\n",
    "        tax = exempted_sal * 0.10\n",
    "final_salary = pre_tax - tax\n",
    "print(f\"In hand salary is {final_salary} and deductions are {deduction} and taxes are {tax}\")"
   ]
  },
  {
   "cell_type": "code",
   "execution_count": null,
   "metadata": {},
   "outputs": [],
   "source": []
  }
 ],
 "metadata": {
  "kernelspec": {
   "display_name": "Python 3",
   "language": "python",
   "name": "python3"
  },
  "language_info": {
   "codemirror_mode": {
    "name": "ipython",
    "version": 3
   },
   "file_extension": ".py",
   "mimetype": "text/x-python",
   "name": "python",
   "nbconvert_exporter": "python",
   "pygments_lexer": "ipython3",
   "version": "3.12.1"
  }
 },
 "nbformat": 4,
 "nbformat_minor": 2
}
