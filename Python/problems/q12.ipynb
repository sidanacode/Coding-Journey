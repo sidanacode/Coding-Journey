{
 "cells": [
  {
   "cell_type": "markdown",
   "metadata": {},
   "source": [
    "Write a program to find the volume of the cylinder. Also find the \n",
    "cost when ,when the cost of 1litre milk is 40Rs. "
   ]
  },
  {
   "cell_type": "code",
   "execution_count": 9,
   "metadata": {},
   "outputs": [
    {
     "name": "stdout",
     "output_type": "stream",
     "text": [
      "251.327L is volume of cylinder and 10053rs is cost of milk\n"
     ]
    }
   ],
   "source": [
    "import math\n",
    "rad = float(input(\"enter radius of cylinder\"))\n",
    "height = float(input(\"enter height of cylinder\"))\n",
    "volume = round(math.pi*rad*rad*height,3)\n",
    "cost = int(volume * 40)\n",
    "print(f\"{volume}L is volume of cylinder and {cost}rs is cost of milk\")\n"
   ]
  },
  {
   "cell_type": "code",
   "execution_count": null,
   "metadata": {},
   "outputs": [],
   "source": []
  }
 ],
 "metadata": {
  "kernelspec": {
   "display_name": "Python 3",
   "language": "python",
   "name": "python3"
  },
  "language_info": {
   "codemirror_mode": {
    "name": "ipython",
    "version": 3
   },
   "file_extension": ".py",
   "mimetype": "text/x-python",
   "name": "python",
   "nbconvert_exporter": "python",
   "pygments_lexer": "ipython3",
   "version": "3.12.1"
  }
 },
 "nbformat": 4,
 "nbformat_minor": 2
}
