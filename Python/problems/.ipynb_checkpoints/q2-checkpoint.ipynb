{
 "cells": [
  {
   "cell_type": "markdown",
   "metadata": {},
   "source": [
    "Write a program that will convert celsius value to fahrenheit\n"
   ]
  },
  {
   "cell_type": "code",
   "execution_count": null,
   "metadata": {},
   "outputs": [
    {
     "name": "stderr",
     "output_type": "stream",
     "text": [
      "<>:10: SyntaxWarning: 'float' object is not callable; perhaps you missed a comma?\n",
      "<>:10: SyntaxWarning: 'float' object is not callable; perhaps you missed a comma?\n"
     ]
    },
    {
     "name": "stdout",
     "output_type": "stream",
     "text": [
      "38 deg in fahrenheit 100.4\n"
     ]
    },
    {
     "name": "stderr",
     "output_type": "stream",
     "text": [
      "C:\\Users\\tanis\\AppData\\Local\\Temp\\ipykernel_23748\\1594516526.py:10: SyntaxWarning: 'float' object is not callable; perhaps you missed a comma?\n",
      "  c = (5/9)(temp-32)\n"
     ]
    }
   ],
   "source": [
    "# formula of conversion\n",
    "# f = C * (9/5) + 32\n",
    "# c = (f-32)*(5/9)\n",
    "type = input(\"Enter type of conversion F or C\")\n",
    "temp = float(input(\"Enter Temperature\"))\n",
    "if type == 'f' or 'F':\n",
    "    f = (9/5)* temp + 32\n",
    "    print(\"{} deg in fahrenheit {}\".format(temp,f))\n",
    "elif type == 'c' or \"C\":\n",
    "    c = (5/9)(temp-32) \n",
    "    print(\"{} deg in celsius {}\".format(temp,c))\n",
    "else:\n",
    "    print(\"wrong input\")\n"
   ]
  },
  {
   "cell_type": "code",
   "execution_count": null,
   "metadata": {},
   "outputs": [],
   "source": []
  }
 ],
 "metadata": {
  "kernelspec": {
   "display_name": "Python 3",
   "language": "python",
   "name": "python3"
  },
  "language_info": {
   "codemirror_mode": {
    "name": "ipython",
    "version": 3
   },
   "file_extension": ".py",
   "mimetype": "text/x-python",
   "name": "python",
   "nbconvert_exporter": "python",
   "pygments_lexer": "ipython3",
   "version": "3.12.1"
  }
 },
 "nbformat": 4,
 "nbformat_minor": 2
}
