{
 "cells": [
  {
   "cell_type": "markdown",
   "metadata": {},
   "source": [
    "Write a program that take a user input of three angles and will\n",
    "find out whether it can form a triangle or not.\n"
   ]
  },
  {
   "cell_type": "code",
   "execution_count": 1,
   "metadata": {},
   "outputs": [
    {
     "name": "stdout",
     "output_type": "stream",
     "text": [
      "These angle cannot form a triangle\n"
     ]
    }
   ],
   "source": [
    "sum = 0\n",
    "for i in range(0,3):\n",
    "    angle = float(input(\"Enter value of a angle\"))\n",
    "    sum = sum + angle\n",
    "if sum ==180:\n",
    "    print(\"These angle can form a triangle\")\n",
    "else:\n",
    "    print(\"These angle cannot form a triangle\")   "
   ]
  },
  {
   "cell_type": "code",
   "execution_count": null,
   "metadata": {},
   "outputs": [],
   "source": []
  }
 ],
 "metadata": {
  "kernelspec": {
   "display_name": "Python 3",
   "language": "python",
   "name": "python3"
  },
  "language_info": {
   "codemirror_mode": {
    "name": "ipython",
    "version": 3
   },
   "file_extension": ".py",
   "mimetype": "text/x-python",
   "name": "python",
   "nbconvert_exporter": "python",
   "pygments_lexer": "ipython3",
   "version": "3.12.1"
  }
 },
 "nbformat": 4,
 "nbformat_minor": 2
}
