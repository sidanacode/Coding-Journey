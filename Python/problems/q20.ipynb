{
 "cells": [
  {
   "cell_type": "markdown",
   "metadata": {},
   "source": [
    "Tax afterdeduction on salary"
   ]
  },
  {
   "cell_type": "code",
   "execution_count": 5,
   "metadata": {},
   "outputs": [
    {
     "name": "stdout",
     "output_type": "stream",
     "text": [
      "In hand salary is 1527600.0 and deductions are 378000.0 and taxes are 194400.0\n"
     ]
    }
   ],
   "source": [
    "salary = float(input(\"Enter salary\"))\n",
    "deduction = salary*(18/100)\n",
    "pre_tax = salary - (salary*(18/100))\n",
    "tax = 0\n",
    "five  = 500000\n",
    "ten = 1000000\n",
    "if(pre_tax<five):\n",
    "    pass\n",
    "elif(pre_tax>five):\n",
    "    exempted_sal = pre_tax - five\n",
    "    if(exempted_sal>five):\n",
    "       tax = five * 0.10 \n",
    "       first = exempted_sal-(five)\n",
    "       if(first>ten):\n",
    "           tax = tax + 10*0.20\n",
    "           second = first - (ten)\n",
    "           if(second>0):\n",
    "               tax = tax + second *0.30\n",
    "        \n",
    "       else:\n",
    "           tax = tax + first * 0.20\n",
    "\n",
    "\n",
    "    else:\n",
    "        tax = exempted_sal * 0.10\n",
    "final_salary = pre_tax - tax\n",
    "print(f\"In hand salary is {final_salary} and deductions are {deduction} and taxes are {tax}\")"
   ]
  },
  {
   "cell_type": "code",
   "execution_count": 7,
   "metadata": {},
   "outputs": [
    {
     "name": "stdout",
     "output_type": "stream",
     "text": [
      "In-hand salary is 1405400.0, deductions are 378000.0, and taxes are 316600.0\n"
     ]
    }
   ],
   "source": [
    "salary = float(input(\"Enter salary: \"))  \n",
    "deduction = salary * 0.18  \n",
    "pre_tax = salary - deduction  \n",
    "\n",
    "five = 500000  \n",
    "ten = 1000000  \n",
    "tax = 0  \n",
    "\n",
    "exempted_sal = max(pre_tax - five, 0)  \n",
    "\n",
    "if exempted_sal > 0:  \n",
    "    if exempted_sal > ten:  \n",
    "        tax = (five * 0.10) + (ten * 0.20) + ((exempted_sal - ten) * 0.30)  \n",
    "    elif exempted_sal > five:  \n",
    "        tax = (five * 0.10) + ((exempted_sal - five) * 0.20)  \n",
    "    else:  \n",
    "        tax = exempted_sal * 0.10  \n",
    "\n",
    "final_salary = pre_tax - tax  \n",
    "\n",
    "print(f\"In-hand salary is {final_salary}, deductions are {deduction}, and taxes are {tax}\")\n"
   ]
  },
  {
   "cell_type": "code",
   "execution_count": null,
   "metadata": {},
   "outputs": [],
   "source": []
  }
 ],
 "metadata": {
  "kernelspec": {
   "display_name": "Python 3",
   "language": "python",
   "name": "python3"
  },
  "language_info": {
   "codemirror_mode": {
    "name": "ipython",
    "version": 3
   },
   "file_extension": ".py",
   "mimetype": "text/x-python",
   "name": "python",
   "nbconvert_exporter": "python",
   "pygments_lexer": "ipython3",
   "version": "3.12.1"
  }
 },
 "nbformat": 4,
 "nbformat_minor": 2
}
