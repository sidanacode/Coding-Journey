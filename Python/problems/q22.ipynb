{
 "cells": [
  {
   "cell_type": "markdown",
   "metadata": {},
   "source": [
    "Write a program that will tell the number of dogs and chicken are \n",
    "there when the user will provide the value of total heads and legs. "
   ]
  },
  {
   "cell_type": "code",
   "execution_count": 10,
   "metadata": {},
   "outputs": [
    {
     "data": {
      "text/plain": [
       "('2 dogs', '1 chicken')"
      ]
     },
     "execution_count": 10,
     "metadata": {},
     "output_type": "execute_result"
    }
   ],
   "source": [
    "def dogs(num):\n",
    "    val = num//5\n",
    "    if(val==1):\n",
    "        return f\"{val} dog \"\n",
    "    elif(val>1):\n",
    "        return f\"{val} dogs\"\n",
    "    else:\n",
    "        return \"No dogs\"\n",
    "    \n",
    "def chicken(num):\n",
    "    val = num//3\n",
    "    if(val==1):\n",
    "        return f\"{val} chicken\"\n",
    "    elif(val>1):\n",
    "        return f\"{val} chickens\"\n",
    "    else:\n",
    "        return \"No chickens\"\n",
    "def app():   \n",
    "    usr_input = int(input(\"Enter total of head and legs\"))\n",
    "    chick = usr_input%5\n",
    "    return dogs(usr_input) , chicken(chick)\n",
    "\n",
    "app()"
   ]
  },
  {
   "cell_type": "code",
   "execution_count": null,
   "metadata": {},
   "outputs": [],
   "source": []
  }
 ],
 "metadata": {
  "kernelspec": {
   "display_name": "Python 3",
   "language": "python",
   "name": "python3"
  },
  "language_info": {
   "codemirror_mode": {
    "name": "ipython",
    "version": 3
   },
   "file_extension": ".py",
   "mimetype": "text/x-python",
   "name": "python",
   "nbconvert_exporter": "python",
   "pygments_lexer": "ipython3",
   "version": "3.13.2"
  }
 },
 "nbformat": 4,
 "nbformat_minor": 2
}
