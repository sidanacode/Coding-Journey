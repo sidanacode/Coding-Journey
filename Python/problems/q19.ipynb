{
 "cells": [
  {
   "cell_type": "markdown",
   "metadata": {},
   "source": [
    "Write a program that will check whether the number is armstrong \n",
    "number or not."
   ]
  },
  {
   "cell_type": "markdown",
   "metadata": {},
   "source": [
    "def narc(num=1):\n",
    "    sum = 0\n",
    "    num1 = num\n",
    "    while num>0:\n",
    "        rem = num%10\n",
    "        sum = (rem**3) + sum\n",
    "        num =  num //10\n",
    "    if(num1==sum):\n",
    "        return True\n",
    "    else:\n",
    "        return False\n",
    "num = int(input(\"Enter a number\"))\n",
    "narc(num)"
   ]
  }
 ],
 "metadata": {
  "kernelspec": {
   "display_name": "Python 3",
   "language": "python",
   "name": "python3"
  },
  "language_info": {
   "name": "python",
   "version": "3.12.1"
  }
 },
 "nbformat": 4,
 "nbformat_minor": 2
}
