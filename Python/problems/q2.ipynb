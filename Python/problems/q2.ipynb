{
 "cells": [
  {
   "cell_type": "markdown",
   "metadata": {},
   "source": [
    "Write a program that will convert celsius value to fahrenheit\n"
   ]
  },
  {
   "cell_type": "code",
   "execution_count": 1,
   "metadata": {},
   "outputs": [
    {
     "name": "stderr",
     "output_type": "stream",
     "text": [
      "<>:10: SyntaxWarning: 'float' object is not callable; perhaps you missed a comma?\n",
      "<>:10: SyntaxWarning: 'float' object is not callable; perhaps you missed a comma?\n"
     ]
    },
    {
     "name": "stdin",
     "output_type": "stream",
     "text": [
      "Enter type of conversion F or C q]\n",
      "Enter Temperature q\n"
     ]
    },
    {
     "ename": "ValueError",
     "evalue": "could not convert string to float: 'q'",
     "output_type": "error",
     "traceback": [
      "\u001b[31m---------------------------------------------------------------------------\u001b[39m",
      "\u001b[31mValueError\u001b[39m                                Traceback (most recent call last)",
      "\u001b[36mCell\u001b[39m\u001b[36m \u001b[39m\u001b[32mIn[1]\u001b[39m\u001b[32m, line 5\u001b[39m\n\u001b[32m      1\u001b[39m \u001b[38;5;66;03m# formula of conversion\u001b[39;00m\n\u001b[32m      2\u001b[39m \u001b[38;5;66;03m# f = C * (9/5) + 32\u001b[39;00m\n\u001b[32m      3\u001b[39m \u001b[38;5;66;03m# c = (f-32)*(5/9)\u001b[39;00m\n\u001b[32m      4\u001b[39m \u001b[38;5;28mtype\u001b[39m = \u001b[38;5;28minput\u001b[39m(\u001b[33m\"\u001b[39m\u001b[33mEnter type of conversion F or C\u001b[39m\u001b[33m\"\u001b[39m)\n\u001b[32m----> \u001b[39m\u001b[32m5\u001b[39m temp = \u001b[38;5;28;43mfloat\u001b[39;49m\u001b[43m(\u001b[49m\u001b[38;5;28;43minput\u001b[39;49m\u001b[43m(\u001b[49m\u001b[33;43m\"\u001b[39;49m\u001b[33;43mEnter Temperature\u001b[39;49m\u001b[33;43m\"\u001b[39;49m\u001b[43m)\u001b[49m\u001b[43m)\u001b[49m\n\u001b[32m      6\u001b[39m \u001b[38;5;28;01mif\u001b[39;00m \u001b[38;5;28mtype\u001b[39m == \u001b[33m'\u001b[39m\u001b[33mf\u001b[39m\u001b[33m'\u001b[39m \u001b[38;5;129;01mor\u001b[39;00m \u001b[33m'\u001b[39m\u001b[33mF\u001b[39m\u001b[33m'\u001b[39m:\n\u001b[32m      7\u001b[39m     f = (\u001b[32m9\u001b[39m/\u001b[32m5\u001b[39m)* temp + \u001b[32m32\u001b[39m\n",
      "\u001b[31mValueError\u001b[39m: could not convert string to float: 'q'"
     ]
    }
   ],
   "source": [
    "# formula of conversion\n",
    "# f = C * (9/5) + 32\n",
    "# c = (f-32)*(5/9)\n",
    "type = input(\"Enter type of conversion F or C\")\n",
    "temp = float(input(\"Enter Temperature\"))\n",
    "if type == 'f' or 'F':\n",
    "    f = (9/5)* temp + 32\n",
    "    print(\"{} deg in fahrenheit {}\".format(temp,f))\n",
    "elif type == 'c' or \"C\":\n",
    "    c = (5/9)(temp-32) \n",
    "    print(\"{} deg in celsius {}\".format(temp,c))\n",
    "else:\n",
    "    print(\"wrong input\")\n"
   ]
  },
  {
   "cell_type": "code",
   "execution_count": 12,
   "metadata": {},
   "outputs": [],
   "source": [
    "haystack = [\"hay\", \"junk\", \"hay\", \"hay\", \"moreJunk\", \"needle\", \"randomJunk\"]"
   ]
  },
  {
   "cell_type": "code",
   "execution_count": 10,
   "metadata": {},
   "outputs": [
    {
     "name": "stdout",
     "output_type": "stream",
     "text": [
      "found the needle at 5\n"
     ]
    }
   ],
   "source": [
    "for i in range(len(L)):\n",
    "    if(L[i]==\"needle\"):\n",
    "        print(f\"found the needle at {i}\")"
   ]
  },
  {
   "cell_type": "code",
   "execution_count": 11,
   "metadata": {},
   "outputs": [
    {
     "name": "stdout",
     "output_type": "stream",
     "text": [
      "needle at 5\n"
     ]
    }
   ],
   "source": [
    "print(f\"needle at {L.index(\"needle\")}\")"
   ]
  },
  {
   "cell_type": "code",
   "execution_count": 13,
   "metadata": {},
   "outputs": [],
   "source": [
    "def find_needle(haystack):\n",
    "    # your code here\n",
    "    return f\"found the needle at the position {haystack.index(\"needle\")}\""
   ]
  },
  {
   "cell_type": "code",
   "execution_count": 14,
   "metadata": {},
   "outputs": [
    {
     "data": {
      "text/plain": [
       "'found the needle at the position 5'"
      ]
     },
     "execution_count": 14,
     "metadata": {},
     "output_type": "execute_result"
    }
   ],
   "source": [
    "find_needle(haystack)"
   ]
  },
  {
   "cell_type": "code",
   "execution_count": 20,
   "metadata": {},
   "outputs": [],
   "source": [
    "def minimum(arr):\n",
    "    #your code here...\n",
    "    L = sorted(arr)\n",
    "    n = len(L)\n",
    "    return L[0]"
   ]
  },
  {
   "cell_type": "code",
   "execution_count": 21,
   "metadata": {},
   "outputs": [
    {
     "data": {
      "text/plain": [
       "1"
      ]
     },
     "execution_count": 21,
     "metadata": {},
     "output_type": "execute_result"
    }
   ],
   "source": [
    "minimum([5,4,3,2,1])"
   ]
  },
  {
   "cell_type": "code",
   "execution_count": null,
   "metadata": {},
   "outputs": [],
   "source": []
  }
 ],
 "metadata": {
  "kernelspec": {
   "display_name": "Python 3 (ipykernel)",
   "language": "python",
   "name": "python3"
  },
  "language_info": {
   "codemirror_mode": {
    "name": "ipython",
    "version": 3
   },
   "file_extension": ".py",
   "mimetype": "text/x-python",
   "name": "python",
   "nbconvert_exporter": "python",
   "pygments_lexer": "ipython3",
   "version": "3.13.2"
  }
 },
 "nbformat": 4,
 "nbformat_minor": 4
}
