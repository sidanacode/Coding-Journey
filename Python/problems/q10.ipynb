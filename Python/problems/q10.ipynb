{
 "cells": [
  {
   "cell_type": "markdown",
   "metadata": {},
   "source": [
    "Write a program that will take user input of cost price and selling\n",
    "price and determines whether its a loss or a profit"
   ]
  },
  {
   "cell_type": "code",
   "execution_count": 2,
   "metadata": {},
   "outputs": [
    {
     "name": "stdout",
     "output_type": "stream",
     "text": [
      "you are in profit of 23.0\n"
     ]
    }
   ],
   "source": [
    "cost_price = float(input(\"Enter a Cost Price\"))\n",
    "sell_price = float(input(\"Enter a Selling Price\"))\n",
    "amount = sell_price-cost_price \n",
    "if (amount)<0:\n",
    "    print(f\"you are in loss of {amount}\")\n",
    "elif(amount)>0:\n",
    "    print(f\"you are in profit of {amount}\")\n",
    "else:\n",
    "    print(\"Break even selling price = cost price\")\n",
    "    "
   ]
  },
  {
   "cell_type": "code",
   "execution_count": null,
   "metadata": {},
   "outputs": [],
   "source": []
  }
 ],
 "metadata": {
  "kernelspec": {
   "display_name": "Python 3",
   "language": "python",
   "name": "python3"
  },
  "language_info": {
   "codemirror_mode": {
    "name": "ipython",
    "version": 3
   },
   "file_extension": ".py",
   "mimetype": "text/x-python",
   "name": "python",
   "nbconvert_exporter": "python",
   "pygments_lexer": "ipython3",
   "version": "3.12.1"
  }
 },
 "nbformat": 4,
 "nbformat_minor": 2
}
