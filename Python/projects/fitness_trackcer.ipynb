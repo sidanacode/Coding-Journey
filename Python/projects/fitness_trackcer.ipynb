{
 "cells": [
  {
   "cell_type": "markdown",
   "id": "beb7ee28-5aa1-4ec6-a812-275d796f3266",
   "metadata": {},
   "source": [
    "## Fitness Tracker"
   ]
  },
  {
   "cell_type": "code",
   "execution_count": 5,
   "id": "22afe607-c5a3-4615-a3aa-f3fc846c9808",
   "metadata": {},
   "outputs": [],
   "source": [
    "from datetime import datetime,timedelta\n",
    "from dateutil.relativedelta import relativedelta\n",
    "from abc import ABC , abstractmethod\n",
    "class User(ABC):\n",
    "    def __init__(self):\n",
    "        self.weight = 0\n",
    "        self.height = 0\n",
    "        self.name = \"\"\n",
    "        self.calorie = 0\n",
    "        self.protein = 0\n",
    "    @abstractmethod\n",
    "    def streak_meter(self):\n",
    "        pass\n",
    "\n",
    "class Nutrition(User):\n",
    "    def __init__(self,calorie,protein):\n",
    "        super().__init__(calorie,protein)\n",
    "        self.calorie = calorie\n",
    "        self.protein = protein\n",
    "    def streak_meter(self):\n",
    "        pass\n",
    "    def "
   ]
  },
  {
   "cell_type": "code",
   "execution_count": null,
   "id": "db95ef84-36ff-403a-a138-832b4c0071c5",
   "metadata": {},
   "outputs": [],
   "source": []
  }
 ],
 "metadata": {
  "kernelspec": {
   "display_name": "Python 3 (ipykernel)",
   "language": "python",
   "name": "python3"
  },
  "language_info": {
   "codemirror_mode": {
    "name": "ipython",
    "version": 3
   },
   "file_extension": ".py",
   "mimetype": "text/x-python",
   "name": "python",
   "nbconvert_exporter": "python",
   "pygments_lexer": "ipython3",
   "version": "3.13.2"
  }
 },
 "nbformat": 4,
 "nbformat_minor": 5
}
